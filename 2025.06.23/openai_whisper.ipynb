{
 "cells": [
  {
   "cell_type": "code",
   "execution_count": 21,
   "metadata": {},
   "outputs": [
    {
     "name": "stdout",
     "output_type": "stream",
     "text": [
      "Transcription(text='Hi, can you tell me about yourself?', logprobs=None)\n"
     ]
    }
   ],
   "source": [
    "import os\n",
    "from openai import AzureOpenAI\n",
    "from pprint import pprint\n",
    "from dotenv import load_dotenv\n",
    "\n",
    "load_dotenv()\n",
    "\n",
    "client = AzureOpenAI(\n",
    "    api_key=os.getenv(\"AZURE_OPENAI_WHISPER_API_KEY\"),\n",
    "    api_version=\"2024-06-01\",\n",
    "    azure_endpoint=os.getenv(\"AZURE_OPENAI_WHISPER_ENDPOINT_URL\"),\n",
    ")\n",
    "\n",
    "deployment_id = os.getenv(\n",
    "    \"AZURE_OPENAI_WHISPER_DEPLOYMENT\"\n",
    ")  # This will correspond to the custom name you chose for your deployment when you deployed a model.\"\n",
    "\n",
    "audio_test_file = \"./recording_first.wav\"\n",
    "\n",
    "result = client.audio.transcriptions.create(\n",
    "    file=open(audio_test_file, \"rb\"), model=deployment_id, language=\"ko\", prompt=\"입력된 음성은 한국어야, 한국어로 출력해줘\"\n",
    ")\n",
    "\n",
    "pprint(result)"
   ]
  }
 ],
 "metadata": {
  "kernelspec": {
   "display_name": ".venv",
   "language": "python",
   "name": "python3"
  },
  "language_info": {
   "codemirror_mode": {
    "name": "ipython",
    "version": 3
   },
   "file_extension": ".py",
   "mimetype": "text/x-python",
   "name": "python",
   "nbconvert_exporter": "python",
   "pygments_lexer": "ipython3",
   "version": "3.11.9"
  }
 },
 "nbformat": 4,
 "nbformat_minor": 2
}
