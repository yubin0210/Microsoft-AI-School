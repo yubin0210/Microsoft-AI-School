{
 "cells": [
  {
   "cell_type": "markdown",
   "id": "98d71fdf",
   "metadata": {},
   "source": [
    "# 2025.04.11"
   ]
  },
  {
   "cell_type": "code",
   "execution_count": null,
   "id": "c160a7a0",
   "metadata": {},
   "outputs": [
    {
     "name": "stdout",
     "output_type": "stream",
     "text": [
      "성인\n",
      "미성년자\n"
     ]
    }
   ],
   "source": [
    "# 나이를 입력받아서 20살 이상이면 '성인', 아니면 '미성년자' 라는 메시지를 출력\n",
    "age = int(input(\"나이를 입력하세요: \"))\n",
    "result = \"\"\n",
    "if age >= 20:\n",
    "    result = \"성인\"\n",
    "else:\n",
    "    result = \"미성년자\"\n",
    "\n",
    "print(result)\n",
    "\n",
    "\n",
    "# 조건부 표현식\n",
    "age = int(input(\"나이를 입력하세요: \"))\n",
    "\n",
    "print(\"성인\" if age >= 20 else \"미성년자\")"
   ]
  },
  {
   "cell_type": "code",
   "execution_count": null,
   "id": "724c2bdd",
   "metadata": {},
   "outputs": [
    {
     "name": "stdout",
     "output_type": "stream",
     "text": [
      "B\n"
     ]
    }
   ],
   "source": [
    "score = 85\n",
    "\n",
    "grade = (\n",
    "    \"A\"\n",
    "    if score >= 90\n",
    "    else \"B\" if score >= 80 else \"C\" if score >= 70 else \"D\" if score >= 60 else \"F\"\n",
    ")\n",
    "\n",
    "print(grade)"
   ]
  },
  {
   "cell_type": "code",
   "execution_count": null,
   "id": "e122c69a",
   "metadata": {},
   "outputs": [
    {
     "name": "stdout",
     "output_type": "stream",
     "text": [
      "로그인 성공!\n"
     ]
    }
   ],
   "source": [
    "# 사용자로부터 암호(\"python\")를 입력받고 프로그램에서 암호가 맞는지를 체크하는 프로그램\n",
    "is_valid = False\n",
    "\n",
    "while not is_valid:\n",
    "    password = input(\"암호를 입력하세요: \")\n",
    "    is_valid = True if password == \"python\" else False\n",
    "\n",
    "print(\"로그인 성공!\")"
   ]
  },
  {
   "cell_type": "code",
   "execution_count": null,
   "id": "61b26c78",
   "metadata": {},
   "outputs": [
    {
     "name": "stdout",
     "output_type": "stream",
     "text": [
      "0 hello\n",
      "1 hello\n",
      "2 hello\n",
      "3 hello\n",
      "4 hello\n"
     ]
    }
   ],
   "source": [
    "for i in range(5):\n",
    "    print(i, \"Hello\")"
   ]
  },
  {
   "cell_type": "code",
   "execution_count": null,
   "id": "cdc72952",
   "metadata": {},
   "outputs": [
    {
     "name": "stdout",
     "output_type": "stream",
     "text": [
      "1부터 10까지의 합: 55\n"
     ]
    }
   ],
   "source": [
    "# for 반복문을 사용하여 1부터 10까지의 합 구하기\n",
    "total = 0\n",
    "for i in range(1, 11):\n",
    "    total += i\n",
    "\n",
    "print(\"1부터 10까지의 합:\", total)"
   ]
  },
  {
   "cell_type": "code",
   "execution_count": null,
   "id": "623bb6ee",
   "metadata": {},
   "outputs": [
    {
     "name": "stdout",
     "output_type": "stream",
     "text": [
      "5 x 1 = 5\n",
      "5 x 2 = 10\n",
      "5 x 3 = 15\n",
      "5 x 4 = 20\n",
      "5 x 5 = 25\n",
      "5 x 6 = 30\n",
      "5 x 7 = 35\n",
      "5 x 8 = 40\n",
      "5 x 9 = 45\n",
      "\n",
      "\n",
      "5 x 1 = 5\n",
      "5 x 2 = 10\n",
      "5 x 3 = 15\n",
      "5 x 4 = 20\n",
      "5 x 5 = 25\n",
      "5 x 6 = 30\n",
      "5 x 7 = 35\n",
      "5 x 8 = 40\n",
      "5 x 9 = 45\n"
     ]
    }
   ],
   "source": [
    "# 사용자로부터 입력받은 숫자에 해당되는 구구단을 출력\n",
    "number = int(input(\"구구단 몇 단을 출력할까요? \"))\n",
    "\n",
    "for i in range(1, 10):\n",
    "    print(f\"{number} x {i} = {number * i}\")\n",
    "print(f\"\\n\")\n",
    "\n",
    "i = 1\n",
    "while i < 10:\n",
    "    print(f\"{number} x {i} = {number * i}\")\n",
    "    i += 1"
   ]
  },
  {
   "cell_type": "code",
   "execution_count": null,
   "id": "bec214e9",
   "metadata": {},
   "outputs": [
    {
     "name": "stdout",
     "output_type": "stream",
     "text": [
      "정수: 6, 합계: 21\n"
     ]
    }
   ],
   "source": [
    "# 1부터 10까지 더하되, 합이 20 이상이 될 경우에 정수값 출력\n",
    "total = 0\n",
    "for i in range(1, 11):\n",
    "    total += i\n",
    "\n",
    "    if total >= 20:\n",
    "        print(f\"정수: {i}, 합계: {total}\")\n",
    "        break"
   ]
  },
  {
   "cell_type": "code",
   "execution_count": null,
   "id": "e9e060d1",
   "metadata": {},
   "outputs": [
    {
     "name": "stdout",
     "output_type": "stream",
     "text": [
      "1 3 5 7 9 합계: 25\n",
      "1 3 5 7 9 합계: 25\n"
     ]
    }
   ],
   "source": [
    "# 1부터 10까지의 정수 증 홀수와 홀수의 합 출력\n",
    "total_even = 0\n",
    "for i in range(1, 11):\n",
    "    if i % 2 == 0:\n",
    "        continue\n",
    "\n",
    "    print(i, end=\" \")\n",
    "    total_even += i\n",
    "\n",
    "print(f\"합계: {total_even}\")\n",
    "\n",
    "total_even = 0\n",
    "i = 1\n",
    "while i <= 10:\n",
    "    if i % 2 == 0:\n",
    "        i += 1\n",
    "        continue\n",
    "\n",
    "    print(i, end=\" \")\n",
    "    total_even += i\n",
    "    i += 1\n",
    "\n",
    "print(f\"합계: {total_even}\")"
   ]
  },
  {
   "cell_type": "code",
   "execution_count": null,
   "id": "717dd78a",
   "metadata": {},
   "outputs": [
    {
     "name": "stdout",
     "output_type": "stream",
     "text": [
      "UP\n",
      "DOWN\n",
      "DOWN\n",
      "UP\n",
      "DOWN\n",
      "DOWN\n",
      "DOWN\n",
      "DOWN\n",
      "DOWN\n",
      "29 정답입니다!\n"
     ]
    }
   ],
   "source": [
    "# 숫자 맞추기\n",
    "import random\n",
    "\n",
    "answer = random.randint(1, 100)\n",
    "\n",
    "while True:\n",
    "    user_number = int(input(\"1~100 사이의 숫자를 입력하세요: \"))\n",
    "\n",
    "    if user_number == answer:\n",
    "        break\n",
    "    elif user_number > answer:\n",
    "        print(\"DOWN\")\n",
    "    else:\n",
    "        print(\"UP\")\n",
    "\n",
    "print(f\"{answer} 정답입니다!\")"
   ]
  },
  {
   "cell_type": "code",
   "execution_count": 4,
   "id": "42076e75",
   "metadata": {},
   "outputs": [
    {
     "name": "stdout",
     "output_type": "stream",
     "text": [
      "1 2 4 7 8 11 13 14 16 17 19 "
     ]
    }
   ],
   "source": [
    "# while 문을 사용하여 20보다 작은 정수 중 3의 배수와 5의 배수를 제외하고 출력\n",
    "i = 1\n",
    "while True:\n",
    "    if 20 <= i:\n",
    "        break\n",
    "\n",
    "    if i % 3 == 0 or i % 5 == 0:\n",
    "        i += 1\n",
    "        continue\n",
    "\n",
    "    print(i, end=\" \")\n",
    "    i += 1"
   ]
  },
  {
   "cell_type": "code",
   "execution_count": 8,
   "id": "4d399065",
   "metadata": {},
   "outputs": [
    {
     "name": "stdout",
     "output_type": "stream",
     "text": [
      "2 4 6 8 10 12 14 16 18 \n",
      "\n",
      "3 6 9 12 15 18 21 24 27 \n",
      "\n",
      "4 8 12 16 20 24 28 32 36 \n",
      "\n",
      "5 10 15 20 25 30 35 40 45 \n",
      "\n",
      "6 12 18 24 30 36 42 48 54 \n",
      "\n",
      "7 14 21 28 35 42 49 56 63 \n",
      "\n",
      "8 16 24 32 40 48 56 64 72 \n",
      "\n",
      "9 18 27 36 45 54 63 72 81 \n",
      "\n"
     ]
    }
   ],
   "source": [
    "# for와 range 를 사용항 구구단 출력\n",
    "for i in range(2, 10):\n",
    "    for j in range(1, 10):\n",
    "        print(f\"{i * j}\", end=\" \")\n",
    "    print(\"\\n\")"
   ]
  },
  {
   "cell_type": "code",
   "execution_count": 12,
   "id": "348e97bf",
   "metadata": {},
   "outputs": [
    {
     "name": "stdout",
     "output_type": "stream",
     "text": [
      "* \n",
      "\n",
      "* * * \n",
      "\n",
      "* * * * * \n",
      "\n",
      "* * * * * * * \n",
      "\n",
      "* * * * * * * * * \n",
      "\n",
      "* * * * * * * * * * * \n",
      "\n",
      "* * * * * * * * * * * * * \n",
      "\n",
      "* * * * * * * * * * * * * * * \n",
      "\n",
      "* * * * * * * * * * * * * * * * * \n",
      "\n",
      "* * * * * * * * * * * * * * * * * * * "
     ]
    }
   ],
   "source": [
    "for i in range(1, 20):\n",
    "    if i % 2 == 0:\n",
    "        print(\"\\n\")\n",
    "        continue\n",
    "\n",
    "    for j in range(i):\n",
    "        print(\"*\", end=\" \")"
   ]
  },
  {
   "cell_type": "code",
   "execution_count": 13,
   "id": "b8def0be",
   "metadata": {},
   "outputs": [
    {
     "name": "stdout",
     "output_type": "stream",
     "text": [
      "* * * * * * * * * * * * * * * * * * * \n",
      "\n",
      "* * * * * * * * * * * * * * * * * \n",
      "\n",
      "* * * * * * * * * * * * * * * \n",
      "\n",
      "* * * * * * * * * * * * * \n",
      "\n",
      "* * * * * * * * * * * \n",
      "\n",
      "* * * * * * * * * \n",
      "\n",
      "* * * * * * * \n",
      "\n",
      "* * * * * \n",
      "\n",
      "* * * \n",
      "\n",
      "* "
     ]
    }
   ],
   "source": [
    "for i in range(1, 20):\n",
    "    if i % 2 == 0:\n",
    "        print(\"\\n\")\n",
    "        continue\n",
    "\n",
    "    for j in range(20 - i):\n",
    "        print(\"*\", end=\" \")"
   ]
  },
  {
   "cell_type": "code",
   "execution_count": null,
   "id": "68b1cdc2",
   "metadata": {},
   "outputs": [
    {
     "name": "stdout",
     "output_type": "stream",
     "text": [
      "                  * \n",
      "\n",
      "                * * \n",
      "\n",
      "              * * * \n",
      "\n",
      "            * * * * \n",
      "\n",
      "          * * * * * \n",
      "\n",
      "        * * * * * * \n",
      "\n",
      "      * * * * * * * \n",
      "\n",
      "    * * * * * * * * \n",
      "\n",
      "  * * * * * * * * * \n",
      "\n",
      "* * * * * * * * * * "
     ]
    }
   ],
   "source": [
    "for i in range(1, 20):\n",
    "    if i % 2 == 0:\n",
    "        print(\"\\n\")\n",
    "        continue\n",
    "\n",
    "    for j in range(int((20 - i) / 2)):\n",
    "        print(\" \", end=\" \")\n",
    "\n",
    "    for j in range(int(i / 2) + 1):\n",
    "        print(\"*\", end=\" \")"
   ]
  },
  {
   "cell_type": "code",
   "execution_count": 25,
   "id": "e867c7a5",
   "metadata": {},
   "outputs": [
    {
     "name": "stdout",
     "output_type": "stream",
     "text": [
      "                  * \n",
      "\n",
      "                * * * \n",
      "\n",
      "              * * * * * \n",
      "\n",
      "            * * * * * * * \n",
      "\n",
      "          * * * * * * * * * \n",
      "\n",
      "        * * * * * * * * * * * \n",
      "\n",
      "      * * * * * * * * * * * * * \n",
      "\n",
      "    * * * * * * * * * * * * * * * \n",
      "\n",
      "  * * * * * * * * * * * * * * * * * \n",
      "\n",
      "* * * * * * * * * * * * * * * * * * * "
     ]
    }
   ],
   "source": [
    "for i in range(1, 20):\n",
    "    if i % 2 == 0:\n",
    "        print(\"\\n\")\n",
    "        continue\n",
    "\n",
    "    for j in range(int((20 - i) / 2)):\n",
    "        print(\" \", end=\" \")\n",
    "\n",
    "    for j in range(i):\n",
    "        print(\"*\", end=\" \")"
   ]
  },
  {
   "cell_type": "code",
   "execution_count": null,
   "id": "9b12542d",
   "metadata": {},
   "outputs": [
    {
     "name": "stdout",
     "output_type": "stream",
     "text": [
      "<class 'list'> [1, 2, '3']\n"
     ]
    }
   ],
   "source": [
    "# List\n",
    "value_1 = 1\n",
    "value_2 = 2\n",
    "value_3 = \"3\"\n",
    "\n",
    "values = [1, 2, \"3\"]\n",
    "print(type(values), values)"
   ]
  },
  {
   "cell_type": "code",
   "execution_count": 10,
   "id": "83975b9f",
   "metadata": {},
   "outputs": [
    {
     "name": "stdout",
     "output_type": "stream",
     "text": [
      "['a', 'b']\n",
      "[100, 2, 3, ['a', 'b', 'c'], 4, 5]\n",
      "[100, 200, 300, ['a', 'b', 'c'], 4, 5]\n",
      "[100, 200, 300, ['a', 'b', 'c'], 4, 5, 'apple']\n",
      "[100, 200, 'banana', 300, ['a', 'b', 'c'], 4, 5, 'apple']\n",
      "[100, 200]\n"
     ]
    }
   ],
   "source": [
    "datas = [1, 2, 3, [\"a\", \"b\", \"c\"], 4, 5]\n",
    "print(datas[3][0:2])\n",
    "\n",
    "datas[0] = 100\n",
    "print(datas)\n",
    "\n",
    "datas[1:3] = [200, 300]\n",
    "print(datas)\n",
    "\n",
    "datas.append('apple')\n",
    "print(datas)\n",
    "\n",
    "datas.insert(2, 'banana')\n",
    "print(datas)\n",
    "\n",
    "del datas[2:]\n",
    "print(datas)"
   ]
  },
  {
   "cell_type": "code",
   "execution_count": 12,
   "id": "099fc574",
   "metadata": {},
   "outputs": [
    {
     "name": "stdout",
     "output_type": "stream",
     "text": [
      "[1, 2, 4, 5]\n",
      "[1, 2, 4, 5]\n",
      "[5, 4, 2, 1]\n"
     ]
    }
   ],
   "source": [
    "datas = [1, 2, 3, 4, 5]\n",
    "\n",
    "datas.remove(3)\n",
    "print(datas)\n",
    "\n",
    "datas.sort()\n",
    "print(datas)\n",
    "\n",
    "datas.sort(reverse=True)\n",
    "print(datas)\n"
   ]
  },
  {
   "cell_type": "code",
   "execution_count": 13,
   "id": "fd4fcffd",
   "metadata": {},
   "outputs": [
    {
     "name": "stdout",
     "output_type": "stream",
     "text": [
      "90\n",
      "25\n",
      "67\n",
      "45\n",
      "88\n"
     ]
    }
   ],
   "source": [
    "scores = [90, 25, 67, 45, 88]\n",
    "\n",
    "for score in scores:\n",
    "    print(score)"
   ]
  },
  {
   "cell_type": "code",
   "execution_count": null,
   "id": "f511f150",
   "metadata": {},
   "outputs": [
    {
     "name": "stdout",
     "output_type": "stream",
     "text": [
      "1 90 통과\n",
      "5 88 통과\n"
     ]
    }
   ],
   "source": [
    "scores = [90, 25, 67, 45, 88]\n",
    "\n",
    "position = 0\n",
    "for score in scores:\n",
    "    position += 1\n",
    "    if score >= 80\n",
    "        print(f\"{position}: {score} 통과\")"
   ]
  },
  {
   "cell_type": "code",
   "execution_count": 30,
   "id": "c2393bd1",
   "metadata": {},
   "outputs": [
    {
     "name": "stdout",
     "output_type": "stream",
     "text": [
      "다리미 -> 미소 -> 소방소 -> 강아지 -> 땡 게임종료\n"
     ]
    }
   ],
   "source": [
    "# 끝말잇기\n",
    "word = input(\"시작 단어를 입력하세요: \")\n",
    "print(word, end=\" -> \")\n",
    "\n",
    "while True:\n",
    "    next_word = input(\"다음 단어를 입력하세요: \")\n",
    "\n",
    "    print(next_word, end=\" -> \")\n",
    "    if word[-1] == next_word[0]:\n",
    "        word = next_word\n",
    "\n",
    "        continue\n",
    "    else:\n",
    "        print(f\"땡 게임종료\")\n",
    "\n",
    "        break"
   ]
  },
  {
   "cell_type": "code",
   "execution_count": 32,
   "id": "d20d7daf",
   "metadata": {},
   "outputs": [
    {
     "name": "stdout",
     "output_type": "stream",
     "text": [
      "홍길동\n",
      "20\n",
      "dict_keys(['name', 'age', 'address'])\n",
      "dict_values(['홍길동', 20, '서울'])\n",
      "dict_items([('name', '홍길동'), ('age', 20), ('address', '서울')])\n"
     ]
    }
   ],
   "source": [
    "# Dictionary\n",
    "personal_information = {\n",
    "    \"name\": \"홍길동\",\n",
    "    \"age\": 20,\n",
    "    \"address\": \"서울\",\n",
    "}\n",
    "\n",
    "print(personal_information[\"name\"])\n",
    "print(personal_information.get(\"age\"))\n",
    "\n",
    "print(personal_information.keys())\n",
    "print(personal_information.values())\n",
    "print(personal_information.items())"
   ]
  },
  {
   "cell_type": "code",
   "execution_count": 41,
   "id": "edad2a09",
   "metadata": {},
   "outputs": [
    {
     "name": "stdout",
     "output_type": "stream",
     "text": [
      "메뉴 선택 오류입니다. 다시 선택하세요.\n",
      "검색 가능한 이름: ['장한별']\n",
      "전화번호: 010-5155-6821\n",
      "프로그램을 종료합니다.\n"
     ]
    }
   ],
   "source": [
    "# 전화번호 검색 프로그램\n",
    "# 1. 추가하기\n",
    "#   - 이름, 전화번호 입력\n",
    "# 2. 검색\n",
    "#   - 이름 입력 후 존재할 경우 전화번호 반환\n",
    "#   - \n",
    "# 3. 예외 처리\n",
    "#   - 존재하지 않는 메뉴 입력 시, 재입력 요구\n",
    "# 4. 종료\n",
    "#   - 0 입력 시 종료\n",
    "\n",
    "contacts = []\n",
    "\n",
    "while True:\n",
    "    user_input = input(f\"메뉴 선택 (1: 추가, 2: 검색, 0: 종료): \")\n",
    "\n",
    "    if user_input == \"1\":\n",
    "        name_input = input(\"이름 입력: \")\n",
    "        phone_number_input = input(\"전화번호 입력:\")\n",
    "\n",
    "        contacts.append({\"name\": name_input, \"phone_number\": phone_number_input})\n",
    "    elif user_input == \"2\":\n",
    "        print(f\"검색 가능한 이름: {[contact['name'] for contact in contacts]}\")\n",
    "        \n",
    "        search_name_input = input(\"검색 이름 입력: \")\n",
    "\n",
    "        for contact in contacts:\n",
    "            if contact[\"name\"] == search_name_input:\n",
    "                print(f\"전화번호: {contact['phone_number']}\")\n",
    "                break\n",
    "    elif user_input == \"0\":\n",
    "        print(\"프로그램을 종료합니다.\")\n",
    "        break\n",
    "    else: \n",
    "        print(\"메뉴 선택 오류입니다. 다시 선택하세요.\")\n"
   ]
  },
  {
   "cell_type": "code",
   "execution_count": null,
   "id": "403c5982",
   "metadata": {},
   "outputs": [],
   "source": []
  }
 ],
 "metadata": {
  "kernelspec": {
   "display_name": ".venv",
   "language": "python",
   "name": "python3"
  },
  "language_info": {
   "codemirror_mode": {
    "name": "ipython",
    "version": 3
   },
   "file_extension": ".py",
   "mimetype": "text/x-python",
   "name": "python",
   "nbconvert_exporter": "python",
   "pygments_lexer": "ipython3",
   "version": "3.11.9"
  }
 },
 "nbformat": 4,
 "nbformat_minor": 5
}
