{
 "cells": [
  {
   "cell_type": "code",
   "execution_count": 1,
   "metadata": {},
   "outputs": [],
   "source": [
    "import pandas as pd\n",
    "import numpy as np\n",
    "\n",
    "import os\n",
    "\n",
    "def load_hotel_reserve():\n",
    "  customer_tb = pd.read_csv('../awesomebook-master/data/customer.csv')\n",
    "  hotel_tb = pd.read_csv('../awesomebook-master/data/hotel.csv')\n",
    "  reserve_tb = pd.read_csv('../awesomebook-master/data/reserve.csv')\n",
    "  return customer_tb, hotel_tb, reserve_tb\n",
    " \n",
    "\n",
    "def load_holiday_mst():\n",
    "  holiday_tb = pd.read_csv('../awesomebook-master/data/holiday_mst.csv',\n",
    "                           index_col=False)\n",
    "  return holiday_tb\n",
    "\n",
    "\n",
    "def load_production():\n",
    "  production_tb = pd.read_csv('../awesomebook-master/data/production.csv')\n",
    "  return production_tb\n",
    "\n",
    "\n",
    "def load_production_missing_num():\n",
    "  production_tb = pd.read_csv('../awesomebook-master/data/production_missing_num.csv')\n",
    "  return production_tb\n",
    "\n",
    "\n",
    "def load_production_missing_category():\n",
    "  production_tb = pd.read_csv('../awesomebook-master/data/production_missing_category.csv')\n",
    "  return production_tb\n",
    "\n",
    "\n",
    "def load_monthly_index():\n",
    "  monthly_index_tb = \\\n",
    "    pd.read_csv('../awesomebook-master/data/monthly_index.csv')\n",
    "  return monthly_index_tb\n",
    "\n",
    "\n",
    "def load_meros_txt():\n",
    "  with open('../awesomebook-master/data/txt/meros.txt', 'r') as f:\n",
    "    meros = f.read()\n",
    "    f.close()\n",
    "  return meros\n"
   ]
  },
  {
   "cell_type": "code",
   "execution_count": 2,
   "metadata": {},
   "outputs": [],
   "source": [
    "customer_tb, hotel_tb, reserve_tb = load_hotel_reserve()"
   ]
  }
 ],
 "metadata": {
  "kernelspec": {
   "display_name": "Python 3",
   "language": "python",
   "name": "python3"
  },
  "language_info": {
   "codemirror_mode": {
    "name": "ipython",
    "version": 3
   },
   "file_extension": ".py",
   "mimetype": "text/x-python",
   "name": "python",
   "nbconvert_exporter": "python",
   "pygments_lexer": "ipython3",
   "version": "3.11.9"
  }
 },
 "nbformat": 4,
 "nbformat_minor": 2
}
