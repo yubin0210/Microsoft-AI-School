{
 "cells": [
  {
   "cell_type": "code",
   "execution_count": 1,
   "metadata": {},
   "outputs": [],
   "source": [
    "import pandas as pd\n",
    "import numpy as np\n",
    "\n",
    "import os\n",
    "\n",
    "def load_hotel_reserve():\n",
    "  customer_tb = pd.read_csv('../awesomebook-master/data/customer.csv')\n",
    "  hotel_tb = pd.read_csv('../awesomebook-master/data/hotel.csv')\n",
    "  reserve_tb = pd.read_csv('../awesomebook-master/data/reserve.csv')\n",
    "  return customer_tb, hotel_tb, reserve_tb\n",
    "\n",
    "\n",
    "def load_holiday_mst():\n",
    "  holiday_tb = pd.read_csv('../awesomebook-master/data/holiday_mst.csv',\n",
    "                           index_col=False)\n",
    "  return holiday_tb\n",
    "\n",
    "\n",
    "def load_production():\n",
    "  production_tb = pd.read_csv('../awesomebook-master/data/production.csv')\n",
    "  return production_tb\n",
    "\n",
    "\n",
    "def load_production_missing_num():\n",
    "  production_tb = pd.read_csv('../awesomebook-master/data/production_missing_num.csv')\n",
    "  return production_tb\n",
    "\n",
    "\n",
    "def load_production_missing_category():\n",
    "  production_tb = pd.read_csv('../awesomebook-master/data/production_missing_category.csv')\n",
    "  return production_tb\n",
    "\n",
    "\n",
    "def load_monthly_index():\n",
    "  monthly_index_tb = \\\n",
    "    pd.read_csv('../awesomebook-master/data/monthly_index.csv')\n",
    "  return monthly_index_tb\n",
    "\n",
    "\n",
    "def load_meros_txt():\n",
    "  with open('../awesomebook-master/data/txt/meros.txt', 'r') as f:\n",
    "    meros = f.read()\n",
    "    f.close()\n",
    "  return meros\n"
   ]
  },
  {
   "cell_type": "code",
   "execution_count": 3,
   "metadata": {},
   "outputs": [
    {
     "name": "stdout",
     "output_type": "stream",
     "text": [
      "          length  thickness\n",
      "0     274.027383  40.241131\n",
      "1      86.319269  16.906715\n",
      "2     123.940388   1.018462\n",
      "3     175.554886  16.414924\n",
      "4     244.934740  29.061081\n",
      "...          ...        ...\n",
      "1891   83.027175  12.307428\n",
      "1892   76.554335   9.363658\n",
      "1893   80.078486  10.566607\n",
      "1894  115.081638   6.771068\n",
      "1895   98.229626   1.371432\n",
      "\n",
      "[1896 rows x 2 columns]\n",
      "0       False\n",
      "1       False\n",
      "2       False\n",
      "3       False\n",
      "4       False\n",
      "        ...  \n",
      "1891     True\n",
      "1892     True\n",
      "1893     True\n",
      "1894     True\n",
      "1895     True\n",
      "Name: fault_flg, Length: 1896, dtype: bool\n"
     ]
    }
   ],
   "source": [
    "production_tb = load_production()\n",
    "\n",
    "from imblearn.over_sampling import SMOTE\n",
    "\n",
    "sm = SMOTE(sampling_strategy='auto', k_neighbors=5, random_state=71)\n",
    "\n",
    "balance_data, balance_target = sm.fit_resample(production_tb[['length', 'thickness']], production_tb['fault_flg'])\n",
    "\n",
    "print(balance_data)\n",
    "print(balance_target)"
   ]
  }
 ],
 "metadata": {
  "kernelspec": {
   "display_name": "Python 3",
   "language": "python",
   "name": "python3"
  },
  "language_info": {
   "codemirror_mode": {
    "name": "ipython",
    "version": 3
   },
   "file_extension": ".py",
   "mimetype": "text/x-python",
   "name": "python",
   "nbconvert_exporter": "python",
   "pygments_lexer": "ipython3",
   "version": "3.11.9"
  }
 },
 "nbformat": 4,
 "nbformat_minor": 2
}
