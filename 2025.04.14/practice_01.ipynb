{
 "cells": [
  {
   "cell_type": "markdown",
   "id": "23bf0d9a",
   "metadata": {},
   "source": [
    "# Tuple"
   ]
  },
  {
   "cell_type": "code",
   "execution_count": 22,
   "id": "6d2abe89",
   "metadata": {},
   "outputs": [
    {
     "data": {
      "text/plain": [
       "tuple"
      ]
     },
     "execution_count": 22,
     "metadata": {},
     "output_type": "execute_result"
    }
   ],
   "source": [
    "t1 = (1, 2, 'a', ('ab', 'cd'))\n",
    "\n",
    "type(t1)"
   ]
  },
  {
   "cell_type": "code",
   "execution_count": 23,
   "id": "a503a622",
   "metadata": {},
   "outputs": [
    {
     "ename": "TypeError",
     "evalue": "'tuple' object does not support item assignment",
     "output_type": "error",
     "traceback": [
      "\u001b[31m---------------------------------------------------------------------------\u001b[39m",
      "\u001b[31mTypeError\u001b[39m                                 Traceback (most recent call last)",
      "\u001b[36mCell\u001b[39m\u001b[36m \u001b[39m\u001b[32mIn[23]\u001b[39m\u001b[32m, line 7\u001b[39m\n\u001b[32m      5\u001b[39m \u001b[38;5;66;03m# tuple은 immutable이므로 수정 불가\u001b[39;00m\n\u001b[32m      6\u001b[39m data_tuple = (\u001b[32m1\u001b[39m, \u001b[32m2\u001b[39m, \u001b[32m3\u001b[39m, \u001b[32m4\u001b[39m, \u001b[32m5\u001b[39m)\n\u001b[32m----> \u001b[39m\u001b[32m7\u001b[39m \u001b[43mdata_tuple\u001b[49m\u001b[43m[\u001b[49m\u001b[32;43m0\u001b[39;49m\u001b[43m]\u001b[49m = \u001b[32m100\u001b[39m\n\u001b[32m      8\u001b[39m \u001b[38;5;28;01mdel\u001b[39;00m data_tuple[\u001b[32m0\u001b[39m]\n",
      "\u001b[31mTypeError\u001b[39m: 'tuple' object does not support item assignment"
     ]
    }
   ],
   "source": [
    "# list는 mutable이므로 수정 가능\n",
    "data_list = [1, 2, 3, 4, 5]\n",
    "data_list[0] = 100\n",
    "\n",
    "# tuple은 immutable이므로 수정 불가\n",
    "data_tuple = (1, 2, 3, 4, 5)\n",
    "data_tuple[0] = 100\n",
    "del data_tuple[0]"
   ]
  },
  {
   "cell_type": "markdown",
   "id": "128c84c9",
   "metadata": {},
   "source": [
    "# Set"
   ]
  },
  {
   "cell_type": "code",
   "execution_count": 24,
   "id": "175fc349",
   "metadata": {},
   "outputs": [
    {
     "name": "stdout",
     "output_type": "stream",
     "text": [
      "{'IBM', 'AAPL', 'MSFT'}\n"
     ]
    }
   ],
   "source": [
    "data_set = {\"IBM\", \"AAPL\", \"MSFT\", \"IBM\", \"AAPL\", \"MSFT\"}\n",
    "\n",
    "print(data_set)"
   ]
  },
  {
   "cell_type": "code",
   "execution_count": 25,
   "id": "a5fa886e",
   "metadata": {},
   "outputs": [
    {
     "name": "stdout",
     "output_type": "stream",
     "text": [
      "정답입니다.\n",
      "정답입니다.\n"
     ]
    }
   ],
   "source": [
    "# 사용자로 입력 받은 단어가 fruit 리스트에 포함되어 있는지 확인한 뒤,\n",
    "# 포함되어있으면 \"정답입니다.\" 출력\n",
    "# 포함되어있지 않으면 \"오답입니다.\" 출력\n",
    "\n",
    "fruits = [\"사과\",\"포도\",\"홍시\"]\n",
    "\n",
    "user_fruit = input(\"좋아하는 과일은? \")\n",
    "\n",
    "print(\"정답입니다.\" if user_fruit in fruits else \"오답입니다.\")\n",
    "\n",
    "if user_fruit in fruits:\n",
    "    print(\"정답입니다.\")\n",
    "else:\n",
    "    print(\"오답입니다.\")"
   ]
  },
  {
   "cell_type": "code",
   "execution_count": 28,
   "id": "45127199",
   "metadata": {},
   "outputs": [
    {
     "name": "stdout",
     "output_type": "stream",
     "text": [
      "Alice 평균:  89.0\n",
      "Bob 평균:  82.0\n",
      "Charlie 평균:  92.0\n",
      "전체 평균: 87.66666666666667\n",
      "90점 이상인 학생명단: ['Alice', 'Charlie']\n"
     ]
    }
   ],
   "source": [
    "# 세 명의 학생과 각 학생의 성적을 리스트와 딕셔너리로 표현\n",
    "# 각 학생의 평균 성적을 계산하여 출력\n",
    "# 전체 학생들의 평균 성적을 출력\n",
    "# 또한, 성적이 90 이상이 하나라도 있는 학생들을 찾아서 출력\n",
    "students = [\n",
    "    {\n",
    "        \"name\": \"Alice\",\n",
    "        \"scores\": [90, 85, 92]\n",
    "    },\n",
    "    {\n",
    "        \"name\": \"Bob\",\n",
    "        \"scores\": [78, 80, 88]\n",
    "    },\n",
    "    {\n",
    "        \"name\": \"Charlie\",\n",
    "        \"scores\": [95, 92, 89]\n",
    "    }\n",
    "]\n",
    "\n",
    "sum_of_average_scores = 0\n",
    "students_include_over_90 = []\n",
    "\n",
    "# 각 학생의 평균 성적\n",
    "# 1. students 리스트 순회\n",
    "# 2. '{학생 이름} 평균: ' 출력\n",
    "# 3. 해당 학생의 scores의 합계를 구하고, 길이를 가지고 평균을 계산\n",
    "# 4. 평균 점수 출력 \n",
    "# 5. 평균 점수를 전체 평균에 더하기\n",
    "for student in students:\n",
    "    print(f\"{student['name']} 평균: \", end=\" \")\n",
    "\n",
    "    student_total_score = 0\n",
    "    for score in student['scores']:\n",
    "        student_total_score += score\n",
    "\n",
    "    average_score = student_total_score / len(student['scores'])\n",
    "    sum_of_average_scores += average_score\n",
    "    print(f\"{average_score:.1f}\")\n",
    "\n",
    "    if any(90 <= score for score in student[\"scores\"]):\n",
    "        students_include_over_90.append(student[\"name\"])\n",
    "\n",
    "# 전체 학생의 전체 평균\n",
    "# 1. '전체 평균: ' 출력\n",
    "# 2. 전체 평균 점수의 합에서 전체 학생 수로 나누기\n",
    "# 3. {전체 평균 점수} 출력\n",
    "print(f\"전체 평균: {sum_of_average_scores / len(students)}\")\n",
    "\n",
    "# 점수가 90점 이상이 하나 이상 있는 학생 명단\n",
    "# 1. '90점 이상인 학생명단: ' 출력\n",
    "# 2. students_include_over_90 리스트 출력\n",
    "print(f\"90점 이상인 학생명단: {students_include_over_90}\")"
   ]
  },
  {
   "cell_type": "markdown",
   "id": "0481336f",
   "metadata": {},
   "source": [
    "# 함수"
   ]
  },
  {
   "cell_type": "code",
   "execution_count": 29,
   "id": "6a0d6fa7",
   "metadata": {},
   "outputs": [
    {
     "name": "stdout",
     "output_type": "stream",
     "text": [
      "함수 호출\n"
     ]
    }
   ],
   "source": [
    "def function_name(parameter):\n",
    "    \n",
    "    # 함수 내용\n",
    "\n",
    "    return parameter\n",
    "\n",
    "print(function_name('함수 호출'))"
   ]
  },
  {
   "cell_type": "code",
   "execution_count": 30,
   "id": "0b44d36a",
   "metadata": {},
   "outputs": [
    {
     "data": {
      "text/plain": [
       "3"
      ]
     },
     "execution_count": 30,
     "metadata": {},
     "output_type": "execute_result"
    }
   ],
   "source": [
    "# 덧셈을 진행할 함수 선언\n",
    "def add(a, b):\n",
    "    return a + b\n",
    "\n",
    "# add 함수 호출\n",
    "add(1, 2)"
   ]
  },
  {
   "cell_type": "code",
   "execution_count": 31,
   "id": "fdf5150f",
   "metadata": {},
   "outputs": [
    {
     "name": "stdout",
     "output_type": "stream",
     "text": [
      "12\n",
      "12\n"
     ]
    }
   ],
   "source": [
    "# 3개의 숫자를 입력받아 가장 큰 수를 출력하는 num_max 함수\n",
    "def num_max(a, b, c):\n",
    "    if a >= b and a >= c:\n",
    "        return a\n",
    "    elif b >= a and b >= c:\n",
    "        return b\n",
    "    else:\n",
    "        return c\n",
    "\n",
    "print(num_max(10, 12, 7))\n",
    "\n",
    "\n",
    "# 숫자 배열을 입력받아 가장 작은 값을 출력하는 num_min 함수\n",
    "def num_min(numbers):\n",
    "    min = numbers[0]\n",
    "    for number in numbers:\n",
    "        if number < min:\n",
    "            min = number\n",
    "\n",
    "    return min\n",
    "\n",
    "print(num_min([52, 273, 32, 103, 12, 275, 24, 57]))"
   ]
  },
  {
   "cell_type": "code",
   "execution_count": 32,
   "id": "9b191b77",
   "metadata": {},
   "outputs": [
    {
     "name": "stdout",
     "output_type": "stream",
     "text": [
      "True\n",
      "False\n",
      "True\n",
      "False\n",
      "False\n"
     ]
    }
   ],
   "source": [
    "# 윤년을 확인하는 함수 \n",
    "# 4로 나누어 떨어지는 해는 윤년\n",
    "# 100으로 나누어 떨어지는 해는 평년\n",
    "# 400으로 나누어 떨어지는 해는 윤년\n",
    "\n",
    "def is_leap_year(year):\n",
    "    if year % 4 == 0:\n",
    "        if year % 100 == 0:\n",
    "            if year % 400 == 0:\n",
    "                return True\n",
    "            else:\n",
    "                return False\n",
    "        else:\n",
    "            return True\n",
    "    else:\n",
    "        return False\n",
    "\n",
    "print(is_leap_year(2000))  # True\n",
    "print(is_leap_year(1900))  # False\n",
    "print(is_leap_year(2020))  # True\n",
    "print(is_leap_year(2021))  # False\n",
    "print(is_leap_year(2022))  # False"
   ]
  },
  {
   "cell_type": "code",
   "execution_count": 33,
   "id": "47439a11",
   "metadata": {},
   "outputs": [
    {
     "name": "stdout",
     "output_type": "stream",
     "text": [
      "15\n",
      "6\n",
      "11\n"
     ]
    }
   ],
   "source": [
    "def add_many(*args):\n",
    "    total = 0\n",
    "    for number in args:\n",
    "        total += number\n",
    "    \n",
    "    return total\n",
    "\n",
    "print(add_many(1, 2, 3, 4, 5))  # 15\n",
    "print(add_many(1, 2, 3))  # 6\n",
    "print(add_many(1, 10))  # 11"
   ]
  },
  {
   "cell_type": "code",
   "execution_count": 34,
   "id": "7af5305b",
   "metadata": {},
   "outputs": [
    {
     "name": "stdout",
     "output_type": "stream",
     "text": [
      "15\n",
      "120\n"
     ]
    }
   ],
   "source": [
    "# add_mul 함수 구현\n",
    "# result = add_mul('add', 1,2,3,4,5) -> 15\n",
    "# result = add_mul('mul', 1,2,3,4,5) > 120\n",
    "\n",
    "def add_mul(operator, *numbers):\n",
    "    if operator == 'add':\n",
    "        result = 0\n",
    "        for number in numbers:\n",
    "            result += number\n",
    "    elif operator == 'mul':\n",
    "        result = 1\n",
    "        for number in numbers:\n",
    "            result *= number\n",
    "\n",
    "    return result\n",
    "\n",
    "print(add_mul('add', 1, 2, 3, 4, 5))  # 15\n",
    "print(add_mul('mul', 1, 2, 3, 4, 5))  # 120\n"
   ]
  },
  {
   "cell_type": "code",
   "execution_count": 35,
   "id": "ca672632",
   "metadata": {},
   "outputs": [
    {
     "name": "stdout",
     "output_type": "stream",
     "text": [
      "(7, 12)\n",
      "7\n",
      "12\n"
     ]
    }
   ],
   "source": [
    "def add_and_mul(a, b):\n",
    "    return a + b, a * b\n",
    "\n",
    "result = add_and_mul(3, 4)\n",
    "print(result)  # (7, 12)\n",
    "\n",
    "result_1, result_2 = add_and_mul(3, 4)\n",
    "print(result_1)  # 7\n",
    "print(result_2)  # 12"
   ]
  },
  {
   "cell_type": "code",
   "execution_count": 36,
   "id": "b54dadc1",
   "metadata": {},
   "outputs": [
    {
     "name": "stdout",
     "output_type": "stream",
     "text": [
      "(13, 7, 30, 3)\n",
      "13\n",
      "7\n",
      "30\n",
      "3\n"
     ]
    }
   ],
   "source": [
    "# 두 수를 받아 합, 차, 곱, 몫을 리턴하는 함수 구현\n",
    "def calculate(a, b):\n",
    "    return a + b, a - b, a * b, a // b\n",
    "\n",
    "print(calculate(10, 3))  # (13, 7, 30, 3)\n",
    "\n",
    "add_result, sub_result, mul_result, div_result = calculate(10, 3)\n",
    "print(add_result)  # 13\n",
    "print(sub_result)  # 7\n",
    "print(mul_result)  # 30\n",
    "print(div_result)  # 3"
   ]
  },
  {
   "cell_type": "code",
   "execution_count": 37,
   "id": "ffd313ba",
   "metadata": {},
   "outputs": [
    {
     "name": "stdout",
     "output_type": "stream",
     "text": [
      "Alice 25 False\n"
     ]
    }
   ],
   "source": [
    "def say_hello(name, age, man=True):\n",
    "    print(name, age, man)\n",
    "\n",
    "say_hello(\"Alice\", 25, False)  # Alice 25 False"
   ]
  },
  {
   "cell_type": "code",
   "execution_count": 38,
   "id": "4285d282",
   "metadata": {},
   "outputs": [
    {
     "ename": "SyntaxError",
     "evalue": "non-default argument follows default argument (161562638.py, line 1)",
     "output_type": "error",
     "traceback": [
      "  \u001b[36mCell\u001b[39m\u001b[36m \u001b[39m\u001b[32mIn[38]\u001b[39m\u001b[32m, line 1\u001b[39m\n\u001b[31m    \u001b[39m\u001b[31mdef say_hello(name, man=True, age):\u001b[39m\n                                  ^\n\u001b[31mSyntaxError\u001b[39m\u001b[31m:\u001b[39m non-default argument follows default argument\n"
     ]
    }
   ],
   "source": [
    "def say_hello(name, man=True, age):\n",
    "    print(name, age, man)\n",
    "\n",
    "# 에러에 대한 설명\n",
    "# 기본 인자값이 있는 인자보다 뒤에 위치할 수 없다."
   ]
  },
  {
   "cell_type": "code",
   "execution_count": 39,
   "id": "a8a5f4fd",
   "metadata": {},
   "outputs": [
    {
     "name": "stdout",
     "output_type": "stream",
     "text": [
      "1\n"
     ]
    }
   ],
   "source": [
    "a = 1\n",
    "\n",
    "def vartest(a):\n",
    "    # 지역 변수 a = 1\n",
    "    a = a + 1\n",
    "\n",
    "# a = 1\n",
    "vartest(a)\n",
    "\n",
    "# a = 1\n",
    "print(a)"
   ]
  },
  {
   "cell_type": "code",
   "execution_count": 40,
   "id": "4bf527ce",
   "metadata": {},
   "outputs": [
    {
     "ename": "NameError",
     "evalue": "name 'b' is not defined",
     "output_type": "error",
     "traceback": [
      "\u001b[31m---------------------------------------------------------------------------\u001b[39m",
      "\u001b[31mNameError\u001b[39m                                 Traceback (most recent call last)",
      "\u001b[36mCell\u001b[39m\u001b[36m \u001b[39m\u001b[32mIn[40]\u001b[39m\u001b[32m, line 5\u001b[39m\n\u001b[32m      2\u001b[39m     b = b + \u001b[32m1\u001b[39m\n\u001b[32m      4\u001b[39m vartest(\u001b[32m3\u001b[39m)\n\u001b[32m----> \u001b[39m\u001b[32m5\u001b[39m \u001b[38;5;28mprint\u001b[39m(\u001b[43mb\u001b[49m)\n",
      "\u001b[31mNameError\u001b[39m: name 'b' is not defined"
     ]
    }
   ],
   "source": [
    "def vartest(b):\n",
    "    b = b + 1\n",
    "\n",
    "vartest(3)\n",
    "print(b)"
   ]
  },
  {
   "cell_type": "code",
   "execution_count": 1,
   "id": "4c6b297f",
   "metadata": {},
   "outputs": [
    {
     "name": "stdout",
     "output_type": "stream",
     "text": [
      "result_for_loop: [2, 3, 4, 5, 6]\n",
      "result_map: <map object at 0x103a6b7c0>\n",
      "result_map: [2, 3, 4, 5, 6]\n"
     ]
    }
   ],
   "source": [
    "data = [1, 2, 3, 4, 5]\n",
    "\n",
    "result_for_loop = []\n",
    "# for loop\n",
    "for item in data:\n",
    "    result_for_loop.append(item + 1)\n",
    "\n",
    "print(f\"result_for_loop: {result_for_loop}\")\n",
    "\n",
    "# map function\n",
    "def add_one(n):\n",
    "    return n + 1\n",
    "\n",
    "result_map = map(add_one, data)\n",
    "print(f\"result_map: {result_map}\")\n",
    "print(f\"result_map: {list(result_map)}\")"
   ]
  },
  {
   "cell_type": "code",
   "execution_count": 3,
   "id": "0f52b13e",
   "metadata": {},
   "outputs": [
    {
     "data": {
      "text/plain": [
       "(3, -6, 100, 26)"
      ]
     },
     "execution_count": 3,
     "metadata": {},
     "output_type": "execute_result"
    }
   ],
   "source": [
    "# map을 사용하여 실수값들의 일괄적 정수화(가까운 정수값으로)\n",
    "# tuple에 저장된 실수값들을 round 함수를 사용하여 정수화 \n",
    "data_float = (3.14, -5.625, 100.4, 25.8)\n",
    "\n",
    "tuple(map(round, data_float))"
   ]
  },
  {
   "cell_type": "code",
   "execution_count": 5,
   "id": "354ebeab",
   "metadata": {},
   "outputs": [
    {
     "name": "stdout",
     "output_type": "stream",
     "text": [
      "<zip object at 0x103a4e880>\n",
      "[(52, 19, 0), (255, 63, 68), (39, 227, 255), (132, 197, 187)]\n"
     ]
    }
   ],
   "source": [
    "# zip 함수\n",
    "# 이미지의 색상별 데이터를 묶어서 24bpp RGB 이미지 만들기\n",
    "r = (52, 255, 39, 132)\n",
    "g = (19, 63, 227, 197)\n",
    "b = (0, 68, 255, 187)\n",
    "\n",
    "img = zip(r, g, b)\n",
    "\n",
    "print(img)\n",
    "print(list(img))"
   ]
  },
  {
   "cell_type": "code",
   "execution_count": 7,
   "id": "a1ee7a91",
   "metadata": {},
   "outputs": [
    {
     "name": "stdout",
     "output_type": "stream",
     "text": [
      "{1: 'apple', 2: 'orange', 3: 'banana', 4: 'mango'}\n",
      "{1: 'apple', 2: 'orange', 3: 'banana', 4: 'mango'}\n"
     ]
    }
   ],
   "source": [
    "# enumerate 함수\n",
    "# 과일 품목별 일련번호 부여하기\n",
    "# tuple fruits에 있는 과일들을 1번부터 차례대로 보기와 같이 인쇄되도록 번호를 부여\n",
    "# zip과 range를 이용하는 방법과 enumerate를 이용하는 방법\n",
    "# 단, 결과는 dict로 생성\n",
    "# {1: 'apple', 2: 'orange', 3: 'banana', 4: 'mango'}\n",
    "\n",
    "fruits = ('apple', 'orange', 'banana', 'mango')\n",
    "\n",
    "# zip, range\n",
    "result = zip(range(1, len(fruits) + 1), fruits)\n",
    "print(dict(result))\n",
    "\n",
    "# enumerate\n",
    "result = enumerate(fruits, start=1)\n",
    "print(dict(result))"
   ]
  },
  {
   "cell_type": "code",
   "execution_count": 12,
   "id": "404bb305",
   "metadata": {},
   "outputs": [
    {
     "name": "stdout",
     "output_type": "stream",
     "text": [
      "10\n",
      "10\n"
     ]
    },
    {
     "data": {
      "text/plain": [
       "[2, 3, 4, 5, 6]"
      ]
     },
     "execution_count": 12,
     "metadata": {},
     "output_type": "execute_result"
    }
   ],
   "source": [
    "# function\n",
    "def add_function(x, y):\n",
    "    return x + y\n",
    "\n",
    "print(add_function(1, 9)) # 10\n",
    "\n",
    "# lambda\n",
    "print((lambda x, y: x + y)(1, 9)) # 10\n",
    "\n",
    "data = [1, 2, 3, 4, 5]\n",
    "list(map(lambda x: x + 1, data))"
   ]
  },
  {
   "cell_type": "code",
   "execution_count": 16,
   "id": "6f33e685",
   "metadata": {},
   "outputs": [
    {
     "name": "stdout",
     "output_type": "stream",
     "text": [
      "[1, 4, 9, 16]\n",
      "[2, 4]\n",
      "[(5, 1), (1, 2), (3, 4)]\n"
     ]
    }
   ],
   "source": [
    "# map, lambda - 시퀀스의 각 요소에 함수를 적용하여 새로운 시퀀스를 생성\n",
    "# 각 정수의 제곱을 반환\n",
    "numbers = [1, 2, 3, 4]\n",
    "squared = list(map(lambda x: x**2, numbers))\n",
    "print(squared) # [1, 4, 9, 16]\n",
    "\n",
    "# filter, lambda - 시퀀스에서 특정 조건을 만족하는 요소만 추출\n",
    "# 각 정수에서 짝수인 요소만 추출\n",
    "numbers = [1, 2, 3, 4, 5]\n",
    "even_numbers = list(filter(lambda x: x % 2 == 0, numbers))\n",
    "print(even_numbers)  # [2, 4]\n",
    "\n",
    "# filter, sorted - sorted 함수의 키로 사용하여 특정 조건에 따라 데이터를 정렬\n",
    "# tuple의 두 번째 값을 기준으로 정렬\n",
    "# 출력: [(5, 1), (1, 2), (3, 4)]\n",
    "# built-in function sorted: https://docs.python.org/3/library/functions.html#sorted\n",
    "# sorting how to: https://docs.python.org/3/howto/sorting.html#sortinghowto\n",
    "points = [(1, 2), (3, 4), (5, 1)]\n",
    "sorted_points = sorted(points, key=lambda x: x[1])\n",
    "print(sorted_points)  # [(5, 1), (1, 2), (3, 4)]"
   ]
  },
  {
   "cell_type": "code",
   "execution_count": 17,
   "id": "df0425f8",
   "metadata": {},
   "outputs": [
    {
     "name": "stdout",
     "output_type": "stream",
     "text": [
      "11.0\n"
     ]
    }
   ],
   "source": [
    "# module 예제 1\n",
    "import math\n",
    "\n",
    "num_1 = math.pow(2, 3)\n",
    "num_2 = math.sqrt(9)\n",
    "\n",
    "print(num_1 + num_2)"
   ]
  },
  {
   "cell_type": "code",
   "execution_count": 18,
   "id": "5fb97a9d",
   "metadata": {},
   "outputs": [
    {
     "name": "stdout",
     "output_type": "stream",
     "text": [
      "11.0\n"
     ]
    }
   ],
   "source": [
    "# module 예제 2\n",
    "import math as m\n",
    "\n",
    "num_1 = m.pow(2, 3)\n",
    "num_2 = m.sqrt(9)\n",
    "\n",
    "print(num_1 + num_2)"
   ]
  },
  {
   "cell_type": "code",
   "execution_count": 19,
   "id": "4ef3c643",
   "metadata": {},
   "outputs": [
    {
     "name": "stdout",
     "output_type": "stream",
     "text": [
      "11.0\n"
     ]
    }
   ],
   "source": [
    "# module 예제 3\n",
    "from math import *\n",
    "\n",
    "num_1 = pow(2, 3)\n",
    "num_2 = sqrt(9)\n",
    "\n",
    "print(num_1 + num_2)"
   ]
  },
  {
   "cell_type": "code",
   "execution_count": 20,
   "id": "40f140bd",
   "metadata": {},
   "outputs": [
    {
     "name": "stdout",
     "output_type": "stream",
     "text": [
      "11.0\n"
     ]
    }
   ],
   "source": [
    "# module 예제 4\n",
    "from math import pow, sqrt\n",
    "\n",
    "num_1 = pow(2, 3)\n",
    "num_2 = sqrt(9)\n",
    "\n",
    "print(num_1 + num_2)"
   ]
  },
  {
   "cell_type": "code",
   "execution_count": 21,
   "id": "94918fa0",
   "metadata": {},
   "outputs": [
    {
     "name": "stdout",
     "output_type": "stream",
     "text": [
      "11.0\n"
     ]
    }
   ],
   "source": [
    "# module 예제 5\n",
    "from math import pow as p, sqrt as sq\n",
    "\n",
    "num_1 = p(2, 3)\n",
    "num_2 = sq(9)\n",
    "\n",
    "print(num_1 + num_2)"
   ]
  },
  {
   "cell_type": "code",
   "execution_count": 39,
   "id": "c967a4e9",
   "metadata": {},
   "outputs": [
    {
     "name": "stdout",
     "output_type": "stream",
     "text": [
      "loop: 6, [33, 12, 14, 15, 23, 26]\n"
     ]
    }
   ],
   "source": [
    "# 난수 번호 추첨기 (무작위 생성된 6개의 숫자 출력)\n",
    "import random as r\n",
    "\n",
    "# print(r.sample(range(1, 46), 6))\n",
    "\n",
    "numbers = set()\n",
    "loop_count = 0\n",
    "while len(numbers) < 6:\n",
    "    numbers.add(r.randint(1, 45))\n",
    "    loop_count += 1\n",
    "\n",
    "print(f\"loop: {loop_count}, {list(numbers)}\")"
   ]
  },
  {
   "cell_type": "code",
   "execution_count": 41,
   "id": "f76d2645",
   "metadata": {},
   "outputs": [
    {
     "name": "stdout",
     "output_type": "stream",
     "text": [
      "비겼습니다.\n",
      "비겼습니다.\n",
      "컴퓨터 승리! 컴퓨터는 가위를 냈습니다.\n",
      "사용자 승리! 컴퓨터는 보를 냈습니다.\n",
      "비겼습니다.\n",
      "사용자 승리! 컴퓨터는 보를 냈습니다.\n",
      "컴퓨터 승리! 컴퓨터는 바위를 냈습니다.\n",
      "컴퓨터 승리! 컴퓨터는 보를 냈습니다.\n",
      "컴퓨터 승리! 컴퓨터는 보를 냈습니다.\n",
      "컴퓨터 승리! 컴퓨터는 바위를 냈습니다.\n",
      "사용자 승리! 컴퓨터는 보를 냈습니다.\n"
     ]
    }
   ],
   "source": [
    "# 컴퓨터와 대결하는 가위, 바위, 보 게임 만들기\n",
    "# 다음 코드가 동작할 수 있도록 check_win() 함수와 continue_confirm() 함수 구현\n",
    "from random import randint\n",
    "rock_paper_scissor = ['가위', '바위', '보']\n",
    "\n",
    "def check_win(user, computer):\n",
    "    if user == computer:\n",
    "        print(\"비겼습니다.\")\n",
    "        return False\n",
    "    elif (user == '가위' and computer == '보') or \\\n",
    "         (user == '바위' and computer == '가위') or \\\n",
    "         (user == '보' and computer == '바위'):\n",
    "        print(f\"사용자 승리! 컴퓨터는 {computer}를 냈습니다.\")\n",
    "        return True\n",
    "    else:\n",
    "        print(f\"컴퓨터 승리! 컴퓨터는 {computer}를 냈습니다.\")\n",
    "        return False\n",
    "    \n",
    "def continue_confirm():\n",
    "    return input(\"계속 하시겠습니까? (y/n)\") == 'y'\n",
    "\n",
    "while True:\n",
    "    user = input(\"가위, 바위, 보 중 하나를 입력하세요: \")\n",
    "    computer = rock_paper_scissor[r.randint(0, 2)]\n",
    "    if check_win(user, computer):\n",
    "        if continue_confirm():\n",
    "            continue\n",
    "        else:\n",
    "            break"
   ]
  },
  {
   "cell_type": "code",
   "execution_count": 2,
   "id": "6cd05af1",
   "metadata": {},
   "outputs": [
    {
     "name": "stdout",
     "output_type": "stream",
     "text": [
      "3\n",
      "2\n"
     ]
    }
   ],
   "source": [
    "# my module 실습\n",
    "import my_module as mm\n",
    "\n",
    "print(mm.add(1, 2))  # 3\n",
    "print(mm.sub(5, 3))  # 2"
   ]
  },
  {
   "cell_type": "code",
   "execution_count": 11,
   "id": "8bb08526",
   "metadata": {},
   "outputs": [
    {
     "name": "stdout",
     "output_type": "stream",
     "text": [
      "2\n",
      "5\n",
      "5\n",
      "15\n"
     ]
    }
   ],
   "source": [
    "# class Calculator\n",
    "from calculator import Calculator\n",
    "\n",
    "cal_1 = Calculator()\n",
    "cal_2 = Calculator()\n",
    "\n",
    "print(cal_1.add(2))  # 2\n",
    "print(cal_1.add(3))  # 5\n",
    "print(cal_2.add(5))  # 5\n",
    "print(cal_2.add(10))  # 15\n"
   ]
  }
 ],
 "metadata": {
  "kernelspec": {
   "display_name": ".venv",
   "language": "python",
   "name": "python3"
  },
  "language_info": {
   "codemirror_mode": {
    "name": "ipython",
    "version": 3
   },
   "file_extension": ".py",
   "mimetype": "text/x-python",
   "name": "python",
   "nbconvert_exporter": "python",
   "pygments_lexer": "ipython3",
   "version": "3.11.9"
  }
 },
 "nbformat": 4,
 "nbformat_minor": 5
}
