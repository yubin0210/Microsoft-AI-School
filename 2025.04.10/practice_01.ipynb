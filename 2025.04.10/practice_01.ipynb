{
 "cells": [
  {
   "cell_type": "markdown",
   "id": "be51cad3",
   "metadata": {},
   "source": [
    "# 2025.04.10"
   ]
  },
  {
   "cell_type": "code",
   "execution_count": 59,
   "id": "5e57e5fd",
   "metadata": {},
   "outputs": [
    {
     "name": "stdout",
     "output_type": "stream",
     "text": [
      "Hello Python\n"
     ]
    }
   ],
   "source": [
    "print('Hello Python')"
   ]
  },
  {
   "cell_type": "code",
   "execution_count": 60,
   "id": "a9cdd080",
   "metadata": {},
   "outputs": [
    {
     "name": "stdout",
     "output_type": "stream",
     "text": [
      "Hello Python\n",
      "안녕 파이썬\n"
     ]
    }
   ],
   "source": [
    "print(\"\"\"Hello Python\n",
    "안녕 파이썬\"\"\")"
   ]
  },
  {
   "cell_type": "code",
   "execution_count": 61,
   "id": "ab40449b",
   "metadata": {},
   "outputs": [
    {
     "ename": "SyntaxError",
     "evalue": "invalid syntax (2964818882.py, line 1)",
     "output_type": "error",
     "traceback": [
      "  \u001b[36mCell\u001b[39m\u001b[36m \u001b[39m\u001b[32mIn[61]\u001b[39m\u001b[32m, line 1\u001b[39m\n\u001b[31m    \u001b[39m\u001b[31mHello Python\u001b[39m\n          ^\n\u001b[31mSyntaxError\u001b[39m\u001b[31m:\u001b[39m invalid syntax\n"
     ]
    }
   ],
   "source": [
    "Hello Python"
   ]
  },
  {
   "cell_type": "code",
   "execution_count": null,
   "id": "589b0b67",
   "metadata": {},
   "outputs": [
    {
     "data": {
      "text/plain": [
       "20"
      ]
     },
     "execution_count": 12,
     "metadata": {},
     "output_type": "execute_result"
    }
   ],
   "source": [
    "10 + 10"
   ]
  },
  {
   "cell_type": "code",
   "execution_count": null,
   "id": "23d37c70",
   "metadata": {},
   "outputs": [
    {
     "name": "stdout",
     "output_type": "stream",
     "text": [
      "20\n"
     ]
    }
   ],
   "source": [
    "print(10 + 10)"
   ]
  },
  {
   "cell_type": "code",
   "execution_count": null,
   "id": "aef45ef6",
   "metadata": {},
   "outputs": [
    {
     "name": "stdout",
     "output_type": "stream",
     "text": [
      "10\n"
     ]
    }
   ],
   "source": [
    "print('10')"
   ]
  },
  {
   "cell_type": "code",
   "execution_count": null,
   "id": "0470ebef",
   "metadata": {},
   "outputs": [
    {
     "name": "stdout",
     "output_type": "stream",
     "text": [
      "10 + 10\n"
     ]
    }
   ],
   "source": [
    "print('10 + 10')"
   ]
  },
  {
   "cell_type": "markdown",
   "id": "3987249f",
   "metadata": {},
   "source": [
    "## 자료형"
   ]
  },
  {
   "cell_type": "code",
   "execution_count": null,
   "id": "0c6af5cf",
   "metadata": {},
   "outputs": [
    {
     "name": "stdout",
     "output_type": "stream",
     "text": [
      "<class 'str'>\n",
      "<class 'str'>\n",
      "\n"
     ]
    }
   ],
   "source": [
    "# str 자료형\n",
    "print(f\"\"\"\\\n",
    "{type('String')}\n",
    "{type(\"String\")}\n",
    "\"\"\")"
   ]
  },
  {
   "cell_type": "code",
   "execution_count": null,
   "id": "08cb93ca",
   "metadata": {},
   "outputs": [
    {
     "name": "stdout",
     "output_type": "stream",
     "text": [
      "<class 'int'>\n",
      "<class 'float'>\n",
      "<class 'float'>\n",
      "<class 'int'>\n",
      "<class 'int'>\n",
      "<class 'int'>\n",
      "<class 'complex'>\n",
      "\n"
     ]
    }
   ],
   "source": [
    "# 숫자 자료형\n",
    "print(f\"\"\"\\\n",
    "{type(10)}\n",
    "{type(3.14)}\n",
    "{type(3.14e10)}\n",
    "{type(0o10)}\n",
    "{type(0x10)}\n",
    "{type(0b10)}\n",
    "{type(3 + 4j)}\n",
    "\"\"\")"
   ]
  },
  {
   "cell_type": "code",
   "execution_count": null,
   "id": "dd326a73",
   "metadata": {},
   "outputs": [
    {
     "name": "stdout",
     "output_type": "stream",
     "text": [
      "<class 'bool'>\n",
      "<class 'bool'>\n",
      "\n"
     ]
    }
   ],
   "source": [
    "# bool 자료형\n",
    "print(f\"\"\"\\\n",
    "{type(True)}\n",
    "{type(False)}\n",
    "\"\"\")"
   ]
  },
  {
   "cell_type": "markdown",
   "id": "d47e31a1",
   "metadata": {},
   "source": [
    "## 변수"
   ]
  },
  {
   "cell_type": "code",
   "execution_count": null,
   "id": "c4e2be2d",
   "metadata": {},
   "outputs": [],
   "source": [
    "my_number = 123"
   ]
  },
  {
   "cell_type": "code",
   "execution_count": null,
   "id": "5de02fbb",
   "metadata": {},
   "outputs": [
    {
     "data": {
      "text/plain": [
       "123"
      ]
     },
     "execution_count": 27,
     "metadata": {},
     "output_type": "execute_result"
    }
   ],
   "source": [
    "my_number"
   ]
  },
  {
   "cell_type": "code",
   "execution_count": null,
   "id": "4834afe7",
   "metadata": {},
   "outputs": [
    {
     "data": {
      "text/plain": [
       "int"
      ]
     },
     "execution_count": 28,
     "metadata": {},
     "output_type": "execute_result"
    }
   ],
   "source": [
    "type(my_number)"
   ]
  },
  {
   "cell_type": "markdown",
   "id": "f9357210",
   "metadata": {},
   "source": [
    "## 산술 연산자"
   ]
  },
  {
   "cell_type": "code",
   "execution_count": null,
   "id": "5186aef0",
   "metadata": {},
   "outputs": [
    {
     "name": "stdout",
     "output_type": "stream",
     "text": [
      "3\n",
      "-1\n",
      "2\n",
      "0.5\n",
      "\n"
     ]
    }
   ],
   "source": [
    "# 합, 차, 곱, 나누기\n",
    "num_1 = 1\n",
    "num_2 = 2\n",
    "\n",
    "print(f\"\"\"\\\n",
    "{num_1 + num_2}\n",
    "{num_1 - num_2}\n",
    "{num_1 * num_2}\n",
    "{num_1 / num_2}\n",
    "\"\"\")"
   ]
  },
  {
   "cell_type": "code",
   "execution_count": null,
   "id": "78a621b2",
   "metadata": {},
   "outputs": [
    {
     "name": "stdout",
     "output_type": "stream",
     "text": [
      "1\n",
      "0\n",
      "1\n",
      "\n"
     ]
    }
   ],
   "source": [
    "# 나머지, 몫, 제곱\n",
    "print(f\"\"\"\\\n",
    "{num_1 % num_2}\n",
    "{num_1 // num_2}\n",
    "{num_1 ** num_2}\n",
    "\"\"\")"
   ]
  },
  {
   "cell_type": "code",
   "execution_count": null,
   "id": "f7ca740e",
   "metadata": {},
   "outputs": [
    {
     "name": "stdout",
     "output_type": "stream",
     "text": [
      "1\n",
      "2\n",
      "3\n",
      "4\n",
      "\n"
     ]
    }
   ],
   "source": [
    "# //, % 연산자\n",
    "n = 1234\n",
    "print(f\"\"\"\\\n",
    "{n // 1000}\n",
    "{n // 100 % 10}\n",
    "{n // 10 % 10}\n",
    "{n % 10}\n",
    "\"\"\")\n"
   ]
  },
  {
   "cell_type": "code",
   "execution_count": null,
   "id": "f0682075",
   "metadata": {},
   "outputs": [
    {
     "name": "stdout",
     "output_type": "stream",
     "text": [
      "12345600\n"
     ]
    }
   ],
   "source": [
    "p = 12345678\n",
    "r = p//100 * 100\n",
    "print(r)"
   ]
  },
  {
   "cell_type": "code",
   "execution_count": null,
   "id": "4857a535",
   "metadata": {},
   "outputs": [
    {
     "name": "stdout",
     "output_type": "stream",
     "text": [
      "1\n"
     ]
    }
   ],
   "source": [
    "# number 에서 n번째 자리수 구하기\n",
    "num = 1234\n",
    "position = 4\n",
    "print(num // (10 ** (position - 1)) % 10)"
   ]
  },
  {
   "cell_type": "markdown",
   "id": "26e77bb9",
   "metadata": {},
   "source": [
    "## 비교 연산자"
   ]
  },
  {
   "cell_type": "code",
   "execution_count": null,
   "id": "aa350822",
   "metadata": {},
   "outputs": [
    {
     "name": "stdout",
     "output_type": "stream",
     "text": [
      "a == b: False  # a와 b가 같은지 비교\n",
      "a != b: True  # a와 b가 다른지 비교\n",
      "a > b: False    # a가 b보다 큰지 비교\n",
      "a < b: True    # a가 b보다 작은지 비교\n",
      "a >= b: False  # a가 b보다 크거나 같은지 비교\n",
      "a <= b: True  # a가 b보다 작거나 같은지 비교\n",
      "\n"
     ]
    }
   ],
   "source": [
    "a = 10\n",
    "b = 20\n",
    "\n",
    "print(f\"\"\"\\\n",
    "a == b: {a == b}  # a와 b가 같은지 비교\n",
    "a != b: {a != b}  # a와 b가 다른지 비교\n",
    "a > b: {a > b}    # a가 b보다 큰지 비교\n",
    "a < b: {a < b}    # a가 b보다 작은지 비교\n",
    "a >= b: {a >= b}  # a가 b보다 크거나 같은지 비교\n",
    "a <= b: {a <= b}  # a가 b보다 작거나 같은지 비교\n",
    "\"\"\")"
   ]
  },
  {
   "cell_type": "markdown",
   "id": "5db553f2",
   "metadata": {},
   "source": [
    "## 논리 연산자"
   ]
  },
  {
   "cell_type": "code",
   "execution_count": null,
   "id": "bc37cbe9",
   "metadata": {},
   "outputs": [
    {
     "name": "stdout",
     "output_type": "stream",
     "text": [
      "a and b: False  # a와 b가 모두 True일 때만 True\n",
      "a or b: True    # a 또는 b 중 하나라도 True이면 True\n",
      "not a: False      # a가 True이면 False, False이면 True\n",
      "not b: True      # b가 True이면 False, False이면 True\n",
      "\n"
     ]
    }
   ],
   "source": [
    "a = True\n",
    "b = False\n",
    "\n",
    "print(f\"\"\"\\\n",
    "a and b: {a and b}  # a와 b가 모두 True일 때만 True\n",
    "a or b: {a or b}    # a 또는 b 중 하나라도 True이면 True\n",
    "not a: {not a}      # a가 True이면 False, False이면 True\n",
    "not b: {not b}      # b가 True이면 False, False이면 True\n",
    "\"\"\")"
   ]
  },
  {
   "cell_type": "markdown",
   "id": "f2257137",
   "metadata": {},
   "source": [
    "## 할당 연산자"
   ]
  },
  {
   "cell_type": "code",
   "execution_count": null,
   "id": "e8f4d7c7",
   "metadata": {},
   "outputs": [
    {
     "name": "stdout",
     "output_type": "stream",
     "text": [
      "x = 10\n",
      "x += 5 -> 15\n",
      "x -= 3 -> 12\n",
      "x *= 2 -> 24\n",
      "x /= 4 -> 6.0\n",
      "x //= 2 -> 3.0\n",
      "x %= 3 -> 0.0\n",
      "x **= 2 -> 0.0\n"
     ]
    }
   ],
   "source": [
    "x = 10  # 기본 할당\n",
    "print(f\"x = {x}\")\n",
    "\n",
    "x += 5  # x = x + 5\n",
    "print(f\"x += 5 -> {x}\")\n",
    "\n",
    "x -= 3  # x = x - 3\n",
    "print(f\"x -= 3 -> {x}\")\n",
    "\n",
    "x *= 2  # x = x * 2\n",
    "print(f\"x *= 2 -> {x}\")\n",
    "\n",
    "x /= 4  # x = x / 4\n",
    "print(f\"x /= 4 -> {x}\")\n",
    "\n",
    "x //= 2  # x = x // 2\n",
    "print(f\"x //= 2 -> {x}\")\n",
    "\n",
    "x %= 3  # x = x % 3\n",
    "print(f\"x %= 3 -> {x}\")\n",
    "\n",
    "x **= 2  # x = x ** 2\n",
    "print(f\"x **= 2 -> {x}\")"
   ]
  },
  {
   "cell_type": "markdown",
   "id": "1e28683c",
   "metadata": {},
   "source": [
    "## 문자열"
   ]
  },
  {
   "cell_type": "code",
   "execution_count": null,
   "id": "c0714f1e",
   "metadata": {},
   "outputs": [
    {
     "name": "stdout",
     "output_type": "stream",
     "text": [
      "Life is too short, You need python\n",
      "Life is too short, You need python\n",
      "Life is too short, You need python\n",
      "Life is too short, You need python\n"
     ]
    },
    {
     "data": {
      "text/plain": [
       "'Life is too short, You need python'"
      ]
     },
     "execution_count": 65,
     "metadata": {},
     "output_type": "execute_result"
    }
   ],
   "source": [
    "print('Life is too short, You need python')\n",
    "print(\"Life is too short, You need python\")\n",
    "print('''Life is too short, You need python''')\n",
    "print(\"\"\"Life is too short, You need python\"\"\")\n",
    "f'Life is too short, You need python'"
   ]
  },
  {
   "cell_type": "code",
   "execution_count": 66,
   "id": "e66c7299",
   "metadata": {},
   "outputs": [],
   "source": [
    "sentence_1 = 'Life is too short, '\n",
    "sentence_2 = 'You need python'"
   ]
  },
  {
   "cell_type": "code",
   "execution_count": 68,
   "id": "24ec052b",
   "metadata": {},
   "outputs": [
    {
     "name": "stdout",
     "output_type": "stream",
     "text": [
      "Life is too short, You need python\n"
     ]
    }
   ],
   "source": [
    "sentence_3 = sentence_1 + sentence_2\n",
    "\n",
    "print(sentence_3)"
   ]
  },
  {
   "cell_type": "code",
   "execution_count": 69,
   "id": "380f47fc",
   "metadata": {},
   "outputs": [
    {
     "ename": "TypeError",
     "evalue": "unsupported operand type(s) for -: 'str' and 'str'",
     "output_type": "error",
     "traceback": [
      "\u001b[31m---------------------------------------------------------------------------\u001b[39m",
      "\u001b[31mTypeError\u001b[39m                                 Traceback (most recent call last)",
      "\u001b[36mCell\u001b[39m\u001b[36m \u001b[39m\u001b[32mIn[69]\u001b[39m\u001b[32m, line 1\u001b[39m\n\u001b[32m----> \u001b[39m\u001b[32m1\u001b[39m sentence_3 = \u001b[43msentence_1\u001b[49m\u001b[43m \u001b[49m\u001b[43m-\u001b[49m\u001b[43m \u001b[49m\u001b[43msentence_2\u001b[49m\n\u001b[32m      2\u001b[39m \u001b[38;5;28mprint\u001b[39m(sentence_3)\n",
      "\u001b[31mTypeError\u001b[39m: unsupported operand type(s) for -: 'str' and 'str'"
     ]
    }
   ],
   "source": [
    "sentence_3 = sentence_1 - sentence_2\n",
    "print(sentence_3)"
   ]
  },
  {
   "cell_type": "code",
   "execution_count": 70,
   "id": "22567840",
   "metadata": {},
   "outputs": [
    {
     "name": "stdout",
     "output_type": "stream",
     "text": [
      "pythonpythonpython is fun\n"
     ]
    },
    {
     "ename": "TypeError",
     "evalue": "can't multiply sequence by non-int of type 'str'",
     "output_type": "error",
     "traceback": [
      "\u001b[31m---------------------------------------------------------------------------\u001b[39m",
      "\u001b[31mTypeError\u001b[39m                                 Traceback (most recent call last)",
      "\u001b[36mCell\u001b[39m\u001b[36m \u001b[39m\u001b[32mIn[70]\u001b[39m\u001b[32m, line 6\u001b[39m\n\u001b[32m      3\u001b[39m repeat_str =\u001b[33m'\u001b[39m\u001b[33m3\u001b[39m\u001b[33m'\u001b[39m\n\u001b[32m      5\u001b[39m \u001b[38;5;28mprint\u001b[39m(\u001b[33mf\u001b[39m\u001b[33m'\u001b[39m\u001b[38;5;132;01m{\u001b[39;00mword\u001b[38;5;250m \u001b[39m*\u001b[38;5;250m \u001b[39mrepeat\u001b[38;5;132;01m}\u001b[39;00m\u001b[33m is fun\u001b[39m\u001b[33m'\u001b[39m)\n\u001b[32m----> \u001b[39m\u001b[32m6\u001b[39m \u001b[38;5;28mprint\u001b[39m(\u001b[33mf\u001b[39m\u001b[33m'\u001b[39m\u001b[38;5;132;01m{\u001b[39;00m\u001b[43mword\u001b[49m\u001b[38;5;250;43m \u001b[39;49m\u001b[43m*\u001b[49m\u001b[38;5;250;43m \u001b[39;49m\u001b[43mrepeat_str\u001b[49m\u001b[38;5;132;01m}\u001b[39;00m\u001b[33m is fun\u001b[39m\u001b[33m'\u001b[39m)\n",
      "\u001b[31mTypeError\u001b[39m: can't multiply sequence by non-int of type 'str'"
     ]
    }
   ],
   "source": [
    "word = 'python'\n",
    "repeat = 3\n",
    "repeat_str ='3'\n",
    "\n",
    "print(f'{word * repeat} is fun')\n",
    "print(f'{word * repeat_str} is fun')"
   ]
  },
  {
   "cell_type": "markdown",
   "id": "6a692829",
   "metadata": {},
   "source": [
    "## 문자열 인덱싱"
   ]
  },
  {
   "cell_type": "code",
   "execution_count": null,
   "id": "e4f274e6",
   "metadata": {},
   "outputs": [
    {
     "name": "stdout",
     "output_type": "stream",
     "text": [
      "word[0]: p  # p\n",
      "word[1]: y  # y\n",
      "word[2]: t  # t\n",
      "word[3]: h  # h\n",
      "word[4]: o  # o\n",
      "word[5]: n  # n\n",
      "\n",
      "word[-1]: n  # n\n",
      "word[-2]: o  # o\n",
      "word[-3]: h  # h\n",
      "word[-4]: t  # t\n",
      "word[-5]: y  # y\n",
      "word[-6]: p  # p\n",
      "\n",
      "word[0:2]: py  # py\n",
      "word[2:4]: th  # th\n",
      "word[4:6]: on  # on\n",
      "word[0:6]: python  # python\n",
      "word[:2]: py  # py\n",
      "word[2:]: thon  # thon\n",
      "word[:]: python  # python\n",
      "\n",
      "word[0:6:2]: pto  # pt\n",
      "word[::2]: pto  # pt\n",
      "word[0:6:3]: ph  # ph\n",
      "word[::3]: ph  # ph\n",
      "\n",
      "word[0:6:-1]:   # ''\n",
      "word[::-1]: nohtyp  # nohtyp\n",
      "\n",
      "word[0:6:-2]:   # ''\n",
      "word[::-2]: nhy  # nhy\n",
      "\n",
      "word[0:6:1]: python  # python\n",
      "word[::1]: python  # python\n",
      "\n"
     ]
    }
   ],
   "source": [
    "word = 'python'\n",
    "\n",
    "print(f\"\"\"\\\n",
    "word[0]: {word[0]}  # p\n",
    "word[1]: {word[1]}  # y\n",
    "word[2]: {word[2]}  # t\n",
    "word[3]: {word[3]}  # h\n",
    "word[4]: {word[4]}  # o\n",
    "word[5]: {word[5]}  # n\n",
    "\"\"\")\n",
    "print(f\"\"\"\\\n",
    "word[-1]: {word[-1]}  # n\n",
    "word[-2]: {word[-2]}  # o\n",
    "word[-3]: {word[-3]}  # h\n",
    "word[-4]: {word[-4]}  # t\n",
    "word[-5]: {word[-5]}  # y\n",
    "word[-6]: {word[-6]}  # p\n",
    "\"\"\")\n",
    "print(f\"\"\"\\\n",
    "word[0:2]: {word[0:2]}  # py\n",
    "word[2:4]: {word[2:4]}  # th\n",
    "word[4:6]: {word[4:6]}  # on\n",
    "word[0:6]: {word[0:6]}  # python\n",
    "word[:2]: {word[:2]}  # py\n",
    "word[2:]: {word[2:]}  # thon\n",
    "word[:]: {word[:]}  # python\n",
    "\"\"\")\n",
    "print(f\"\"\"\\\n",
    "word[0:6:2]: {word[0:6:2]}  # pt\n",
    "word[::2]: {word[::2]}  # pt\n",
    "word[0:6:3]: {word[0:6:3]}  # ph\n",
    "word[::3]: {word[::3]}  # ph\n",
    "\"\"\")\n",
    "print(f\"\"\"\\\n",
    "word[0:6:-1]: {word[0:6:-1]}  # ''\n",
    "word[::-1]: {word[::-1]}  # nohtyp\n",
    "\"\"\")\n",
    "print(f\"\"\"\\\n",
    "word[0:6:-2]: {word[0:6:-2]}  # ''\n",
    "word[::-2]: {word[::-2]}  # nhy\n",
    "\"\"\")\n",
    "print(f\"\"\"\\\n",
    "word[0:6:1]: {word[0:6:1]}  # python\n",
    "word[::1]: {word[::1]}  # python\n",
    "\"\"\")"
   ]
  },
  {
   "cell_type": "markdown",
   "id": "d3960966",
   "metadata": {},
   "source": [
    "## 입력\n",
    "사용자가 입력한 데이터는 문자열 형태로 반환\n",
    "\n",
    "입력받은 데이터를 이용하여 계산하려면 계산하려면 변환 필요"
   ]
  },
  {
   "cell_type": "code",
   "execution_count": 76,
   "id": "4ddf620a",
   "metadata": {},
   "outputs": [
    {
     "name": "stdout",
     "output_type": "stream",
     "text": [
      "You typed: hi python\n"
     ]
    }
   ],
   "source": [
    "user_input = input('Type something and press Enter: ')\n",
    "\n",
    "print(f'You typed: {user_input}')"
   ]
  },
  {
   "cell_type": "code",
   "execution_count": 79,
   "id": "ce164a60",
   "metadata": {},
   "outputs": [
    {
     "name": "stdout",
     "output_type": "stream",
     "text": [
      "num_1 = 10\n",
      "num_2 = 5\n",
      "num_1 + num_2 = 15\n",
      "num_1 - num_2 = 5\n",
      "num_1 * num_2 = 50\n",
      "num_1 / num_2 = 2.0\n",
      "num_1 // num_2 = 2\n",
      "num_1 % num_2 = 0\n",
      "num_1 ** num_2 = 100000\n",
      "\n"
     ]
    }
   ],
   "source": [
    "# 사용자로부터 두 개의 정수를 입력 받아서 산술 연산자의 결과를 출력\n",
    "num_1 = int(input('Enter first number: '))\n",
    "num_2 = int(input('Enter second number: '))\n",
    "\n",
    "print(f\"\"\"\\\n",
    "num_1 = {num_1}\n",
    "num_2 = {num_2}\n",
    "num_1 + num_2 = {num_1 + num_2}\n",
    "num_1 - num_2 = {num_1 - num_2}\n",
    "num_1 * num_2 = {num_1 * num_2}\n",
    "num_1 / num_2 = {num_1 / num_2}\n",
    "num_1 // num_2 = {num_1 // num_2}\n",
    "num_1 % num_2 = {num_1 % num_2}\n",
    "num_1 ** num_2 = {num_1 ** num_2}\n",
    "\"\"\")"
   ]
  },
  {
   "cell_type": "code",
   "execution_count": 80,
   "id": "e0930422",
   "metadata": {},
   "outputs": [
    {
     "name": "stdout",
     "output_type": "stream",
     "text": [
      "삼각형의 넓이: 216.0\n"
     ]
    }
   ],
   "source": [
    "# 삼각형의 밑변과 높이를 입력 받아 삼각형의 넓이를 출력\n",
    "base = int(input('밑변: '))\n",
    "height = int(input('높이: '))\n",
    "\n",
    "area = base * height / 2\n",
    "print(f'삼각형의 넓이: {area}')"
   ]
  },
  {
   "cell_type": "code",
   "execution_count": 89,
   "id": "3687fe31",
   "metadata": {},
   "outputs": [
    {
     "name": "stdout",
     "output_type": "stream",
     "text": [
      "반지름: 150.698cm\n",
      "원의 둘레: 946.4cm\n",
      "원의 넓이: 71,309.0cm^2\n",
      "\n"
     ]
    }
   ],
   "source": [
    "# 반지름을 입력 받아 원의 둘레와 넓이를 계산\n",
    "# 소수점 이하 1자리로 표시, 원의 넓이는 천단위 쉼표(,)로 구분\n",
    "radius = float(input('반지름(cm): '))\n",
    "\n",
    "print(f\"\"\"\\\n",
    "반지름: { radius }cm\n",
    "원의 둘레: {2 * 3.14 * radius:.1f}cm\n",
    "원의 넓이: {3.14 * radius ** 2:,.1f}cm^2\n",
    "\"\"\")"
   ]
  },
  {
   "cell_type": "code",
   "execution_count": null,
   "id": "becea00d",
   "metadata": {},
   "outputs": [
    {
     "name": "stdout",
     "output_type": "stream",
     "text": [
      "3 홀수입니다\n"
     ]
    }
   ],
   "source": [
    "# 입력된 수가 홀수인 경우에만 '홀수입니다' 출력\n",
    "number = int(input('정수를 입력하세요: '))\n",
    "\n",
    "if number % 2:\n",
    "    print(f'{number} 홀수입니다')"
   ]
  },
  {
   "cell_type": "code",
   "execution_count": null,
   "id": "62c89e76",
   "metadata": {},
   "outputs": [
    {
     "name": "stdout",
     "output_type": "stream",
     "text": [
      "B\n"
     ]
    }
   ],
   "source": [
    "# 점수가 90점 이상인 경우 'A', 80점 이상인 경우 'B', 70점 이상인 경우 'C', 60점 이상인 경우 'D', 60만 미만인 경우 'F' 출력\n",
    "score = int(input('점수를 입력하세요: '))\n",
    "\n",
    "if score >= 90:\n",
    "    print('A')\n",
    "elif score >= 80:\n",
    "    print('B')\n",
    "elif score >= 70:\n",
    "    print('C')\n",
    "elif score >= 60:\n",
    "    print('D')\n",
    "else:\n",
    "    print('F')"
   ]
  },
  {
   "cell_type": "code",
   "execution_count": null,
   "id": "85b5e553",
   "metadata": {},
   "outputs": [
    {
     "name": "stdout",
     "output_type": "stream",
     "text": [
      "일(Day) 입력 오류입니다.\n"
     ]
    }
   ],
   "source": [
    "# 차량 2부제(홀짝제) 실시로 차량번호가 홀수이면 홀수날, 짝수이며 짝수날 운행가능\n",
    "# 일(Day)와 차량번호를 입력하여 운행 여부를 출력\n",
    "# - 일 (1 - 31) 이외의 값이 입력되면 오류 메시지를 출력하고 종료\n",
    "# - 차량번호: 4자리가 입력되지 않으면 오류 메시지를 출력하고 종료\n",
    "\n",
    "day = int(input('일을 입력하세요(1-31): '))\n",
    "if not (1 <= day <= 31):\n",
    "    print('일(Day) 입력 오류입니다.')\n",
    "else:\n",
    "    car_number = input('차량번호를 입력하세요(4자리): ')\n",
    "    if len(car_number) != 4:\n",
    "        print('차량번호 입력 오류입니다.')\n",
    "    else:\n",
    "        if int(car_number) % 2 == day % 2:\n",
    "            print('운행 가능합니다.')\n",
    "        else:\n",
    "            print('운행 불가능합니다.')"
   ]
  },
  {
   "cell_type": "markdown",
   "id": "9576bcc8",
   "metadata": {},
   "source": [
    "## 반복문"
   ]
  },
  {
   "cell_type": "code",
   "execution_count": null,
   "id": "ec839498",
   "metadata": {},
   "outputs": [],
   "source": [
    "while 조건이 True인 경우:\n",
    "    print('조건이 True인 경우 반복 실행')"
   ]
  },
  {
   "cell_type": "code",
   "execution_count": 103,
   "id": "a247cc46",
   "metadata": {},
   "outputs": [
    {
     "name": "stdout",
     "output_type": "stream",
     "text": [
      "count: 1\n",
      "count: 2\n",
      "count: 3\n",
      "count: 4\n",
      "count: 5\n"
     ]
    }
   ],
   "source": [
    "count = 1\n",
    "while count <= 5:\n",
    "    print(f'count: {count}')\n",
    "    count += 1"
   ]
  },
  {
   "cell_type": "code",
   "execution_count": null,
   "id": "f9ba7d82",
   "metadata": {},
   "outputs": [
    {
     "name": "stdout",
     "output_type": "stream",
     "text": [
      "1, 2, 3, 4, 5, 6, 7, 8, 9, 10, 11, 12, 13, 14, 15, 16, 17, 18, 19, 20, 21, 22, 23, 24, 25, 26, 27, 28, 29, 30, 31, 32, 33, 34, 35, 36, 37, 38, 39, 40, 41, 42, 43, 44, 45, 46, 47, 48, 49, 50, 51, 52, 53, 54, 55, 56, 57, 58, 59, 60, 61, 62, 63, 64, 65, 66, 67, 68, 69, 70, 71, 72, 73, 74, 75, 76, 77, 78, 79, 80, 81, 82, 83, 84, 85, 86, 87, 88, 89, 90, 91, 92, 93, 94, 95, 96, 97, 98, 99, "
     ]
    }
   ],
   "source": [
    "count = 1\n",
    "while count < 100:\n",
    "    print(f'{count}', end=' ')\n",
    "    count += 1"
   ]
  },
  {
   "cell_type": "code",
   "execution_count": null,
   "id": "ac3be510",
   "metadata": {},
   "outputs": [
    {
     "name": "stdout",
     "output_type": "stream",
     "text": [
      "1 3 5 7 9 11 13 15 17 19 21 23 25 27 29 31 33 35 37 39 41 43 45 47 49 51 53 55 57 59 61 63 65 67 69 71 73 75 77 79 81 83 85 87 89 91 93 95 97 99 "
     ]
    }
   ],
   "source": [
    "count = 1\n",
    "while count < 100:\n",
    "    if count % 2 == 1:\n",
    "        print(f'{count}', end=' ')\n",
    "    count += 1"
   ]
  },
  {
   "cell_type": "code",
   "execution_count": null,
   "id": "cc703aa1",
   "metadata": {},
   "outputs": [
    {
     "name": "stdout",
     "output_type": "stream",
     "text": [
      "입력한 정수의 합: 6\n"
     ]
    }
   ],
   "source": [
    "# 사용자로부터 여러 개의 정수값을 입력받아 1부터 입력받은 정수까지의 합을 구하는 프로그램\n",
    "repeat_count = 1\n",
    "sum = 0\n",
    "\n",
    "while user_input:\n",
    "    user_input = input(f'{repeat_count}번째 정수를 입력하세요: ')\n",
    "\n",
    "    if user_input == '':\n",
    "        break\n",
    "\n",
    "    sum += int(user_input)\n",
    "    repeat_count += 1\n",
    "\n",
    "print(f'입력한 정수의 합: {sum}')"
   ]
  },
  {
   "cell_type": "code",
   "execution_count": null,
   "id": "82d2c7d4",
   "metadata": {},
   "outputs": [
    {
     "name": "stdout",
     "output_type": "stream",
     "text": [
      "팩토리얼: 120\n"
     ]
    }
   ],
   "source": [
    "# factorial을 구하는 프로그램\n",
    "number = int(input('정수를 입력하세요: '))\n",
    "\n",
    "factorial = 1\n",
    "while number != 1:\n",
    "    factorial *= number\n",
    "    number -= 1\n",
    "print(f'팩토리얼: {factorial}')"
   ]
  }
 ],
 "metadata": {
  "kernelspec": {
   "display_name": ".venv",
   "language": "python",
   "name": "python3"
  },
  "language_info": {
   "codemirror_mode": {
    "name": "ipython",
    "version": 3
   },
   "file_extension": ".py",
   "mimetype": "text/x-python",
   "name": "python",
   "nbconvert_exporter": "python",
   "pygments_lexer": "ipython3",
   "version": "3.11.9"
  }
 },
 "nbformat": 4,
 "nbformat_minor": 5
}
