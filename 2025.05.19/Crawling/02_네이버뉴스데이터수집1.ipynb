{
 "cells": [
  {
   "cell_type": "code",
   "execution_count": 3,
   "id": "76db70f0",
   "metadata": {},
   "outputs": [
    {
     "data": {
      "text/plain": [
       "'2025-04-23'"
      ]
     },
     "execution_count": 3,
     "metadata": {},
     "output_type": "execute_result"
    }
   ],
   "source": [
    "import requests\n",
    "from bs4 import BeautifulSoup\n",
    "import pandas as pd\n",
    "import numpy as np\n",
    "from datetime import datetime\n",
    "import time\n",
    "\n",
    "# ----------------------------------\n",
    "# 날짜 입력받기\n",
    "#   -> 입력하지 않으면 오늘날짜 반환\n",
    "#   -> 잘못된 형식이면 None 반환\n",
    "# ----------------------------------\n",
    "def date_input():\n",
    "\n",
    "    date_str = input(\"날짜:(형식:2020-01-05)\")\n",
    "    \n",
    "    if date_str==\"\":\n",
    "        date_str = datetime.now().strftime('%Y-%m-%d')\n",
    "    \n",
    "    try:\n",
    "        datetime.strptime(date_str, '%Y-%m-%d')\n",
    "    except:\n",
    "        print(\"날짜 형색이 올바르지 않습니다.\")\n",
    "        date_str = None\n",
    "    \n",
    "    return date_str\n",
    "\n",
    "date = date_input()\n",
    "\n",
    "date"
   ]
  },
  {
   "cell_type": "code",
   "execution_count": null,
   "id": "008ebc5b",
   "metadata": {},
   "outputs": [],
   "source": [
    "# ----------------------------------\n",
    "# 웹페이지 요청하여 응답객체 반환\n",
    "# ----------------------------------\n",
    "\n",
    "# ----------------------------------\n",
    "# 웹페이지 파싱하여 BeautifulSoup 객체 반환\n",
    "# ----------------------------------\n",
    "\n",
    "\n",
    "# ----------------------------------\n",
    "# article 리스트 추출\n",
    "# ----------------------------------   \n",
    "\n",
    "\n",
    "# ----------------------------------\n",
    "# article 리스트에서 요소의 텍스트, 속성 추출\n",
    "# ----------------------------------   \n",
    "\n",
    "    \n",
    "    \n"
   ]
  },
  {
   "cell_type": "code",
   "execution_count": null,
   "id": "81e52d72",
   "metadata": {},
   "outputs": [],
   "source": [
    "# --------------------------\n",
    "# 데이터프레임 생성\n",
    "# --------------------------\n"
   ]
  },
  {
   "cell_type": "code",
   "execution_count": null,
   "id": "8fb47609",
   "metadata": {},
   "outputs": [],
   "source": [
    "# --------------------------\n",
    "# 파일로 저장\n",
    "# --------------------------\n",
    "\n"
   ]
  }
 ],
 "metadata": {
  "kernelspec": {
   "display_name": ".venv",
   "language": "python",
   "name": "python3"
  },
  "language_info": {
   "codemirror_mode": {
    "name": "ipython",
    "version": 3
   },
   "file_extension": ".py",
   "mimetype": "text/x-python",
   "name": "python",
   "nbconvert_exporter": "python",
   "pygments_lexer": "ipython3",
   "version": "3.13.1"
  }
 },
 "nbformat": 4,
 "nbformat_minor": 5
}
