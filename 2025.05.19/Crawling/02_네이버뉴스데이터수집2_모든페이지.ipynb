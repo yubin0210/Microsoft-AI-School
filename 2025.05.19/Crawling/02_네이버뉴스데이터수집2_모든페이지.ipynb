{
 "cells": [
  {
   "cell_type": "code",
   "execution_count": 10,
   "id": "76db70f0",
   "metadata": {},
   "outputs": [],
   "source": [
    "import requests\n",
    "from bs4 import BeautifulSoup\n",
    "import time\n",
    "from datetime import datetime\n",
    "import pandas as pd\n",
    "import numpy as np\n",
    "\n",
    "# ----------------------------------\n",
    "# 날짜 입력받기\n",
    "#   -> 입력하지 않으면 오늘날짜 반환\n",
    "#   -> 잘못된 형식이면 None 반환\n",
    "# ----------------------------------\n",
    "def date_input():\n",
    "\n",
    "    date_str = input(\"날짜:(형식:2020-01-05)\")\n",
    "    \n",
    "    if date_str==\"\":\n",
    "        date_str = datetime.now().strftime('%Y-%m-%d')\n",
    "    \n",
    "    try:\n",
    "        datetime.strptime(date_str, '%Y-%m-%d')\n",
    "    except:\n",
    "        print(\"날짜 형색이 올바르지 않습니다.\")\n",
    "        date_str = None\n",
    "    \n",
    "    return date_str\n",
    "\n",
    "date = date_input()\n",
    "\n"
   ]
  },
  {
   "cell_type": "code",
   "execution_count": null,
   "id": "008ebc5b",
   "metadata": {},
   "outputs": [],
   "source": []
  },
  {
   "cell_type": "code",
   "execution_count": 12,
   "id": "81e52d72",
   "metadata": {},
   "outputs": [
    {
     "name": "stdout",
     "output_type": "stream",
     "text": [
      "<class 'pandas.core.frame.DataFrame'>\n",
      "RangeIndex: 155 entries, 0 to 154\n",
      "Data columns (total 5 columns):\n",
      " #   Column   Non-Null Count  Dtype \n",
      "---  ------   --------------  ----- \n",
      " 0   title    155 non-null    object\n",
      " 1   summary  155 non-null    object\n",
      " 2   press    155 non-null    object\n",
      " 3   wdate    155 non-null    object\n",
      " 4   link     155 non-null    object\n",
      "dtypes: object(5)\n",
      "memory usage: 6.2+ KB\n"
     ]
    }
   ],
   "source": [
    "df = pd.DataFrame(data)\n",
    "\n",
    "df.info()"
   ]
  },
  {
   "cell_type": "code",
   "execution_count": null,
   "id": "8fb47609",
   "metadata": {},
   "outputs": [],
   "source": [
    "suffix = f'{date}_{int(time.time())}'\n"
   ]
  }
 ],
 "metadata": {
  "kernelspec": {
   "display_name": ".venv",
   "language": "python",
   "name": "python3"
  },
  "language_info": {
   "codemirror_mode": {
    "name": "ipython",
    "version": 3
   },
   "file_extension": ".py",
   "mimetype": "text/x-python",
   "name": "python",
   "nbconvert_exporter": "python",
   "pygments_lexer": "ipython3",
   "version": "3.13.1"
  }
 },
 "nbformat": 4,
 "nbformat_minor": 5
}
