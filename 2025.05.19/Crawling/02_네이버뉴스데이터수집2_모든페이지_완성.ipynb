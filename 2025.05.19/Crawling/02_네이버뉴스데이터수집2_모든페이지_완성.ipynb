{
 "cells": [
  {
   "cell_type": "code",
   "execution_count": 10,
   "id": "76db70f0",
   "metadata": {},
   "outputs": [],
   "source": [
    "import requests\n",
    "from bs4 import BeautifulSoup\n",
    "import time\n",
    "from datetime import datetime\n",
    "import pandas as pd\n",
    "import numpy as np\n",
    "\n",
    "# ----------------------------------\n",
    "# 날짜 입력받기\n",
    "#   -> 입력하지 않으면 오늘날짜 반환\n",
    "#   -> 잘못된 형식이면 None 반환\n",
    "# ----------------------------------\n",
    "def date_input():\n",
    "\n",
    "    date_str = input(\"날짜:(형식:2020-01-05)\")\n",
    "    \n",
    "    if date_str==\"\":\n",
    "        date_str = datetime.now().strftime('%Y-%m-%d')\n",
    "    \n",
    "    try:\n",
    "        datetime.strptime(date_str, '%Y-%m-%d')\n",
    "    except:\n",
    "        print(\"날짜 형색이 올바르지 않습니다.\")\n",
    "        date_str = None\n",
    "    \n",
    "    return date_str\n",
    "\n",
    "date = date_input()\n",
    "\n"
   ]
  },
  {
   "cell_type": "code",
   "execution_count": 11,
   "id": "008ebc5b",
   "metadata": {},
   "outputs": [],
   "source": [
    "data = []\n",
    "i = 1\n",
    "while True:\n",
    "    \n",
    "    time.sleep(np.random.uniform(1.0, 3.0))\n",
    "    \n",
    "\n",
    "    # ----------------------------------\n",
    "    # 웹페이지 요청하여 응답객체 반환\n",
    "    # ----------------------------------\n",
    "    url = f'https://finance.naver.com/news/mainnews.naver?date={date}&page={i}'\n",
    "    response = requests.get(url)\n",
    "\n",
    "    # ----------------------------------\n",
    "    # 웹페이지 파싱하여 BeautifulSoup 객체 반환\n",
    "    # ----------------------------------\n",
    "    soup = BeautifulSoup(response.text, 'html.parser')\n",
    "\n",
    "    # ----------------------------------\n",
    "    # article 리스트 추출\n",
    "    # ----------------------------------   \n",
    "    articles = soup.select(\".block1\")\n",
    "\n",
    "    # ----------------------------------\n",
    "    # article 리스트에서 요소의 텍스트, 속성 추출\n",
    "    # ----------------------------------   \n",
    "    \n",
    "    for article in articles:\n",
    "        title = article.select_one(\".articleSubject>a\").text\n",
    "        summary = article.select_one(\".articleSummary\").contents[0].text.strip()\n",
    "        press = article.select_one(\".press\").text.strip()\n",
    "        wdate = article.select_one(\".wdate\").text.strip()\n",
    "        link = article.select_one(\".articleSubject>a\").attrs['href']\n",
    "        article_id = link.split('=')[1].split('&')[0]\n",
    "        office_id = link.split('office_id=')[1].split('&')[0]\n",
    "        link = f'https://n.news.naver.com/mnews/article/{office_id}/{article_id}'\n",
    "        data.append({\"title\":title, \"summary\":summary, \"press\":press, \"wdate\":wdate, \"link\":link})\n",
    "\n",
    "    i+=1\n",
    "    if(not soup.select_one('.pgRR')): break\n"
   ]
  },
  {
   "cell_type": "code",
   "execution_count": 12,
   "id": "81e52d72",
   "metadata": {},
   "outputs": [
    {
     "name": "stdout",
     "output_type": "stream",
     "text": [
      "<class 'pandas.core.frame.DataFrame'>\n",
      "RangeIndex: 155 entries, 0 to 154\n",
      "Data columns (total 5 columns):\n",
      " #   Column   Non-Null Count  Dtype \n",
      "---  ------   --------------  ----- \n",
      " 0   title    155 non-null    object\n",
      " 1   summary  155 non-null    object\n",
      " 2   press    155 non-null    object\n",
      " 3   wdate    155 non-null    object\n",
      " 4   link     155 non-null    object\n",
      "dtypes: object(5)\n",
      "memory usage: 6.2+ KB\n"
     ]
    }
   ],
   "source": [
    "df = pd.DataFrame(data)\n",
    "\n",
    "df.info()"
   ]
  },
  {
   "cell_type": "code",
   "execution_count": 13,
   "id": "8fb47609",
   "metadata": {},
   "outputs": [],
   "source": [
    "suffix = f'{date}_{int(time.time())}'\n",
    "file_name = f'data/네이버증권뉴스/주요뉴스_모든페이지_{suffix}'\n",
    "\n",
    "df.to_csv(f'{file_name}.csv')\n",
    "df.to_excel(f'{file_name}.xlsx')"
   ]
  }
 ],
 "metadata": {
  "kernelspec": {
   "display_name": ".venv",
   "language": "python",
   "name": "python3"
  },
  "language_info": {
   "codemirror_mode": {
    "name": "ipython",
    "version": 3
   },
   "file_extension": ".py",
   "mimetype": "text/x-python",
   "name": "python",
   "nbconvert_exporter": "python",
   "pygments_lexer": "ipython3",
   "version": "3.13.1"
  }
 },
 "nbformat": 4,
 "nbformat_minor": 5
}
