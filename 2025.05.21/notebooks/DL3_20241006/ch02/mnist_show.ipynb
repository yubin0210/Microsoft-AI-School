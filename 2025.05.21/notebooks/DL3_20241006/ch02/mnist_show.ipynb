{
  "cells": [
    {
      "cell_type": "code",
      "execution_count": 5,
      "metadata": {
        "gather": {
          "logged": 1720243443204
        }
      },
      "outputs": [
        {
          "name": "stdout",
          "output_type": "stream",
          "text": [
            "/Users/j1star/Desktop/MS AI Projects/microsoft-ai-school/2025.05.21/notebooks/DL3_20241006/ch02\n",
            "/Users/j1star/Desktop/MS AI Projects/microsoft-ai-school/2025.05.21/notebooks/DL3_20241006\n",
            "random_target: 37906\n",
            "9\n",
            "(784,)\n",
            "(28, 28)\n"
          ]
        },
        {
          "data": {
            "image/png": "[encoded data removed]",
            "text/plain": [
              "<Figure size 640x480 with 1 Axes>"
            ]
          },
          "metadata": {},
          "output_type": "display_data"
        }
      ],
      "source": [
        "# coding: utf-8\n",
        "import sys, os\n",
        "print(os.getcwd())\n",
        "\n",
        "current_dir = os.path.dirname(os.getcwd())\n",
        "parent_dir = os.path.dirname(current_dir)\n",
        "print(current_dir)\n",
        "sys.path.append(current_dir)\n",
        "\n",
        "import numpy as np\n",
        "from dataset.mnist import load_mnist\n",
        "from PIL import Image\n",
        "import matplotlib.pyplot as plt\n",
        "\n",
        "def img_show(img):\n",
        "    plt.imshow(img, cmap='gray')\n",
        "    plt.axis(\"off\")\n",
        "    plt.show()\n",
        "    # pil_img = Image.fromarray(np.uint8(img))\n",
        "    # pil_img.show()\n",
        "\n",
        "(x_train, t_train), (x_test, t_test) = load_mnist(normalize=True, one_hot_label=False)\n",
        "\n",
        "random_target = np.random.randint(0, len(x_train))\n",
        "print(f\"random_target: {random_target}\")\n",
        "img = x_train[random_target]\n",
        "label = t_train[random_target]\n",
        "print(label)\n",
        "\n",
        "print(img.shape)\n",
        "img = img.reshape(28, 28)\n",
        "print(img.shape)\n",
        "\n",
        "img_show(img)"
      ]
    }
  ],
  "metadata": {
    "kernel_info": {
      "name": "python310-sdkv2"
    },
    "kernelspec": {
      "display_name": ".venv",
      "language": "python",
      "name": "python3"
    },
    "language_info": {
      "codemirror_mode": {
        "name": "ipython",
        "version": 3
      },
      "file_extension": ".py",
      "mimetype": "text/x-python",
      "name": "python",
      "nbconvert_exporter": "python",
      "pygments_lexer": "ipython3",
      "version": "3.11.9"
    },
    "microsoft": {
      "host": {
        "AzureML": {
          "notebookHasBeenCompleted": true
        }
      }
    },
    "nteract": {
      "version": "nteract-front-end@1.0.0"
    }
  },
  "nbformat": 4,
  "nbformat_minor": 2
}
