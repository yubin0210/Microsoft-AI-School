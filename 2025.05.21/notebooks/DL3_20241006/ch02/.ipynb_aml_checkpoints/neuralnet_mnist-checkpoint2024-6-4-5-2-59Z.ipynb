{
  "cells": [
    {
      "cell_type": "code",
      "source": [
        "# coding: utf-8\n",
        "import sys, os\n",
        "import time\n",
        "\n",
        "current_dir = os.path.dirname(os.getcwd())\n",
        "print(current_dir)\n",
        "os.chdir(current_dir)\n",
        "\n",
        "parent_dir = os.path.dirname(current_dir)\n",
        "sys.path.append(parent_dir)\n",
        "\n",
        "import numpy as np\n",
        "import pickle\n",
        "from dataset.mnist import load_mnist\n",
        "from common.functions import sigmoid, softmax\n",
        "\n",
        "\n",
        "def get_data():\n",
        "    (x_train, t_train), (x_test, t_test) = load_mnist(normalize=True, flatten=True, one_hot_label=False)\n",
        "    return x_test, t_test\n",
        "\n",
        "\n",
        "def init_network():\n",
        "    print(os.getcwd())\n",
        "    with open(\"ch02/sample_weight.pkl\", 'rb') as f:\n",
        "        network = pickle.load(f)\n",
        "    return network\n",
        "\n",
        "\n",
        "def predict(network, x):\n",
        "    W1, W2, W3 = network['W1'], network['W2'], network['W3']\n",
        "    b1, b2, b3 = network['b1'], network['b2'], network['b3']\n",
        "\n",
        "    a1 = np.dot(x, W1) + b1\n",
        "    z1 = sigmoid(a1)\n",
        "    a2 = np.dot(z1, W2) + b2\n",
        "    z2 = sigmoid(a2)\n",
        "    a3 = np.dot(z2, W3) + b3\n",
        "    y = softmax(a3)\n",
        "\n",
        "    return y\n",
        "\n",
        "\n",
        "x, t = get_data()\n",
        "network = init_network()\n",
        "accuracy_cnt = 0\n",
        "for i in range(len(x)):\n",
        "    y = predict(network, x[i])\n",
        "    p= np.argmax(y) # 확률이 가장 높은 원소의 인덱스를 얻는다.\n",
        "    if p == t[i]:\n",
        "        print('Predicted num=', p, '  Original num=', t[i])\n",
        "        time.sleep(0.5)\n",
        "        accuracy_cnt += 1\n",
        "\n",
        "print(\"Accuracy:\" + str(float(accuracy_cnt) / len(x)))\n"
      ],
      "outputs": [
        {
          "output_type": "stream",
          "name": "stdout",
          "text": "/mnt/batch/tasks/shared/LS_root/mounts/clusters/el202/code/Users/el20/DL\n/mnt/batch/tasks/shared/LS_root/mounts/clusters/el202/code/Users/el20/DL\n/mnt/batch/tasks/shared/LS_root/mounts/clusters/el202/code/Users/el20/DL\nPredicted num= 7   Original num= 7\nPredicted num= 2   Original num= 2\nPredicted num= 1   Original num= 1\nPredicted num= 0   Original num= 0\nPredicted num= 4   Original num= 4\nPredicted num= 1   Original num= 1\nPredicted num= 4   Original num= 4\nPredicted num= 9   Original num= 9\nPredicted num= 9   Original num= 9\nPredicted num= 0   Original num= 0\nPredicted num= 6   Original num= 6\nPredicted num= 9   Original num= 9\nPredicted num= 0   Original num= 0\nPredicted num= 1   Original num= 1\nPredicted num= 5   Original num= 5\nPredicted num= 9   Original num= 9\nPredicted num= 7   Original num= 7\nPredicted num= 3   Original num= 3\nPredicted num= 4   Original num= 4\nPredicted num= 9   Original num= 9\nPredicted num= 6   Original num= 6\nPredicted num= 6   Original num= 6\nPredicted num= 5   Original num= 5\nPredicted num= 4   Original num= 4\nPredicted num= 0   Original num= 0\nPredicted num= 7   Original num= 7\nPredicted num= 4   Original num= 4\nPredicted num= 0   Original num= 0\nPredicted num= 1   Original num= 1\nPredicted num= 3   Original num= 3\nPredicted num= 1   Original num= 1\nPredicted num= 3   Original num= 3\nPredicted num= 7   Original num= 7\nPredicted num= 2   Original num= 2\nPredicted num= 7   Original num= 7\nPredicted num= 1   Original num= 1\nPredicted num= 2   Original num= 2\nPredicted num= 1   Original num= 1\nPredicted num= 1   Original num= 1\nPredicted num= 7   Original num= 7\nPredicted num= 4   Original num= 4\nPredicted num= 2   Original num= 2\nPredicted num= 3   Original num= 3\nPredicted num= 5   Original num= 5\nPredicted num= 1   Original num= 1\nPredicted num= 2   Original num= 2\nPredicted num= 4   Original num= 4\nPredicted num= 4   Original num= 4\nPredicted num= 6   Original num= 6\nPredicted num= 3   Original num= 3\nPredicted num= 5   Original num= 5\nPredicted num= 5   Original num= 5\nPredicted num= 6   Original num= 6\nPredicted num= 0   Original num= 0\nPredicted num= 4   Original num= 4\nPredicted num= 1   Original num= 1\nPredicted num= 9   Original num= 9\nPredicted num= 5   Original num= 5\nPredicted num= 7   Original num= 7\nPredicted num= 8   Original num= 8\nPredicted num= 9   Original num= 9\nPredicted num= 3   Original num= 3\nPredicted num= 7   Original num= 7\nPredicted num= 4   Original num= 4\nPredicted num= 4   Original num= 4\nPredicted num= 3   Original num= 3\nPredicted num= 0   Original num= 0\nPredicted num= 7   Original num= 7\nPredicted num= 0   Original num= 0\nPredicted num= 2   Original num= 2\nPredicted num= 9   Original num= 9\n"
        }
      ],
      "execution_count": 1,
      "metadata": {
        "gather": {
          "logged": 1720069304326
        }
      }
    }
  ],
  "metadata": {
    "kernelspec": {
      "name": "python310-sdkv2",
      "language": "python",
      "display_name": "Python 3.10 - SDK v2"
    },
    "language_info": {
      "name": "python",
      "version": "3.10.14",
      "mimetype": "text/x-python",
      "codemirror_mode": {
        "name": "ipython",
        "version": 3
      },
      "pygments_lexer": "ipython3",
      "nbconvert_exporter": "python",
      "file_extension": ".py"
    },
    "kernel_info": {
      "name": "python310-sdkv2"
    },
    "nteract": {
      "version": "nteract-front-end@1.0.0"
    },
    "microsoft": {
      "host": {
        "AzureML": {
          "notebookHasBeenCompleted": true
        }
      }
    }
  },
  "nbformat": 4,
  "nbformat_minor": 2
}