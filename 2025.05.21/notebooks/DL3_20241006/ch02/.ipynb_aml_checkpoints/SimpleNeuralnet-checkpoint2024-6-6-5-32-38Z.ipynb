{
  "cells": [
    {
      "cell_type": "markdown",
      "source": [
        "## 필요한 라이브러리 Import"
      ],
      "metadata": {}
    },
    {
      "cell_type": "code",
      "source": [],
      "outputs": [],
      "execution_count": 1,
      "metadata": {
        "gather": {
          "logged": 1720069829643
        }
      }
    },
    {
      "cell_type": "markdown",
      "source": [
        "## 입력층에서 1층으로 신호 전달"
      ],
      "metadata": {}
    },
    {
      "cell_type": "code",
      "source": [],
      "outputs": [
        {
          "output_type": "stream",
          "name": "stdout",
          "text": "X =  [1.  0.5]\nB1 =  [0.1 0.2 0.3]\nW1 =  [[0.1 0.3 0.5]\n [0.2 0.4 0.6]]\nX * W1 + B1 = [0.3 0.7 1.1]\n"
        }
      ],
      "execution_count": 2,
      "metadata": {
        "gather": {
          "logged": 1720069829781
        }
      }
    },
    {
      "cell_type": "markdown",
      "source": [
        "## 활성화 함수의 적용"
      ],
      "metadata": {}
    },
    {
      "cell_type": "code",
      "source": [],
      "outputs": [
        {
          "output_type": "stream",
          "name": "stdout",
          "text": "A1 =  [0.3 0.7 1.1]\nZ1 =  [0.57444252 0.66818777 0.75026011]\n"
        }
      ],
      "execution_count": 3,
      "metadata": {
        "gather": {
          "logged": 1720069829933
        }
      }
    },
    {
      "cell_type": "markdown",
      "source": [
        "## 1층에서 2층으로 신호 전달"
      ],
      "metadata": {}
    },
    {
      "cell_type": "code",
      "source": [],
      "outputs": [
        {
          "output_type": "stream",
          "name": "stdout",
          "text": "B2 =  [0.1 0.2]\nW2 =  [[0.1 0.4]\n [0.2 0.5]\n [0.3 0.6]]\nZ1 * W2 + B2 = [0.51615984 1.21402696]\n"
        }
      ],
      "execution_count": 4,
      "metadata": {
        "gather": {
          "logged": 1720069830077
        }
      }
    },
    {
      "cell_type": "markdown",
      "source": [
        "## 활성화 함수의 적용\n"
      ],
      "metadata": {}
    },
    {
      "cell_type": "code",
      "source": [],
      "outputs": [
        {
          "output_type": "stream",
          "name": "stdout",
          "text": "A2 =  [0.51615984 1.21402696]\nZ2 =  [0.62624937 0.7710107 ]\n"
        }
      ],
      "execution_count": 5,
      "metadata": {
        "gather": {
          "logged": 1720069830216
        }
      }
    },
    {
      "cell_type": "markdown",
      "source": [
        "## 2층에서 3층으로 신호 전달"
      ],
      "metadata": {}
    },
    {
      "cell_type": "code",
      "source": [],
      "outputs": [
        {
          "output_type": "stream",
          "name": "stdout",
          "text": "B3 =  [0.1 0.2]\nW3 =  [[0.2 0.5]\n [0.3 0.6]]\nZ2 * W3 + B3 = [0.45655308 0.9757311 ]\n"
        }
      ],
      "execution_count": 6,
      "metadata": {
        "gather": {
          "logged": 1720069830381
        }
      }
    },
    {
      "cell_type": "markdown",
      "source": [
        "## 최종 출력층에 활성화 함수로 Softmax 적용"
      ],
      "metadata": {}
    },
    {
      "cell_type": "code",
      "source": [],
      "outputs": [
        {
          "output_type": "stream",
          "name": "stdout",
          "text": "A3 =  [0.45655308 0.9757311 ]\nY =  [0.37304446 0.62695554]\n"
        }
      ],
      "execution_count": 7,
      "metadata": {
        "gather": {
          "logged": 1720069830551
        }
      }
    }
  ],
  "metadata": {
    "kernelspec": {
      "name": "python3",
      "language": "python",
      "display_name": "Python 3 (ipykernel)"
    },
    "language_info": {
      "name": "python",
      "version": "3.9.18",
      "mimetype": "text/x-python",
      "codemirror_mode": {
        "name": "ipython",
        "version": 3
      },
      "pygments_lexer": "ipython3",
      "nbconvert_exporter": "python",
      "file_extension": ".py"
    },
    "kernel_info": {
      "name": "python3"
    },
    "nteract": {
      "version": "nteract-front-end@1.0.0"
    },
    "microsoft": {
      "host": {
        "AzureML": {
          "notebookHasBeenCompleted": true
        }
      }
    }
  },
  "nbformat": 4,
  "nbformat_minor": 2
}