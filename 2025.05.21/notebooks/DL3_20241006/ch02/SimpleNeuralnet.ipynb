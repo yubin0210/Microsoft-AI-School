{
  "cells": [
    {
      "cell_type": "markdown",
      "metadata": {},
      "source": [
        "## 필요한 라이브러리 Import"
      ]
    },
    {
      "cell_type": "code",
      "execution_count": 2,
      "metadata": {
        "gather": {
          "logged": 1720069829643
        }
      },
      "outputs": [],
      "source": [
        "import numpy as np\n",
        "import os, sys\n",
        "\n",
        "current_dir = os.getcwd()\n",
        "parent_dir = os.path.dirname(current_dir)\n",
        "\n",
        "sys.path.append(parent_dir)\n",
        "\n",
        "from common.functions import *"
      ]
    },
    {
      "cell_type": "markdown",
      "metadata": {},
      "source": [
        "## 입력층에서 1층으로 신호 전달"
      ]
    },
    {
      "cell_type": "code",
      "execution_count": 3,
      "metadata": {
        "gather": {
          "logged": 1720069829781
        }
      },
      "outputs": [
        {
          "name": "stdout",
          "output_type": "stream",
          "text": [
            "X: [1.  0.5]\n",
            "B1: [0.1 0.2 0.3]\n",
            "W1: [[0.1 0.3 0.5]\n",
            " [0.2 0.4 0.6]]\n",
            "X * W1 + B1: [0.3 0.7 1.1]\n"
          ]
        }
      ],
      "source": [
        "X = np.array([1.0, 0.5])\n",
        "W1 = np.array([[0.1, 0.3, 0.5], [0.2, 0.4, 0.6]])\n",
        "B1 = np.array([0.1, 0.2, 0.3])\n",
        "\n",
        "print(f\"X: {X}\")\n",
        "print(f\"B1: {B1}\")\n",
        "print(f\"W1: {W1}\")\n",
        "\n",
        "A1 = np.dot(X, W1) + B1\n",
        "print(f\"X * W1 + B1: {A1}\")"
      ]
    },
    {
      "cell_type": "markdown",
      "metadata": {},
      "source": [
        "## 활성화 함수의 적용"
      ]
    },
    {
      "cell_type": "code",
      "execution_count": 4,
      "metadata": {
        "gather": {
          "logged": 1720069829933
        }
      },
      "outputs": [
        {
          "name": "stdout",
          "output_type": "stream",
          "text": [
            "A1: [0.3 0.7 1.1]\n",
            "Z1: [0.57444252 0.66818777 0.75026011]\n"
          ]
        }
      ],
      "source": [
        "Z1 = sigmoid(A1)\n",
        "print(f\"A1: {A1}\")\n",
        "print(f\"Z1: {Z1}\")"
      ]
    },
    {
      "cell_type": "markdown",
      "metadata": {},
      "source": [
        "## 1층에서 2층으로 신호 전달"
      ]
    },
    {
      "cell_type": "code",
      "execution_count": 5,
      "metadata": {
        "gather": {
          "logged": 1720069830077
        }
      },
      "outputs": [
        {
          "name": "stdout",
          "output_type": "stream",
          "text": [
            "B2: [0.1 0.2]\n",
            "W2: [[0.1 0.4]\n",
            " [0.2 0.5]\n",
            " [0.3 0.6]]\n",
            "Z1 * W2 + B2: [0.51615984 1.21402696]\n"
          ]
        }
      ],
      "source": [
        "W2 = np.array([[0.1, 0.4], [0.2, 0.5], [0.3, 0.6]])\n",
        "B2 = np.array([0.1, 0.2])\n",
        "\n",
        "print(f\"B2: {B2}\")\n",
        "print(f\"W2: {W2}\")\n",
        "\n",
        "A2 = np.dot(Z1, W2) + B2\n",
        "print(f\"Z1 * W2 + B2: {A2}\")"
      ]
    },
    {
      "cell_type": "markdown",
      "metadata": {},
      "source": [
        "## 활성화 함수의 적용\n"
      ]
    },
    {
      "cell_type": "code",
      "execution_count": 6,
      "metadata": {
        "gather": {
          "logged": 1720069830216
        }
      },
      "outputs": [
        {
          "name": "stdout",
          "output_type": "stream",
          "text": [
            "A2: [0.51615984 1.21402696]\n",
            "Z2: [0.62624937 0.7710107 ]\n"
          ]
        }
      ],
      "source": [
        "print(f\"A2: {A2}\")\n",
        "\n",
        "Z2 = sigmoid(A2)\n",
        "print(f\"Z2: {Z2}\")"
      ]
    },
    {
      "cell_type": "markdown",
      "metadata": {},
      "source": [
        "## 2층에서 3층으로 신호 전달"
      ]
    },
    {
      "cell_type": "code",
      "execution_count": 7,
      "metadata": {
        "gather": {
          "logged": 1720069830381
        }
      },
      "outputs": [
        {
          "name": "stdout",
          "output_type": "stream",
          "text": [
            "B3: [0.1 0.2]\n",
            "W3: [[0.2 0.5]\n",
            " [0.3 0.6]]\n",
            "Z2 * W3 + B3: [0.45655308 0.9757311 ]\n"
          ]
        }
      ],
      "source": [
        "W3 = np.array([[0.2, 0.5], [0.3, 0.6]])\n",
        "B3 = np.array([0.1, 0.2])\n",
        "\n",
        "print(f\"B3: {B3}\")\n",
        "print(f\"W3: {W3}\")\n",
        "\n",
        "A3 = np.dot(Z2, W3) + B3\n",
        "print(f\"Z2 * W3 + B3: {A3}\")"
      ]
    },
    {
      "cell_type": "markdown",
      "metadata": {},
      "source": [
        "## 최종 출력층에 활성화 함수로 Softmax 적용"
      ]
    },
    {
      "cell_type": "code",
      "execution_count": 9,
      "metadata": {
        "gather": {
          "logged": 1720069830551
        }
      },
      "outputs": [
        {
          "name": "stdout",
          "output_type": "stream",
          "text": [
            "A3: [0.45655308 0.9757311 ]\n",
            "Y: [0.37304446 0.62695554]\n"
          ]
        }
      ],
      "source": [
        "print(f\"A3: {A3}\")\n",
        "\n",
        "Y = softmax(A3)\n",
        "print(f\"Y: {Y}\")\n"
      ]
    }
  ],
  "metadata": {
    "kernel_info": {
      "name": "python3"
    },
    "kernelspec": {
      "display_name": ".venv",
      "language": "python",
      "name": "python3"
    },
    "language_info": {
      "codemirror_mode": {
        "name": "ipython",
        "version": 3
      },
      "file_extension": ".py",
      "mimetype": "text/x-python",
      "name": "python",
      "nbconvert_exporter": "python",
      "pygments_lexer": "ipython3",
      "version": "3.11.9"
    },
    "microsoft": {
      "host": {
        "AzureML": {
          "notebookHasBeenCompleted": true
        }
      }
    },
    "nteract": {
      "version": "nteract-front-end@1.0.0"
    }
  },
  "nbformat": 4,
  "nbformat_minor": 2
}
