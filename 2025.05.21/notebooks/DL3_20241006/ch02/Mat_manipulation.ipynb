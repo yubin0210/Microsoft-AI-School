{
  "cells": [
    {
      "cell_type": "code",
      "execution_count": 4,
      "metadata": {
        "gather": {
          "logged": 1720240144026
        }
      },
      "outputs": [
        {
          "name": "stdout",
          "output_type": "stream",
          "text": [
            "[1 2 3 4]\n",
            "1\n",
            "(4,)\n",
            "[[1 2]\n",
            " [3 4]\n",
            " [5 6]]\n",
            "2\n",
            "(3, 2)\n",
            "\n",
            "\n",
            "(2, 2)\n",
            "\n",
            "\n",
            "(2, 3)\n",
            "[[1 2 3]\n",
            " [4 5 6]]\n",
            "(3, 2)\n",
            "[[1 2]\n",
            " [3 4]\n",
            " [5 6]]\n",
            "\n",
            "\n",
            "[1 2]\n",
            "[[1 3 5]\n",
            " [2 4 6]]\n",
            "[ 5 11 17]\n"
          ]
        }
      ],
      "source": [
        "# coding: utf-8\n",
        "import numpy as np\n",
        "\n",
        "# 1D array\n",
        "A = np.array([1, 2, 3, 4])\n",
        "print(A)\n",
        "print(np.ndim(A))\n",
        "print(A.shape)\n",
        "\n",
        "B = np.array([[1, 2], [3, 4], [5, 6]])\n",
        "print(B)\n",
        "print(np.ndim(B))\n",
        "print(B.shape)\n",
        "print(\"\\n\")\n",
        "\n",
        "# 2D array (2x2) * (2x2)\n",
        "A = np.array([[1, 2], [3, 4]])\n",
        "print(A.shape)\n",
        "\n",
        "B = np.array([[5, 6], [7, 8]])\n",
        "np.dot(A, B)\n",
        "print(\"\\n\")\n",
        "\n",
        "# 2D array (2x3) * (3x2)\n",
        "A = np.array([[1, 2, 3], [4, 5, 6]])\n",
        "print(A.shape)\n",
        "print(A)\n",
        "\n",
        "B = np.array([[1, 2], [3, 4], [5, 6]])\n",
        "print(B.shape)\n",
        "print(B)\n",
        "\n",
        "np.dot(A, B)\n",
        "print(\"\\n\")\n",
        "\n",
        "# 2D array (1x2) * (2x3)\n",
        "X = np.array([1, 2])\n",
        "print(X)\n",
        "\n",
        "W = np.array([[1,3,5], [2,4,6]])\n",
        "print(W)\n",
        "\n",
        "Y = np.dot(X, W)\n",
        "print(Y)"
      ]
    }
  ],
  "metadata": {
    "kernel_info": {
      "name": "python3"
    },
    "kernelspec": {
      "display_name": ".venv",
      "language": "python",
      "name": "python3"
    },
    "language_info": {
      "codemirror_mode": {
        "name": "ipython",
        "version": 3
      },
      "file_extension": ".py",
      "mimetype": "text/x-python",
      "name": "python",
      "nbconvert_exporter": "python",
      "pygments_lexer": "ipython3",
      "version": "3.11.9"
    },
    "microsoft": {
      "host": {
        "AzureML": {
          "notebookHasBeenCompleted": true
        }
      }
    },
    "nteract": {
      "version": "nteract-front-end@1.0.0"
    }
  },
  "nbformat": 4,
  "nbformat_minor": 2
}
