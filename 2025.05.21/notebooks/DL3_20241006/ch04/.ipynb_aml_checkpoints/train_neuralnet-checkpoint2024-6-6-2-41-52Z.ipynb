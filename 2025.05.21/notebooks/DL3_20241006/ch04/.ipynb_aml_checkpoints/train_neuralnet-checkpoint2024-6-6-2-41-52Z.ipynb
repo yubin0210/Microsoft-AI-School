{
  "cells": [
    {
      "cell_type": "code",
      "source": [
        "# coding: utf-8\n",
        "import os, sys\n",
        "print(os.getcwd())\n",
        "current_dir = os.path.dirname(os.getcwd())\n",
        "print(current_dir)\n",
        "os.chdir(current_dir)\n"
      ],
      "outputs": [
        {
          "output_type": "stream",
          "name": "stdout",
          "text": "/mnt/batch/tasks/shared/LS_root/mounts/clusters/el202/code/Users/el20/DL/ch04\n/mnt/batch/tasks/shared/LS_root/mounts/clusters/el202/code/Users/el20/DL\n0.16508333333333333 0.1578\n0.9048833333333334 0.9111\n0.9226666666666666 0.9265\n0.93485 0.934\n0.9426833333333333 0.9417\n0.9508666666666666 0.9486\n0.95605 0.9537\n0.9582166666666667 0.956\n0.9640833333333333 0.959\n0.9645 0.9601\n0.9697 0.9638\n0.9688666666666667 0.9645\n0.9730666666666666 0.9677\n0.9745 0.9693\n"
        }
      ],
      "execution_count": 1,
      "metadata": {
        "gather": {
          "logged": 1720081926684
        }
      }
    }
  ],
  "metadata": {
    "kernelspec": {
      "name": "python310-sdkv2",
      "language": "python",
      "display_name": "Python 3.10 - SDK v2"
    },
    "language_info": {
      "name": "python",
      "version": "3.10.14",
      "mimetype": "text/x-python",
      "codemirror_mode": {
        "name": "ipython",
        "version": 3
      },
      "pygments_lexer": "ipython3",
      "nbconvert_exporter": "python",
      "file_extension": ".py"
    },
    "kernel_info": {
      "name": "python310-sdkv2"
    },
    "microsoft": {
      "host": {
        "AzureML": {
          "notebookHasBeenCompleted": true
        }
      }
    },
    "nteract": {
      "version": "nteract-front-end@1.0.0"
    }
  },
  "nbformat": 4,
  "nbformat_minor": 2
}