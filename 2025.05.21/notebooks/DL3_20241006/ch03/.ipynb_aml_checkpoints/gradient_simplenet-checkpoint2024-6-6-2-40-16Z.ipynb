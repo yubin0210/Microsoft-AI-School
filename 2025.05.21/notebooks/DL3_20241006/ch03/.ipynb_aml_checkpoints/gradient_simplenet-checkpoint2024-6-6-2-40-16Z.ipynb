{
  "cells": [
    {
      "cell_type": "code",
      "source": [
        "# coding: utf-8\n"
      ],
      "outputs": [
        {
          "output_type": "stream",
          "name": "stdout",
          "text": "/mnt/batch/tasks/shared/LS_root/mounts/clusters/el202/code/Users/el20/DL/ch03\n/mnt/batch/tasks/shared/LS_root/mounts/clusters/el202/code/Users/el20/DL\n[[ 0.09698559  0.210517   -0.30750259]\n [ 0.14547839  0.3157755  -0.46125389]]\n"
        }
      ],
      "execution_count": 1,
      "metadata": {
        "gather": {
          "logged": 1720078123315
        }
      }
    }
  ],
  "metadata": {
    "kernelspec": {
      "name": "python310-sdkv2",
      "language": "python",
      "display_name": "Python 3.10 - SDK v2"
    },
    "language_info": {
      "name": "python",
      "version": "3.10.14",
      "mimetype": "text/x-python",
      "codemirror_mode": {
        "name": "ipython",
        "version": 3
      },
      "pygments_lexer": "ipython3",
      "nbconvert_exporter": "python",
      "file_extension": ".py"
    },
    "kernel_info": {
      "name": "python310-sdkv2"
    },
    "nteract": {
      "version": "nteract-front-end@1.0.0"
    },
    "microsoft": {
      "host": {
        "AzureML": {
          "notebookHasBeenCompleted": true
        }
      }
    }
  },
  "nbformat": 4,
  "nbformat_minor": 2
}