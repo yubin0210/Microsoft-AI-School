{
  "cells": [
    {
      "cell_type": "code",
      "execution_count": 2,
      "metadata": {
        "gather": {
          "logged": 1720078123315
        }
      },
      "outputs": [
        {
          "name": "stdout",
          "output_type": "stream",
          "text": [
            "Loss: 2.5774994977038674\n",
            "Gradient:\n",
            " [[ 0.52380062  0.03062049 -0.5544211 ]\n",
            " [ 0.78570092  0.04593073 -0.83163165]]\n"
          ]
        }
      ],
      "source": [
        "# coding: utf-8\n",
        "import sys, os\n",
        "\n",
        "current_dir = os.getcwd()\n",
        "parent_dir = os.path.dirname(current_dir)\n",
        "\n",
        "sys.path.append(parent_dir)\n",
        "\n",
        "import numpy as np\n",
        "from common.functions import softmax, cross_entropy_error\n",
        "from common.gradient import numerical_gradient\n",
        "\n",
        "\n",
        "class simpleNet:\n",
        "    def __init__(self):\n",
        "        # Initialize weights\n",
        "        self.W = np.random.randn(2, 3)  # 2 inputs, 3 outputs\n",
        "\n",
        "    def predict(self, x):\n",
        "        # Calculate the output\n",
        "        return np.dot(x, self.W)\n",
        "\n",
        "    def loss(self, x, t):\n",
        "        # Calculate the loss\n",
        "        z = self.predict(x)\n",
        "        y = softmax(z)\n",
        "        return cross_entropy_error(y, t)\n",
        "\n",
        "\n",
        "x = np.array([[0.6, 0.9]])  # Input data\n",
        "t = np.array([[0, 0, 1]])  # Target data (one-hot encoded)\n",
        "\n",
        "net = simpleNet()\n",
        "\n",
        "# Calculate the loss\n",
        "loss = lambda w: net.loss(x, t)\n",
        "\n",
        "# Calculate the gradient\n",
        "grad = numerical_gradient(loss, net.W)\n",
        "\n",
        "# Print the results\n",
        "print(\"Loss:\", loss(net.W))\n",
        "print(\"Gradient:\\n\", grad)"
      ]
    }
  ],
  "metadata": {
    "kernel_info": {
      "name": "python310-sdkv2"
    },
    "kernelspec": {
      "display_name": ".venv",
      "language": "python",
      "name": "python3"
    },
    "language_info": {
      "codemirror_mode": {
        "name": "ipython",
        "version": 3
      },
      "file_extension": ".py",
      "mimetype": "text/x-python",
      "name": "python",
      "nbconvert_exporter": "python",
      "pygments_lexer": "ipython3",
      "version": "3.11.9"
    },
    "microsoft": {
      "host": {
        "AzureML": {
          "notebookHasBeenCompleted": true
        }
      }
    },
    "nteract": {
      "version": "nteract-front-end@1.0.0"
    }
  },
  "nbformat": 4,
  "nbformat_minor": 2
}
