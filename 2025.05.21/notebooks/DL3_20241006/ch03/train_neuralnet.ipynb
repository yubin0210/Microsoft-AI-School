{
  "cells": [
    {
      "cell_type": "code",
      "execution_count": 96,
      "metadata": {
        "gather": {
          "logged": 1720078832601
        }
      },
      "outputs": [
        {
          "name": "stdout",
          "output_type": "stream",
          "text": [
            "Train size: 60000, iter_per_epoch: 1200.0\n",
            "Iteration 0    : Train Accuracy: 0.099150, Test Accuracy: 0.100900\n",
            "Iteration 1200 : Train Accuracy: 0.924467, Test Accuracy: 0.927700\n",
            "Iteration 2400 : Train Accuracy: 0.945733, Test Accuracy: 0.943600\n",
            "Iteration 3600 : Train Accuracy: 0.958417, Test Accuracy: 0.955500\n",
            "Iteration 4800 : Train Accuracy: 0.967950, Test Accuracy: 0.963700\n",
            "Iteration 6000 : Train Accuracy: 0.972400, Test Accuracy: 0.967000\n",
            "Iteration 7200 : Train Accuracy: 0.975517, Test Accuracy: 0.969200\n",
            "Iteration 8400 : Train Accuracy: 0.979233, Test Accuracy: 0.969900\n",
            "Iteration 9600 : Train Accuracy: 0.981700, Test Accuracy: 0.972300\n",
            "Iteration 10800: Train Accuracy: 0.984650, Test Accuracy: 0.974500\n",
            "Iteration 12000: Train Accuracy: 0.986550, Test Accuracy: 0.975600\n",
            "Iteration 13200: Train Accuracy: 0.988150, Test Accuracy: 0.975800\n",
            "Iteration 14400: Train Accuracy: 0.989167, Test Accuracy: 0.977100\n",
            "Iteration 15600: Train Accuracy: 0.989267, Test Accuracy: 0.976100\n",
            "Iteration 16800: Train Accuracy: 0.991700, Test Accuracy: 0.976200\n",
            "Iteration 18000: Train Accuracy: 0.992583, Test Accuracy: 0.978600\n",
            "Iteration 19200: Train Accuracy: 0.993383, Test Accuracy: 0.979000\n",
            "Iteration 20400: Train Accuracy: 0.993783, Test Accuracy: 0.978800\n",
            "Iteration 21600: Train Accuracy: 0.994433, Test Accuracy: 0.979200\n",
            "Iteration 22800: Train Accuracy: 0.995200, Test Accuracy: 0.978900\n",
            "Iteration 24000: Train Accuracy: 0.995850, Test Accuracy: 0.979300\n",
            "Iteration 25200: Train Accuracy: 0.996583, Test Accuracy: 0.979700\n",
            "Iteration 26400: Train Accuracy: 0.996750, Test Accuracy: 0.979200\n",
            "Iteration 27600: Train Accuracy: 0.997650, Test Accuracy: 0.979400\n",
            "Iteration 28800: Train Accuracy: 0.997883, Test Accuracy: 0.980000\n",
            "Iteration 30000: Train Accuracy: 0.998283, Test Accuracy: 0.980200\n",
            "Iteration 31200: Train Accuracy: 0.998550, Test Accuracy: 0.979700\n",
            "Iteration 32400: Train Accuracy: 0.998633, Test Accuracy: 0.980100\n",
            "Iteration 33600: Train Accuracy: 0.998917, Test Accuracy: 0.980200\n",
            "Iteration 34800: Train Accuracy: 0.998833, Test Accuracy: 0.980400\n",
            "Iteration 36000: Train Accuracy: 0.998600, Test Accuracy: 0.980500\n",
            "Iteration 37200: Train Accuracy: 0.999133, Test Accuracy: 0.981300\n",
            "Iteration 38400: Train Accuracy: 0.999267, Test Accuracy: 0.980100\n",
            "Iteration 39600: Train Accuracy: 0.999517, Test Accuracy: 0.980600\n",
            "Iteration 40800: Train Accuracy: 0.999517, Test Accuracy: 0.980200\n",
            "Iteration 42000: Train Accuracy: 0.999467, Test Accuracy: 0.980300\n",
            "Iteration 43200: Train Accuracy: 0.999600, Test Accuracy: 0.980400\n",
            "Iteration 44400: Train Accuracy: 0.999483, Test Accuracy: 0.980300\n",
            "Iteration 45600: Train Accuracy: 0.999567, Test Accuracy: 0.980300\n",
            "Iteration 46800: Train Accuracy: 0.999667, Test Accuracy: 0.980600\n",
            "Iteration 48000: Train Accuracy: 0.999700, Test Accuracy: 0.980300\n",
            "Iteration 49200: Train Accuracy: 0.999783, Test Accuracy: 0.981100\n"
          ]
        },
        {
          "data": {
            "image/png": "[encoded data removed]",
            "text/plain": [
              "<Figure size 640x480 with 1 Axes>"
            ]
          },
          "metadata": {},
          "output_type": "display_data"
        }
      ],
      "source": [
        "import os, sys\n",
        "\n",
        "current_dir = os.getcwd()\n",
        "parent_dir = os.path.dirname(current_dir)\n",
        "\n",
        "sys.path.append(parent_dir)\n",
        "\n",
        "import numpy as np\n",
        "import matplotlib.pyplot as plt\n",
        "from dataset.mnist import load_mnist\n",
        "from ch03.two_layer_net import TwoLayerNet\n",
        "\n",
        "# read data\n",
        "(x_train, t_train), (x_test, t_test) = load_mnist(normalize=True, one_hot_label=True)\n",
        "\n",
        "network = TwoLayerNet(input_size=784, hidden_size=195, output_size=10)\n",
        "\n",
        "# hyperparameters\n",
        "iters_num = 50000\n",
        "train_size = x_train.shape[0]\n",
        "batch_size = 50\n",
        "learning_rate = 0.5\n",
        "\n",
        "train_loss_list = []\n",
        "train_acc_list = []\n",
        "test_acc_list = []\n",
        "\n",
        "iter_per_epoch = max(train_size / batch_size, 1)\n",
        "print(f\"Train size: {train_size}, iter_per_epoch: {iter_per_epoch}\")\n",
        "\n",
        "for i in range(iters_num):\n",
        "    batch_mask = np.random.choice(train_size, batch_size)\n",
        "    x_batch = x_train[batch_mask]\n",
        "    t_batch = t_train[batch_mask]\n",
        "\n",
        "    # evaluate gradient\n",
        "    # grad = network.numerical_gradient(x_batch, t_batch)\n",
        "    grad = network.gradient(x_batch, t_batch)\n",
        "\n",
        "    # update parameters\n",
        "    for key in (\"W1\", \"b1\", \"W2\", \"b2\"):\n",
        "        network.params[key] -= learning_rate * grad[key]\n",
        "\n",
        "    # record loss\n",
        "    loss = network.loss(x_batch, t_batch)\n",
        "    train_loss_list.append(loss)\n",
        "\n",
        "    # record accuracy per epoch\n",
        "    if i % iter_per_epoch == 0:\n",
        "        train_acc = network.accuracy(x_train, t_train)\n",
        "        test_acc = network.accuracy(x_test, t_test)\n",
        "\n",
        "        train_acc_list.append(train_acc)\n",
        "        test_acc_list.append(test_acc)\n",
        "\n",
        "        print(\n",
        "            f\"Iteration {i:<5}: Train Accuracy: {train_acc:.6f}, Test Accuracy: {test_acc:.6f}\"\n",
        "        )\n",
        "\n",
        "markers = {\"train\": \"o\", \"test\": \"s\"}\n",
        "\n",
        "x = np.arange(len(train_acc_list))\n",
        "plt.plot(x, train_acc_list, marker=markers[\"train\"], label=\"train acc\")\n",
        "plt.plot(x, test_acc_list, marker=markers[\"test\"], label=\"test acc\", linestyle=\"--\")\n",
        "plt.xlabel(\"Epochs\")\n",
        "plt.ylabel(\"Accuracy\")\n",
        "plt.ylim(0, 1.0)\n",
        "plt.legend(loc=\"lower right\")\n",
        "plt.show()"
      ]
    }
  ],
  "metadata": {
    "kernel_info": {
      "name": "python310-sdkv2"
    },
    "kernelspec": {
      "display_name": ".venv",
      "language": "python",
      "name": "python3"
    },
    "language_info": {
      "codemirror_mode": {
        "name": "ipython",
        "version": 3
      },
      "file_extension": ".py",
      "mimetype": "text/x-python",
      "name": "python",
      "nbconvert_exporter": "python",
      "pygments_lexer": "ipython3",
      "version": "3.11.9"
    },
    "microsoft": {
      "host": {
        "AzureML": {
          "notebookHasBeenCompleted": true
        }
      }
    },
    "nteract": {
      "version": "nteract-front-end@1.0.0"
    }
  },
  "nbformat": 4,
  "nbformat_minor": 2
}
