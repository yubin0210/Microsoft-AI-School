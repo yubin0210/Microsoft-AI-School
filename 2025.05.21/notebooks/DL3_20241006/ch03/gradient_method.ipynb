{
  "cells": [
    {
      "cell_type": "code",
      "execution_count": null,
      "metadata": {
        "gather": {
          "logged": 1720077595575
        }
      },
      "outputs": [
        {
          "data": {
            "image/png": "[encoded data removed]",
            "text/plain": [
              "<Figure size 640x480 with 1 Axes>"
            ]
          },
          "metadata": {},
          "output_type": "display_data"
        }
      ],
      "source": [
        "# coding: utf-8\n",
        "import os, sys\n",
        "import numpy as np\n",
        "import matplotlib.pyplot as plt\n",
        "\n",
        "def _numerical_gradient_no_batch(f, x):\n",
        "    h = 1e-4  # step size\n",
        "    grad = np.zeros_like(x)  # initialize gradient\n",
        "\n",
        "    for idx in range(x.size):\n",
        "        tmp_val = x[idx]  # store original value\n",
        "\n",
        "        x[idx] = float(tmp_val) + h  # increment by h\n",
        "        fxh1 = f(x)  # evaluate f at x + h\n",
        "\n",
        "        x[idx] = tmp_val - h  # decrement by h\n",
        "        fxh2 = f(x)  # evaluate f at x - h\n",
        "\n",
        "        grad[idx] = (fxh1 - fxh2) / (2 * h)  # compute the gradient\n",
        "        x[idx] = tmp_val  # restore original value\n",
        "\n",
        "    return grad\n",
        "\n",
        "\n",
        "def numerical_gradient(f, x):\n",
        "    if x.ndim == 1:\n",
        "        return _numerical_gradient_no_batch(f, x)\n",
        "    else:\n",
        "        grad = np.zeros_like(x)  # initialize gradient for multi-dimensional case\n",
        "        for idx, x_i in enumerate(x):\n",
        "            grad[idx] = _numerical_gradient_no_batch(f, x_i)\n",
        "\n",
        "        return grad\n",
        "\n",
        "\n",
        "def gradient_descent(f, init_x, lr=0.01, step_num=100):\n",
        "    x = init_x\n",
        "    x_history = []\n",
        "\n",
        "    for i in range(step_num):\n",
        "        grad = numerical_gradient(f, x)  # compute gradient\n",
        "        x -= lr * grad  # update x\n",
        "\n",
        "        x_history.append(x.copy())  # store history\n",
        "\n",
        "    return x, np.array(x_history)\n",
        "\n",
        "\n",
        "def function_2(x):\n",
        "    return x[0] ** 2 + x[1] ** 2  # simple quadratic function\n",
        "\n",
        "\n",
        "init_x = np.array([-3.0, 4.0])  # initial point\n",
        "\n",
        "lr = 0.3  # learning rate\n",
        "step_num = 20  # number of steps\n",
        "x, x_history = gradient_descent(function_2, init_x, lr=lr, step_num=step_num)\n",
        "\n",
        "plt.plot([-5, 5], [0, 0], \"--b\")\n",
        "plt.plot([0, 0], [-5, 5], \"--b\")\n",
        "plt.plot(x_history[:, 0], x_history[:, 1], \"o\")\n",
        "\n",
        "plt.xlim(-3.5, 3.5)\n",
        "plt.ylim((-4.5, 4.5))\n",
        "plt.xlabel(\"x0\")\n",
        "plt.ylabel(\"x1\")\n",
        "plt.show()"
      ]
    }
  ],
  "metadata": {
    "kernel_info": {
      "name": "python310-sdkv2"
    },
    "kernelspec": {
      "display_name": ".venv",
      "language": "python",
      "name": "python3"
    },
    "language_info": {
      "codemirror_mode": {
        "name": "ipython",
        "version": 3
      },
      "file_extension": ".py",
      "mimetype": "text/x-python",
      "name": "python",
      "nbconvert_exporter": "python",
      "pygments_lexer": "ipython3",
      "version": "3.11.9"
    },
    "microsoft": {
      "host": {
        "AzureML": {
          "notebookHasBeenCompleted": true
        }
      }
    },
    "nteract": {
      "version": "nteract-front-end@1.0.0"
    }
  },
  "nbformat": 4,
  "nbformat_minor": 2
}
