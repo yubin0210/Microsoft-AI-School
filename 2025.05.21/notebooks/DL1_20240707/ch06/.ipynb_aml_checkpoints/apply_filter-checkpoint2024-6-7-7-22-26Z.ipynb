{
  "cells": [
    {
      "cell_type": "code",
      "source": [
        "import os, sys\n",
        "print(os.getcwd())\n",
        "current_dir = os.path.dirname(os.getcwd())\n",
        "print(current_dir)\n",
        "os.chdir(current_dir)\n",
        "\n",
        "import numpy as np\n",
        "import matplotlib.pyplot as plt\n",
        "from simple_convnet import SimpleConvNet\n",
        "from matplotlib.image import imread\n",
        "from common.layers import Convolution\n",
        "\n",
        "def filter_show(filters, nx=4, show_num=16):\n",
        "    \"\"\"\n",
        "    c.f. https://gist.github.com/aidiary/07d530d5e08011832b12#file-draw_weight-py\n",
        "    \"\"\"\n",
        "    FN, C, FH, FW = filters.shape\n",
        "    ny = int(np.ceil(show_num / nx))\n",
        "\n",
        "    fig = plt.figure()\n",
        "    fig.subplots_adjust(left=0, right=1, bottom=0, top=1, hspace=0.05, wspace=0.05)\n",
        "\n",
        "    for i in range(show_num):\n",
        "        ax = fig.add_subplot(4, 4, i+1, xticks=[], yticks=[])\n",
        "        ax.imshow(filters[i, 0], cmap=plt.cm.gray_r, interpolation='nearest')\n",
        "\n",
        "\n",
        "network = SimpleConvNet(input_dim=(1,28,28), \n",
        "                        conv_param = {'filter_num':30, 'filter_size':5, 'pad':0, 'stride':1},\n",
        "                        hidden_size=100, output_size=10, weight_init_std=0.01)\n",
        "\n",
        "# 학습된 가중치\n",
        "network.load_params(\"params.pkl\")\n",
        "\n",
        "filter_show(network.params['W1'], 16)\n",
        "\n",
        "img = imread('../dataset/cactus_gray.png')\n",
        "img = img.reshape(1, 1, *img.shape)\n",
        "\n",
        "fig = plt.figure()\n",
        "\n",
        "w_idx = 1\n",
        "\n",
        "for i in range(16):\n",
        "    w = network.params['W1'][i]\n",
        "    b = 0  # network.params['b1'][i]\n",
        "\n",
        "    w = w.reshape(1, *w.shape)\n",
        "    #b = b.reshape(1, *b.shape)\n",
        "    conv_layer = Convolution(w, b) \n",
        "    out = conv_layer.forward(img)\n",
        "    out = out.reshape(out.shape[2], out.shape[3])\n",
        "    \n",
        "    ax = fig.add_subplot(4, 4, i+1, xticks=[], yticks=[])\n",
        "    ax.imshow(out, cmap=plt.cm.gray_r, interpolation='nearest')\n",
        "\n",
        "plt.show()\n"
      ],
      "outputs": [],
      "execution_count": null,
      "metadata": {}
    }
  ],
  "metadata": {
    "kernelspec": {
      "name": "python310-sdkv2",
      "language": "python",
      "display_name": "Python 3.10 - SDK v2"
    },
    "language_info": {
      "name": "python",
      "version": "3.10.14",
      "mimetype": "text/x-python",
      "codemirror_mode": {
        "name": "ipython",
        "version": 3
      },
      "pygments_lexer": "ipython3",
      "nbconvert_exporter": "python",
      "file_extension": ".py"
    },
    "kernel_info": {
      "name": "python310-sdkv2"
    },
    "nteract": {
      "version": "nteract-front-end@1.0.0"
    }
  },
  "nbformat": 4,
  "nbformat_minor": 2
}