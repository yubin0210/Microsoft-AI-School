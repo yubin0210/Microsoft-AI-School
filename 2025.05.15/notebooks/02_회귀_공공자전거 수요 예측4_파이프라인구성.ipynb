{
 "cells": [
  {
   "cell_type": "code",
   "execution_count": 35,
   "id": "c37758de",
   "metadata": {
    "colab": {
     "base_uri": "https://localhost:8080/",
     "height": 237
    },
    "executionInfo": {
     "elapsed": 3388,
     "status": "ok",
     "timestamp": 1722762556575,
     "user": {
      "displayName": "Jayoung Kim",
      "userId": "14447265827232008674"
     },
     "user_tz": -540
    },
    "id": "c37758de",
    "outputId": "c85bb55d-1901-4f3b-b364-b30c1f8c4904"
   },
   "outputs": [],
   "source": [
    "import numpy as np\n",
    "import pandas as pd\n",
    "import matplotlib.pyplot as plt\n",
    "import seaborn as sns\n",
    "\n",
    "plt.style.use(\"ggplot\")"
   ]
  },
  {
   "cell_type": "markdown",
   "id": "Dgz6yfD1iEB1",
   "metadata": {
    "id": "Dgz6yfD1iEB1"
   },
   "source": [
    "## 데이터 준비"
   ]
  },
  {
   "cell_type": "code",
   "execution_count": 36,
   "id": "8d7c39a8",
   "metadata": {
    "colab": {
     "base_uri": "https://localhost:8080/",
     "height": 269
    },
    "executionInfo": {
     "elapsed": 617,
     "status": "ok",
     "timestamp": 1722762557187,
     "user": {
      "displayName": "Jayoung Kim",
      "userId": "14447265827232008674"
     },
     "user_tz": -540
    },
    "id": "8d7c39a8",
    "outputId": "687966af-5451-4eaf-f732-0d857e0fb903"
   },
   "outputs": [
    {
     "data": {
      "text/html": [
       "<div>\n",
       "<style scoped>\n",
       "    .dataframe tbody tr th:only-of-type {\n",
       "        vertical-align: middle;\n",
       "    }\n",
       "\n",
       "    .dataframe tbody tr th {\n",
       "        vertical-align: top;\n",
       "    }\n",
       "\n",
       "    .dataframe thead th {\n",
       "        text-align: right;\n",
       "    }\n",
       "</style>\n",
       "<table border=\"1\" class=\"dataframe\">\n",
       "  <thead>\n",
       "    <tr style=\"text-align: right;\">\n",
       "      <th></th>\n",
       "      <th>datetime</th>\n",
       "      <th>season</th>\n",
       "      <th>holiday</th>\n",
       "      <th>workingday</th>\n",
       "      <th>weather</th>\n",
       "      <th>temp</th>\n",
       "      <th>atemp</th>\n",
       "      <th>humidity</th>\n",
       "      <th>windspeed</th>\n",
       "      <th>casual</th>\n",
       "      <th>registered</th>\n",
       "      <th>count</th>\n",
       "      <th>year</th>\n",
       "      <th>month</th>\n",
       "      <th>day</th>\n",
       "      <th>hour</th>\n",
       "      <th>dayofweek</th>\n",
       "    </tr>\n",
       "  </thead>\n",
       "  <tbody>\n",
       "    <tr>\n",
       "      <th>0</th>\n",
       "      <td>2011-01-01 00:00:00</td>\n",
       "      <td>1</td>\n",
       "      <td>0</td>\n",
       "      <td>0</td>\n",
       "      <td>1</td>\n",
       "      <td>9.84</td>\n",
       "      <td>14.395</td>\n",
       "      <td>81</td>\n",
       "      <td>0.0</td>\n",
       "      <td>3</td>\n",
       "      <td>13</td>\n",
       "      <td>16</td>\n",
       "      <td>2011</td>\n",
       "      <td>1</td>\n",
       "      <td>1</td>\n",
       "      <td>0</td>\n",
       "      <td>5</td>\n",
       "    </tr>\n",
       "    <tr>\n",
       "      <th>1</th>\n",
       "      <td>2011-01-01 01:00:00</td>\n",
       "      <td>1</td>\n",
       "      <td>0</td>\n",
       "      <td>0</td>\n",
       "      <td>1</td>\n",
       "      <td>9.02</td>\n",
       "      <td>13.635</td>\n",
       "      <td>80</td>\n",
       "      <td>0.0</td>\n",
       "      <td>8</td>\n",
       "      <td>32</td>\n",
       "      <td>40</td>\n",
       "      <td>2011</td>\n",
       "      <td>1</td>\n",
       "      <td>1</td>\n",
       "      <td>1</td>\n",
       "      <td>5</td>\n",
       "    </tr>\n",
       "    <tr>\n",
       "      <th>2</th>\n",
       "      <td>2011-01-01 02:00:00</td>\n",
       "      <td>1</td>\n",
       "      <td>0</td>\n",
       "      <td>0</td>\n",
       "      <td>1</td>\n",
       "      <td>9.02</td>\n",
       "      <td>13.635</td>\n",
       "      <td>80</td>\n",
       "      <td>0.0</td>\n",
       "      <td>5</td>\n",
       "      <td>27</td>\n",
       "      <td>32</td>\n",
       "      <td>2011</td>\n",
       "      <td>1</td>\n",
       "      <td>1</td>\n",
       "      <td>2</td>\n",
       "      <td>5</td>\n",
       "    </tr>\n",
       "    <tr>\n",
       "      <th>3</th>\n",
       "      <td>2011-01-01 03:00:00</td>\n",
       "      <td>1</td>\n",
       "      <td>0</td>\n",
       "      <td>0</td>\n",
       "      <td>1</td>\n",
       "      <td>9.84</td>\n",
       "      <td>14.395</td>\n",
       "      <td>75</td>\n",
       "      <td>0.0</td>\n",
       "      <td>3</td>\n",
       "      <td>10</td>\n",
       "      <td>13</td>\n",
       "      <td>2011</td>\n",
       "      <td>1</td>\n",
       "      <td>1</td>\n",
       "      <td>3</td>\n",
       "      <td>5</td>\n",
       "    </tr>\n",
       "    <tr>\n",
       "      <th>4</th>\n",
       "      <td>2011-01-01 04:00:00</td>\n",
       "      <td>1</td>\n",
       "      <td>0</td>\n",
       "      <td>0</td>\n",
       "      <td>1</td>\n",
       "      <td>9.84</td>\n",
       "      <td>14.395</td>\n",
       "      <td>75</td>\n",
       "      <td>0.0</td>\n",
       "      <td>0</td>\n",
       "      <td>1</td>\n",
       "      <td>1</td>\n",
       "      <td>2011</td>\n",
       "      <td>1</td>\n",
       "      <td>1</td>\n",
       "      <td>4</td>\n",
       "      <td>5</td>\n",
       "    </tr>\n",
       "  </tbody>\n",
       "</table>\n",
       "</div>"
      ],
      "text/plain": [
       "             datetime  season  holiday  workingday  weather  temp   atemp  \\\n",
       "0 2011-01-01 00:00:00       1        0           0        1  9.84  14.395   \n",
       "1 2011-01-01 01:00:00       1        0           0        1  9.02  13.635   \n",
       "2 2011-01-01 02:00:00       1        0           0        1  9.02  13.635   \n",
       "3 2011-01-01 03:00:00       1        0           0        1  9.84  14.395   \n",
       "4 2011-01-01 04:00:00       1        0           0        1  9.84  14.395   \n",
       "\n",
       "   humidity  windspeed  casual  registered  count  year  month  day  hour  \\\n",
       "0        81        0.0       3          13     16  2011      1    1     0   \n",
       "1        80        0.0       8          32     40  2011      1    1     1   \n",
       "2        80        0.0       5          27     32  2011      1    1     2   \n",
       "3        75        0.0       3          10     13  2011      1    1     3   \n",
       "4        75        0.0       0           1      1  2011      1    1     4   \n",
       "\n",
       "   dayofweek  \n",
       "0          5  \n",
       "1          5  \n",
       "2          5  \n",
       "3          5  \n",
       "4          5  "
      ]
     },
     "execution_count": 36,
     "metadata": {},
     "output_type": "execute_result"
    }
   ],
   "source": [
    "# -------------------------------------------------\n",
    "# data 불러오기\n",
    "# -------------------------------------------------\n",
    "df = pd.read_csv(\"../data/bike_sharing_demand.csv\", parse_dates=[\"datetime\"])\n",
    "\n",
    "# -------------------------------------------------\n",
    "# 파생컬럼 추가\n",
    "# -------------------------------------------------\n",
    "# 연, 월, 일, 시, 요일\n",
    "df[\"year\"] = df[\"datetime\"].dt.year\n",
    "df[\"month\"] = df[\"datetime\"].dt.month\n",
    "df[\"day\"] = df[\"datetime\"].dt.day\n",
    "df[\"hour\"] = df[\"datetime\"].dt.hour\n",
    "df[\"dayofweek\"] = df[\"datetime\"].dt.dayofweek  # 월요일:0, 일요일:6\n",
    "df.head()"
   ]
  },
  {
   "cell_type": "markdown",
   "id": "a238c39a",
   "metadata": {},
   "source": [
    "## 변수선택"
   ]
  },
  {
   "cell_type": "code",
   "execution_count": 37,
   "id": "cd1c6b0f",
   "metadata": {},
   "outputs": [],
   "source": [
    "# --------------------------------------------\n",
    "# 변수선택\n",
    "#   - casual, registered는 독립변수의 성격이 아니므로 선택하지 않음\n",
    "#   - datetime은 선택하지 않음\n",
    "# --------------------------------------------\n",
    "\n",
    "X = df.drop([\"datetime\", \"casual\", \"registered\", \"count\", \"day\", \"temp\"], axis=1).copy()\n",
    "y = df[\"count\"]"
   ]
  },
  {
   "cell_type": "markdown",
   "id": "8568ea21",
   "metadata": {},
   "source": [
    "## 훈련세트 테스트세트 분할"
   ]
  },
  {
   "cell_type": "code",
   "execution_count": 38,
   "id": "bd170301",
   "metadata": {},
   "outputs": [
    {
     "name": "stdout",
     "output_type": "stream",
     "text": [
      "(8164, 11) (2722, 11) (8164,) (2722,)\n"
     ]
    }
   ],
   "source": [
    "# 훈련세트/테스트세트 분할\n",
    "from sklearn.model_selection import train_test_split\n",
    "\n",
    "X_train, X_test, y_train, y_test = train_test_split(X, y, random_state=42)\n",
    "print(X_train.shape, X_test.shape, y_train.shape, y_test.shape)"
   ]
  },
  {
   "cell_type": "markdown",
   "id": "f52e3360",
   "metadata": {},
   "source": [
    "## 전처리 파이프라인 구성\n",
    "* 파이프라인 \n",
    "    * 데이터 처리 과정을 순차적으로 연결하여 자동화하는 도구\n",
    "* ColumnTransformer\n",
    "    * 열별 전처리 파이프라인 구성"
   ]
  },
  {
   "cell_type": "code",
   "execution_count": 39,
   "id": "c3d7e982",
   "metadata": {},
   "outputs": [],
   "source": [
    "from sklearn.preprocessing import OneHotEncoder, StandardScaler\n",
    "from sklearn.compose import ColumnTransformer\n",
    "\n",
    "# -----------------------------\n",
    "# 전처리 대상 컬럼 지정\n",
    "#   - categorical_features : 원‑핫 인코딩할 범주형 변수 목록\n",
    "#   - numerical_features   : 표준화(평균 0, 표준편차 1)할 수치형 변수 목록\n",
    "# -----------------------------\n",
    "categorical_features = [\"season\", \"weather\", \"year\", \"month\", \"hour\", \"dayofweek\"]\n",
    "numerical_features = [\"atemp\", \"humidity\", \"windspeed\"]\n",
    "\n",
    "# -----------------------------\n",
    "# ColumnTransformer 구성\n",
    "#   - \"cat\" : 범주형 → OneHotEncoder\n",
    "#   - \"num\" : 수치형 → StandardScaler\n",
    "#   remainder=\"passthrough\" : transformers에 포함되지 않은 컬럼은 변환 없이 그대로 유지\n",
    "# -----------------------------\n",
    "preprocessor = ColumnTransformer(\n",
    "    transformers=[\n",
    "        # (\"cat\", OneHotEncoder(handle_unknown=\"ignore\"), categorical_features),\n",
    "        (\"num\", StandardScaler(), numerical_features)\n",
    "    ],\n",
    "    remainder=\"passthrough\"   # drop 으로 바꾸면 나머지 컬럼을 제거\n",
    ")"
   ]
  },
  {
   "cell_type": "markdown",
   "id": "m7QQlWS59CzF",
   "metadata": {
    "id": "m7QQlWS59CzF"
   },
   "source": [
    "# LinearRegression"
   ]
  },
  {
   "cell_type": "code",
   "execution_count": 40,
   "id": "891ce9ec",
   "metadata": {},
   "outputs": [
    {
     "name": "stdout",
     "output_type": "stream",
     "text": [
      "R2: 0.387\n",
      "RMSE: 141.809\n",
      "MAE: 105.524\n",
      "MSE: 20109.880\n",
      "Train Score: 0.390\n",
      "Test Score: 0.387\n"
     ]
    },
    {
     "name": "stderr",
     "output_type": "stream",
     "text": [
      "/Users/j1star/Desktop/MS AI Projects/microsoft-ai-school/.venv/lib/python3.11/site-packages/sklearn/linear_model/_base.py:279: RuntimeWarning: divide by zero encountered in matmul\n",
      "  return X @ coef_ + self.intercept_\n",
      "/Users/j1star/Desktop/MS AI Projects/microsoft-ai-school/.venv/lib/python3.11/site-packages/sklearn/linear_model/_base.py:279: RuntimeWarning: overflow encountered in matmul\n",
      "  return X @ coef_ + self.intercept_\n",
      "/Users/j1star/Desktop/MS AI Projects/microsoft-ai-school/.venv/lib/python3.11/site-packages/sklearn/linear_model/_base.py:279: RuntimeWarning: invalid value encountered in matmul\n",
      "  return X @ coef_ + self.intercept_\n",
      "/Users/j1star/Desktop/MS AI Projects/microsoft-ai-school/.venv/lib/python3.11/site-packages/sklearn/linear_model/_base.py:279: RuntimeWarning: divide by zero encountered in matmul\n",
      "  return X @ coef_ + self.intercept_\n",
      "/Users/j1star/Desktop/MS AI Projects/microsoft-ai-school/.venv/lib/python3.11/site-packages/sklearn/linear_model/_base.py:279: RuntimeWarning: overflow encountered in matmul\n",
      "  return X @ coef_ + self.intercept_\n",
      "/Users/j1star/Desktop/MS AI Projects/microsoft-ai-school/.venv/lib/python3.11/site-packages/sklearn/linear_model/_base.py:279: RuntimeWarning: invalid value encountered in matmul\n",
      "  return X @ coef_ + self.intercept_\n",
      "/Users/j1star/Desktop/MS AI Projects/microsoft-ai-school/.venv/lib/python3.11/site-packages/sklearn/linear_model/_base.py:279: RuntimeWarning: divide by zero encountered in matmul\n",
      "  return X @ coef_ + self.intercept_\n",
      "/Users/j1star/Desktop/MS AI Projects/microsoft-ai-school/.venv/lib/python3.11/site-packages/sklearn/linear_model/_base.py:279: RuntimeWarning: overflow encountered in matmul\n",
      "  return X @ coef_ + self.intercept_\n",
      "/Users/j1star/Desktop/MS AI Projects/microsoft-ai-school/.venv/lib/python3.11/site-packages/sklearn/linear_model/_base.py:279: RuntimeWarning: invalid value encountered in matmul\n",
      "  return X @ coef_ + self.intercept_\n"
     ]
    }
   ],
   "source": [
    "# --------------------------------------------\n",
    "# 파이프라인 정의\n",
    "# --------------------------------------------\n",
    "from sklearn.pipeline import Pipeline       # 전처리+모델 학습을 하나의 흐름으로 구성\n",
    "from sklearn.linear_model import LinearRegression\n",
    "\n",
    "pipeline = Pipeline(steps=[\n",
    "    ('preprocessor', preprocessor),\n",
    "    ('regressor', LinearRegression())\n",
    "])\n",
    "\n",
    "# --------------------------------------------\n",
    "# 훈련\n",
    "# --------------------------------------------\n",
    "pipeline.fit(X_train, y_train)\n",
    "\n",
    "# --------------------------------------------\n",
    "# 예측\n",
    "# --------------------------------------------\n",
    "pred = pipeline.predict(X_test)\n",
    "\n",
    "# --------------------------------------------\n",
    "# 모델 성능 평가\n",
    "# --------------------------------------------\n",
    "from sklearn.metrics import r2_score, root_mean_squared_error, mean_absolute_error, mean_squared_error\n",
    "r2 = r2_score(y_test, pred)\n",
    "rmse = root_mean_squared_error(y_test, pred)\n",
    "mae = mean_absolute_error(y_test, pred)\n",
    "mse = mean_squared_error(y_test, pred)\n",
    "\n",
    "print(f\"R2: {r2:.3f}\")\n",
    "print(f\"RMSE: {rmse:.3f}\")\n",
    "print(f\"MAE: {mae:.3f}\")\n",
    "print(f\"MSE: {mse:.3f}\")\n",
    "\n",
    "print(f\"Train Score: {pipeline.score(X_train, y_train):.3f}\")\n",
    "print(f\"Test Score: {pipeline.score(X_test, y_test):.3f}\")"
   ]
  },
  {
   "cell_type": "markdown",
   "id": "afc13a79",
   "metadata": {},
   "source": [
    "# KNeighborsRegressor"
   ]
  },
  {
   "cell_type": "code",
   "execution_count": 41,
   "id": "18d590c2",
   "metadata": {},
   "outputs": [
    {
     "name": "stdout",
     "output_type": "stream",
     "text": [
      "R2: 0.882\n",
      "RMSE: 62.239\n",
      "MAE: 39.310\n",
      "MSE: 3873.669\n",
      "Train Score: 0.928\n",
      "Test Score: 0.882\n"
     ]
    }
   ],
   "source": [
    "\n",
    "from sklearn.neighbors import KNeighborsRegressor\n",
    "\n",
    "# --------------------------------------------\n",
    "# 파이프라인 정의\n",
    "# --------------------------------------------\n",
    "pipeline = Pipeline(steps=[\n",
    "    ('preprocessor', preprocessor),\n",
    "    ('regressor', KNeighborsRegressor())\n",
    "])\n",
    "\n",
    "# --------------------------------------------\n",
    "# 훈련\n",
    "# --------------------------------------------\n",
    "pipeline.fit(X_train, y_train)\n",
    "\n",
    "# --------------------------------------------\n",
    "# 예측\n",
    "# --------------------------------------------\n",
    "pred = pipeline.predict(X_test)\n",
    "\n",
    "# --------------------------------------------\n",
    "# 모델 성능 평가\n",
    "# --------------------------------------------\n",
    "from sklearn.metrics import r2_score, root_mean_squared_error, mean_absolute_error, mean_squared_error\n",
    "r2 = r2_score(y_test, pred)\n",
    "rmse = root_mean_squared_error(y_test, pred)\n",
    "mae = mean_absolute_error(y_test, pred)\n",
    "mse = mean_squared_error(y_test, pred)\n",
    "\n",
    "print(f\"R2: {r2:.3f}\")\n",
    "print(f\"RMSE: {rmse:.3f}\")\n",
    "print(f\"MAE: {mae:.3f}\")\n",
    "print(f\"MSE: {mse:.3f}\")\n",
    "\n",
    "print(f\"Train Score: {pipeline.score(X_train, y_train):.3f}\")\n",
    "print(f\"Test Score: {pipeline.score(X_test, y_test):.3f}\")\n"
   ]
  },
  {
   "cell_type": "markdown",
   "id": "1ee66e2c",
   "metadata": {},
   "source": [
    "# DecisionTreeRegressor"
   ]
  },
  {
   "cell_type": "code",
   "execution_count": 42,
   "id": "fe48b624",
   "metadata": {},
   "outputs": [
    {
     "name": "stdout",
     "output_type": "stream",
     "text": [
      "R2: 0.905\n",
      "RMSE: 55.704\n",
      "MAE: 33.801\n",
      "MSE: 3102.893\n",
      "Train Score: 1.000\n",
      "Test Score: 0.905\n"
     ]
    }
   ],
   "source": [
    "\n",
    "from sklearn.tree import DecisionTreeRegressor\n",
    "\n",
    "# --------------------------------------------\n",
    "# 파이프라인 정의\n",
    "# --------------------------------------------\n",
    "pipeline = Pipeline(steps=[\n",
    "    ('preprocessor', preprocessor),\n",
    "    ('regressor', DecisionTreeRegressor())\n",
    "])\n",
    "\n",
    "# --------------------------------------------\n",
    "# 훈련\n",
    "# --------------------------------------------\n",
    "pipeline.fit(X_train, y_train)\n",
    "\n",
    "# --------------------------------------------\n",
    "# 예측\n",
    "# --------------------------------------------\n",
    "pred = pipeline.predict(X_test)\n",
    "\n",
    "# --------------------------------------------\n",
    "# 모델 성능 평가\n",
    "# --------------------------------------------\n",
    "from sklearn.metrics import r2_score, root_mean_squared_error, mean_absolute_error, mean_squared_error\n",
    "r2 = r2_score(y_test, pred)\n",
    "rmse = root_mean_squared_error(y_test, pred)\n",
    "mae = mean_absolute_error(y_test, pred)\n",
    "mse = mean_squared_error(y_test, pred)\n",
    "\n",
    "print(f\"R2: {r2:.3f}\")\n",
    "print(f\"RMSE: {rmse:.3f}\")\n",
    "print(f\"MAE: {mae:.3f}\")\n",
    "print(f\"MSE: {mse:.3f}\")\n",
    "\n",
    "print(f\"Train Score: {pipeline.score(X_train, y_train):.3f}\")\n",
    "print(f\"Test Score: {pipeline.score(X_test, y_test):.3f}\")\n"
   ]
  },
  {
   "cell_type": "markdown",
   "id": "a477cd83",
   "metadata": {},
   "source": [
    "# RandomForestRegressor"
   ]
  },
  {
   "cell_type": "code",
   "execution_count": 43,
   "id": "aba4f549",
   "metadata": {},
   "outputs": [
    {
     "name": "stdout",
     "output_type": "stream",
     "text": [
      "R2: 0.955\n",
      "RMSE: 38.467\n",
      "MAE: 24.200\n",
      "MSE: 1479.685\n",
      "Train Score: 0.993\n",
      "Test Score: 0.955\n"
     ]
    }
   ],
   "source": [
    "from sklearn.ensemble import RandomForestRegressor\n",
    "\n",
    "# --------------------------------------------\n",
    "# 파이프라인 정의\n",
    "# --------------------------------------------\n",
    "pipeline = Pipeline(steps=[\n",
    "    ('preprocessor', preprocessor),\n",
    "    ('regressor', RandomForestRegressor())\n",
    "])\n",
    "\n",
    "# --------------------------------------------\n",
    "# 훈련\n",
    "# --------------------------------------------\n",
    "pipeline.fit(X_train, y_train)\n",
    "\n",
    "# --------------------------------------------\n",
    "# 예측\n",
    "# --------------------------------------------\n",
    "pred = pipeline.predict(X_test)\n",
    "\n",
    "# --------------------------------------------\n",
    "# 모델 성능 평가\n",
    "# --------------------------------------------\n",
    "from sklearn.metrics import r2_score, root_mean_squared_error, mean_absolute_error, mean_squared_error\n",
    "r2 = r2_score(y_test, pred)\n",
    "rmse = root_mean_squared_error(y_test, pred)\n",
    "mae = mean_absolute_error(y_test, pred)\n",
    "mse = mean_squared_error(y_test, pred)\n",
    "\n",
    "print(f\"R2: {r2:.3f}\")\n",
    "print(f\"RMSE: {rmse:.3f}\")\n",
    "print(f\"MAE: {mae:.3f}\")\n",
    "print(f\"MSE: {mse:.3f}\")\n",
    "print(f\"Train Score: {pipeline.score(X_train, y_train):.3f}\")\n",
    "print(f\"Test Score: {pipeline.score(X_test, y_test):.3f}\")"
   ]
  },
  {
   "cell_type": "markdown",
   "id": "96216db8",
   "metadata": {},
   "source": [
    "# 모델 활용\n"
   ]
  },
  {
   "cell_type": "code",
   "execution_count": 44,
   "id": "17010979",
   "metadata": {},
   "outputs": [
    {
     "data": {
      "text/plain": [
       "['../models/bike_rent_pipe.pkl']"
      ]
     },
     "execution_count": 44,
     "metadata": {},
     "output_type": "execute_result"
    }
   ],
   "source": [
    "import joblib\n",
    "\n",
    "# ----------------------\n",
    "# 파이프라인 저장\n",
    "# ----------------------\n",
    "joblib.dump(pipeline, \"../models/bike_rent_pipe.pkl\")"
   ]
  },
  {
   "cell_type": "code",
   "execution_count": 45,
   "id": "d3ee9ba3",
   "metadata": {},
   "outputs": [],
   "source": [
    "# ------------------\n",
    "# 모델 불러오기 \n",
    "# ------------------\n",
    "loaded_pipe = joblib.load(\"../models/bike_rent_pipe.pkl\")"
   ]
  },
  {
   "cell_type": "code",
   "execution_count": 46,
   "id": "fcba3b47",
   "metadata": {},
   "outputs": [
    {
     "name": "stdout",
     "output_type": "stream",
     "text": [
      "예상 대여 수: 581대\n"
     ]
    }
   ],
   "source": [
    "# ------------------\n",
    "# 예측 \n",
    "# ------------------\n",
    "\n",
    "new_row = {\n",
    "    \"season\": 2, \"holiday\": 0, \"workingday\": 1, \"weather\": 1,\n",
    "    \"atemp\": 20.5, \"humidity\": 55, \"windspeed\": 0.12,\n",
    "    \"year\": 2025, \"month\": 5, \"day\": 1, \"hour\": 17, \"dayofweek\": 3\n",
    "}\n",
    "\n",
    "new_df = pd.DataFrame([new_row])\n",
    "\n",
    "# Pipeline 내부에서 자동으로 → One‑Hot → 스케일링 → 예측\n",
    "count_pred = loaded_pipe.predict(new_df)[0]\n",
    "print(f\"예상 대여 수: {count_pred:.0f}대\")"
   ]
  }
 ],
 "metadata": {
  "colab": {
   "provenance": [],
   "toc_visible": true
  },
  "kernelspec": {
   "display_name": ".venv",
   "language": "python",
   "name": "python3"
  },
  "language_info": {
   "codemirror_mode": {
    "name": "ipython",
    "version": 3
   },
   "file_extension": ".py",
   "mimetype": "text/x-python",
   "name": "python",
   "nbconvert_exporter": "python",
   "pygments_lexer": "ipython3",
   "version": "3.11.9"
  },
  "toc": {
   "base_numbering": 1,
   "nav_menu": {},
   "number_sections": true,
   "sideBar": true,
   "skip_h1_title": false,
   "title_cell": "Table of Contents",
   "title_sidebar": "Contents",
   "toc_cell": false,
   "toc_position": {
    "height": "calc(100% - 180px)",
    "left": "10px",
    "top": "150px",
    "width": "250.698px"
   },
   "toc_section_display": true,
   "toc_window_display": true
  }
 },
 "nbformat": 4,
 "nbformat_minor": 5
}
