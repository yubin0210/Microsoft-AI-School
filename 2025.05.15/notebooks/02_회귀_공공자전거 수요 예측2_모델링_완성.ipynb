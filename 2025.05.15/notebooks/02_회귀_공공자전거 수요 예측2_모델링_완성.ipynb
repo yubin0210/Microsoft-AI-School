{
 "cells": [
  {
   "cell_type": "code",
   "execution_count": 15,
   "id": "c37758de",
   "metadata": {
    "colab": {
     "base_uri": "https://localhost:8080/",
     "height": 237
    },
    "executionInfo": {
     "elapsed": 3388,
     "status": "ok",
     "timestamp": 1722762556575,
     "user": {
      "displayName": "Jayoung Kim",
      "userId": "14447265827232008674"
     },
     "user_tz": -540
    },
    "id": "c37758de",
    "outputId": "c85bb55d-1901-4f3b-b364-b30c1f8c4904"
   },
   "outputs": [],
   "source": [
    "import numpy as np\n",
    "import pandas as pd\n",
    "import matplotlib.pyplot as plt\n",
    "import seaborn as sns\n",
    "plt.style.use('ggplot')"
   ]
  },
  {
   "cell_type": "markdown",
   "id": "Dgz6yfD1iEB1",
   "metadata": {
    "id": "Dgz6yfD1iEB1"
   },
   "source": [
    "## 데이터 준비"
   ]
  },
  {
   "cell_type": "code",
   "execution_count": 16,
   "id": "8d7c39a8",
   "metadata": {
    "colab": {
     "base_uri": "https://localhost:8080/",
     "height": 269
    },
    "executionInfo": {
     "elapsed": 617,
     "status": "ok",
     "timestamp": 1722762557187,
     "user": {
      "displayName": "Jayoung Kim",
      "userId": "14447265827232008674"
     },
     "user_tz": -540
    },
    "id": "8d7c39a8",
    "outputId": "687966af-5451-4eaf-f732-0d857e0fb903"
   },
   "outputs": [
    {
     "data": {
      "text/html": [
       "<div>\n",
       "<style scoped>\n",
       "    .dataframe tbody tr th:only-of-type {\n",
       "        vertical-align: middle;\n",
       "    }\n",
       "\n",
       "    .dataframe tbody tr th {\n",
       "        vertical-align: top;\n",
       "    }\n",
       "\n",
       "    .dataframe thead th {\n",
       "        text-align: right;\n",
       "    }\n",
       "</style>\n",
       "<table border=\"1\" class=\"dataframe\">\n",
       "  <thead>\n",
       "    <tr style=\"text-align: right;\">\n",
       "      <th></th>\n",
       "      <th>datetime</th>\n",
       "      <th>season</th>\n",
       "      <th>holiday</th>\n",
       "      <th>workingday</th>\n",
       "      <th>weather</th>\n",
       "      <th>temp</th>\n",
       "      <th>atemp</th>\n",
       "      <th>humidity</th>\n",
       "      <th>windspeed</th>\n",
       "      <th>casual</th>\n",
       "      <th>registered</th>\n",
       "      <th>count</th>\n",
       "      <th>year</th>\n",
       "      <th>month</th>\n",
       "      <th>day</th>\n",
       "      <th>hour</th>\n",
       "      <th>dayofweek</th>\n",
       "    </tr>\n",
       "  </thead>\n",
       "  <tbody>\n",
       "    <tr>\n",
       "      <th>0</th>\n",
       "      <td>2011-01-01 00:00:00</td>\n",
       "      <td>1</td>\n",
       "      <td>0</td>\n",
       "      <td>0</td>\n",
       "      <td>1</td>\n",
       "      <td>9.84</td>\n",
       "      <td>14.395</td>\n",
       "      <td>81</td>\n",
       "      <td>0.0</td>\n",
       "      <td>3</td>\n",
       "      <td>13</td>\n",
       "      <td>16</td>\n",
       "      <td>2011</td>\n",
       "      <td>1</td>\n",
       "      <td>1</td>\n",
       "      <td>0</td>\n",
       "      <td>5</td>\n",
       "    </tr>\n",
       "    <tr>\n",
       "      <th>1</th>\n",
       "      <td>2011-01-01 01:00:00</td>\n",
       "      <td>1</td>\n",
       "      <td>0</td>\n",
       "      <td>0</td>\n",
       "      <td>1</td>\n",
       "      <td>9.02</td>\n",
       "      <td>13.635</td>\n",
       "      <td>80</td>\n",
       "      <td>0.0</td>\n",
       "      <td>8</td>\n",
       "      <td>32</td>\n",
       "      <td>40</td>\n",
       "      <td>2011</td>\n",
       "      <td>1</td>\n",
       "      <td>1</td>\n",
       "      <td>1</td>\n",
       "      <td>5</td>\n",
       "    </tr>\n",
       "    <tr>\n",
       "      <th>2</th>\n",
       "      <td>2011-01-01 02:00:00</td>\n",
       "      <td>1</td>\n",
       "      <td>0</td>\n",
       "      <td>0</td>\n",
       "      <td>1</td>\n",
       "      <td>9.02</td>\n",
       "      <td>13.635</td>\n",
       "      <td>80</td>\n",
       "      <td>0.0</td>\n",
       "      <td>5</td>\n",
       "      <td>27</td>\n",
       "      <td>32</td>\n",
       "      <td>2011</td>\n",
       "      <td>1</td>\n",
       "      <td>1</td>\n",
       "      <td>2</td>\n",
       "      <td>5</td>\n",
       "    </tr>\n",
       "    <tr>\n",
       "      <th>3</th>\n",
       "      <td>2011-01-01 03:00:00</td>\n",
       "      <td>1</td>\n",
       "      <td>0</td>\n",
       "      <td>0</td>\n",
       "      <td>1</td>\n",
       "      <td>9.84</td>\n",
       "      <td>14.395</td>\n",
       "      <td>75</td>\n",
       "      <td>0.0</td>\n",
       "      <td>3</td>\n",
       "      <td>10</td>\n",
       "      <td>13</td>\n",
       "      <td>2011</td>\n",
       "      <td>1</td>\n",
       "      <td>1</td>\n",
       "      <td>3</td>\n",
       "      <td>5</td>\n",
       "    </tr>\n",
       "    <tr>\n",
       "      <th>4</th>\n",
       "      <td>2011-01-01 04:00:00</td>\n",
       "      <td>1</td>\n",
       "      <td>0</td>\n",
       "      <td>0</td>\n",
       "      <td>1</td>\n",
       "      <td>9.84</td>\n",
       "      <td>14.395</td>\n",
       "      <td>75</td>\n",
       "      <td>0.0</td>\n",
       "      <td>0</td>\n",
       "      <td>1</td>\n",
       "      <td>1</td>\n",
       "      <td>2011</td>\n",
       "      <td>1</td>\n",
       "      <td>1</td>\n",
       "      <td>4</td>\n",
       "      <td>5</td>\n",
       "    </tr>\n",
       "  </tbody>\n",
       "</table>\n",
       "</div>"
      ],
      "text/plain": [
       "             datetime  season  holiday  workingday  weather  temp   atemp  \\\n",
       "0 2011-01-01 00:00:00       1        0           0        1  9.84  14.395   \n",
       "1 2011-01-01 01:00:00       1        0           0        1  9.02  13.635   \n",
       "2 2011-01-01 02:00:00       1        0           0        1  9.02  13.635   \n",
       "3 2011-01-01 03:00:00       1        0           0        1  9.84  14.395   \n",
       "4 2011-01-01 04:00:00       1        0           0        1  9.84  14.395   \n",
       "\n",
       "   humidity  windspeed  casual  registered  count  year  month  day  hour  \\\n",
       "0        81        0.0       3          13     16  2011      1    1     0   \n",
       "1        80        0.0       8          32     40  2011      1    1     1   \n",
       "2        80        0.0       5          27     32  2011      1    1     2   \n",
       "3        75        0.0       3          10     13  2011      1    1     3   \n",
       "4        75        0.0       0           1      1  2011      1    1     4   \n",
       "\n",
       "   dayofweek  \n",
       "0          5  \n",
       "1          5  \n",
       "2          5  \n",
       "3          5  \n",
       "4          5  "
      ]
     },
     "execution_count": 16,
     "metadata": {},
     "output_type": "execute_result"
    }
   ],
   "source": [
    "# -------------------------------------------------\n",
    "# data 불러오기\n",
    "# -------------------------------------------------\n",
    "df = pd.read_csv('../data/bike_sharing_demand.csv', parse_dates=['datetime'])\n",
    "\n",
    "# -------------------------------------------------\n",
    "# 파생컬럼 추가\n",
    "# -------------------------------------------------\n",
    "# 연, 월, 일, 시, 요일\n",
    "df['year'] = df['datetime'].dt.year\n",
    "df['month'] = df['datetime'].dt.month\n",
    "df['day'] = df['datetime'].dt.day\n",
    "df['hour'] = df['datetime'].dt.hour\n",
    "df['dayofweek'] = df['datetime'].dt.dayofweek # 월요일:0, 일요일:6\n",
    "df.head()"
   ]
  },
  {
   "cell_type": "markdown",
   "id": "a238c39a",
   "metadata": {},
   "source": [
    "## 변수선택"
   ]
  },
  {
   "cell_type": "code",
   "execution_count": 17,
   "id": "cd1c6b0f",
   "metadata": {},
   "outputs": [],
   "source": [
    "# --------------------------------------------\n",
    "# 변수선택\n",
    "#   - casual, registered는 독립변수의 성격이 아니므로 선택하지 않음\n",
    "#   - datetime은 선택하지 않음\n",
    "#   - day 선택하지 않음(불완전, 의미없음)\n",
    "#   - temp, atemp중 한가지만 선택\n",
    "# --------------------------------------------\n",
    "\n",
    "X = df.drop(['datetime','casual','registered','count', 'day', 'temp'], axis=1).copy()\n",
    "y = df['count']"
   ]
  },
  {
   "cell_type": "markdown",
   "id": "8568ea21",
   "metadata": {},
   "source": [
    "## 훈련세트 테스트세트 분할"
   ]
  },
  {
   "cell_type": "code",
   "execution_count": 18,
   "id": "bd170301",
   "metadata": {},
   "outputs": [
    {
     "name": "stdout",
     "output_type": "stream",
     "text": [
      "(8164, 11) (2722, 11) (8164,) (2722,)\n"
     ]
    }
   ],
   "source": [
    "# 훈련세트/테스트세트 분할\n",
    "from sklearn.model_selection import train_test_split\n",
    "X_train, X_test, y_train, y_test = train_test_split(X, y, random_state=42)\n",
    "print(X_train.shape, X_test.shape, y_train.shape, y_test.shape)"
   ]
  },
  {
   "cell_type": "markdown",
   "id": "m7QQlWS59CzF",
   "metadata": {
    "id": "m7QQlWS59CzF"
   },
   "source": [
    "# LinearRegression"
   ]
  },
  {
   "cell_type": "code",
   "execution_count": 19,
   "id": "891ce9ec",
   "metadata": {},
   "outputs": [
    {
     "name": "stdout",
     "output_type": "stream",
     "text": [
      "r2:0.387156221276875\n",
      "rmse:141.8093097345357\n",
      "mae:105.52415255308209\n",
      "mse:20109.880327385483\n",
      "train>>>>>>>>>>>> 0.3895945848869399\n",
      "test>>>>>>>>>>>>> 0.387156221276875\n"
     ]
    },
    {
     "name": "stderr",
     "output_type": "stream",
     "text": [
      "/Users/j1star/Desktop/MS AI Projects/microsoft-ai-school/.venv/lib/python3.11/site-packages/sklearn/linear_model/_base.py:279: RuntimeWarning: divide by zero encountered in matmul\n",
      "  return X @ coef_ + self.intercept_\n",
      "/Users/j1star/Desktop/MS AI Projects/microsoft-ai-school/.venv/lib/python3.11/site-packages/sklearn/linear_model/_base.py:279: RuntimeWarning: overflow encountered in matmul\n",
      "  return X @ coef_ + self.intercept_\n",
      "/Users/j1star/Desktop/MS AI Projects/microsoft-ai-school/.venv/lib/python3.11/site-packages/sklearn/linear_model/_base.py:279: RuntimeWarning: invalid value encountered in matmul\n",
      "  return X @ coef_ + self.intercept_\n",
      "/Users/j1star/Desktop/MS AI Projects/microsoft-ai-school/.venv/lib/python3.11/site-packages/sklearn/linear_model/_base.py:279: RuntimeWarning: divide by zero encountered in matmul\n",
      "  return X @ coef_ + self.intercept_\n",
      "/Users/j1star/Desktop/MS AI Projects/microsoft-ai-school/.venv/lib/python3.11/site-packages/sklearn/linear_model/_base.py:279: RuntimeWarning: overflow encountered in matmul\n",
      "  return X @ coef_ + self.intercept_\n",
      "/Users/j1star/Desktop/MS AI Projects/microsoft-ai-school/.venv/lib/python3.11/site-packages/sklearn/linear_model/_base.py:279: RuntimeWarning: invalid value encountered in matmul\n",
      "  return X @ coef_ + self.intercept_\n",
      "/Users/j1star/Desktop/MS AI Projects/microsoft-ai-school/.venv/lib/python3.11/site-packages/sklearn/linear_model/_base.py:279: RuntimeWarning: divide by zero encountered in matmul\n",
      "  return X @ coef_ + self.intercept_\n",
      "/Users/j1star/Desktop/MS AI Projects/microsoft-ai-school/.venv/lib/python3.11/site-packages/sklearn/linear_model/_base.py:279: RuntimeWarning: overflow encountered in matmul\n",
      "  return X @ coef_ + self.intercept_\n",
      "/Users/j1star/Desktop/MS AI Projects/microsoft-ai-school/.venv/lib/python3.11/site-packages/sklearn/linear_model/_base.py:279: RuntimeWarning: invalid value encountered in matmul\n",
      "  return X @ coef_ + self.intercept_\n"
     ]
    }
   ],
   "source": [
    "# --------------------------------------------\n",
    "# 모델 생성 및 훈련\n",
    "# --------------------------------------------\n",
    "from sklearn.linear_model import LinearRegression\n",
    "model = LinearRegression()\n",
    "model.fit(X_train, y_train)\n",
    "\n",
    "# --------------------------------------------\n",
    "# 예측\n",
    "# --------------------------------------------\n",
    "pred = model.predict(X_test)\n",
    "\n",
    "# --------------------------------------------\n",
    "# 모델 성능 평가\n",
    "# --------------------------------------------\n",
    "from sklearn.metrics import r2_score, root_mean_squared_error, mean_absolute_error, mean_squared_error\n",
    "r2 = r2_score(y_test, pred)\n",
    "rmse = root_mean_squared_error(y_test, pred)\n",
    "mae = mean_absolute_error(y_test, pred)\n",
    "mse = mean_squared_error(y_test, pred)\n",
    "\n",
    "print(f'r2:{r2}')\n",
    "print(f'rmse:{rmse}')\n",
    "print(f'mae:{mae}')\n",
    "print(f'mse:{mse}')\n",
    "\n",
    "# --------------------------------------------\n",
    "# 과적합 확인\n",
    "# --------------------------------------------\n",
    "print('train>>>>>>>>>>>>', model.score(X_train, y_train))\n",
    "print('test>>>>>>>>>>>>>', model.score(X_test, y_test))"
   ]
  },
  {
   "cell_type": "markdown",
   "id": "afc13a79",
   "metadata": {},
   "source": [
    "# KNeighborsRegressor"
   ]
  },
  {
   "cell_type": "code",
   "execution_count": 20,
   "id": "18d590c2",
   "metadata": {},
   "outputs": [
    {
     "name": "stdout",
     "output_type": "stream",
     "text": [
      "r2:0.6026314551872167\n",
      "rmse:114.18961144619792\n",
      "mae:77.88655400440852\n",
      "mse:13039.267362233653\n",
      "train>>>>>>>>>>>> 0.7283864135578699\n",
      "test>>>>>>>>>>>>> 0.6026314551872167\n"
     ]
    }
   ],
   "source": [
    "# --------------------------------------------\n",
    "# 모델 생성 및 훈련\n",
    "# --------------------------------------------\n",
    "from sklearn.neighbors import KNeighborsRegressor\n",
    "model = KNeighborsRegressor()\n",
    "model.fit(X_train, y_train)\n",
    "\n",
    "# --------------------------------------------\n",
    "# 예측\n",
    "# --------------------------------------------\n",
    "pred = model.predict(X_test)\n",
    "\n",
    "# --------------------------------------------\n",
    "# 모델 성능 평가\n",
    "# --------------------------------------------\n",
    "from sklearn.metrics import r2_score, root_mean_squared_error, mean_absolute_error, mean_squared_error\n",
    "r2 = r2_score(y_test, pred)\n",
    "rmse = root_mean_squared_error(y_test, pred)\n",
    "mae = mean_absolute_error(y_test, pred)\n",
    "mse = mean_squared_error(y_test, pred)\n",
    "\n",
    "print(f'r2:{r2}')\n",
    "print(f'rmse:{rmse}')\n",
    "print(f'mae:{mae}')\n",
    "print(f'mse:{mse}')\n",
    "\n",
    "# --------------------------------------------\n",
    "# 과적합 확인\n",
    "# --------------------------------------------\n",
    "print('train>>>>>>>>>>>>', model.score(X_train, y_train))\n",
    "print('test>>>>>>>>>>>>>', model.score(X_test, y_test))\n"
   ]
  },
  {
   "cell_type": "markdown",
   "id": "1ee66e2c",
   "metadata": {},
   "source": [
    "# DecisionTreeRegressor"
   ]
  },
  {
   "cell_type": "code",
   "execution_count": 21,
   "id": "fe48b624",
   "metadata": {},
   "outputs": [
    {
     "name": "stdout",
     "output_type": "stream",
     "text": [
      "r2:0.9057281853055064\n",
      "rmse:55.61869386522901\n",
      "mae:33.44838354151359\n",
      "mse:3093.439107274063\n",
      "train>>>>>>>>>>>> 0.9999967687295567\n",
      "test>>>>>>>>>>>>> 0.9057281853055064\n"
     ]
    }
   ],
   "source": [
    "# --------------------------------------------\n",
    "# 모델 생성 및 훈련\n",
    "# --------------------------------------------\n",
    "from sklearn.tree import DecisionTreeRegressor\n",
    "model = DecisionTreeRegressor(random_state=42)\n",
    "model.fit(X_train, y_train)\n",
    "\n",
    "# --------------------------------------------\n",
    "# 예측\n",
    "# --------------------------------------------\n",
    "pred = model.predict(X_test)\n",
    "\n",
    "# --------------------------------------------\n",
    "# 모델 성능 평가\n",
    "# --------------------------------------------\n",
    "from sklearn.metrics import r2_score, root_mean_squared_error, mean_absolute_error, mean_squared_error\n",
    "r2 = r2_score(y_test, pred)\n",
    "rmse = root_mean_squared_error(y_test, pred)\n",
    "mae = mean_absolute_error(y_test, pred)\n",
    "mse = mean_squared_error(y_test, pred)\n",
    "\n",
    "print(f'r2:{r2}')\n",
    "print(f'rmse:{rmse}')\n",
    "print(f'mae:{mae}')\n",
    "print(f'mse:{mse}')\n",
    "\n",
    "\n",
    "# --------------------------------------------\n",
    "# 과적합 확인\n",
    "# --------------------------------------------\n",
    "print('train>>>>>>>>>>>>', model.score(X_train, y_train))\n",
    "print('test>>>>>>>>>>>>>', model.score(X_test, y_test))"
   ]
  },
  {
   "cell_type": "markdown",
   "id": "a477cd83",
   "metadata": {},
   "source": [
    "# RandomForestRegressor"
   ]
  },
  {
   "cell_type": "code",
   "execution_count": 22,
   "id": "aba4f549",
   "metadata": {},
   "outputs": [
    {
     "name": "stdout",
     "output_type": "stream",
     "text": [
      "r2:0.9551972413234113\n",
      "rmse:38.34265926626583\n",
      "mae:24.237806545432278\n",
      "mse:1470.1595196089606\n",
      "train>>>>>>>>>>>> 0.9926501814813339\n",
      "test>>>>>>>>>>>>> 0.9551972413234113\n"
     ]
    }
   ],
   "source": [
    "# --------------------------------------------\n",
    "# 모델 생성 및 훈련\n",
    "# --------------------------------------------\n",
    "from sklearn.ensemble import RandomForestRegressor\n",
    "model = RandomForestRegressor(random_state=42)\n",
    "model.fit(X_train, y_train)\n",
    "\n",
    "# --------------------------------------------\n",
    "# 예측\n",
    "# --------------------------------------------\n",
    "pred = model.predict(X_test)\n",
    "\n",
    "# --------------------------------------------\n",
    "# 모델 성능 평가\n",
    "# --------------------------------------------\n",
    "from sklearn.metrics import r2_score, root_mean_squared_error, mean_absolute_error, mean_squared_error\n",
    "r2 = r2_score(y_test, pred)\n",
    "rmse = root_mean_squared_error(y_test, pred)\n",
    "mae = mean_absolute_error(y_test, pred)\n",
    "mse = mean_squared_error(y_test, pred)\n",
    "\n",
    "print(f'r2:{r2}')\n",
    "print(f'rmse:{rmse}')\n",
    "print(f'mae:{mae}')\n",
    "print(f'mse:{mse}')\n",
    "\n",
    "\n",
    "# --------------------------------------------\n",
    "# 과적합 확인\n",
    "# --------------------------------------------\n",
    "print('train>>>>>>>>>>>>', model.score(X_train, y_train))\n",
    "print('test>>>>>>>>>>>>>', model.score(X_test, y_test))"
   ]
  }
 ],
 "metadata": {
  "colab": {
   "provenance": [],
   "toc_visible": true
  },
  "kernelspec": {
   "display_name": ".venv",
   "language": "python",
   "name": "python3"
  },
  "language_info": {
   "codemirror_mode": {
    "name": "ipython",
    "version": 3
   },
   "file_extension": ".py",
   "mimetype": "text/x-python",
   "name": "python",
   "nbconvert_exporter": "python",
   "pygments_lexer": "ipython3",
   "version": "3.11.9"
  },
  "toc": {
   "base_numbering": 1,
   "nav_menu": {},
   "number_sections": true,
   "sideBar": true,
   "skip_h1_title": false,
   "title_cell": "Table of Contents",
   "title_sidebar": "Contents",
   "toc_cell": false,
   "toc_position": {
    "height": "calc(100% - 180px)",
    "left": "10px",
    "top": "150px",
    "width": "250.698px"
   },
   "toc_section_display": true,
   "toc_window_display": true
  }
 },
 "nbformat": 4,
 "nbformat_minor": 5
}
