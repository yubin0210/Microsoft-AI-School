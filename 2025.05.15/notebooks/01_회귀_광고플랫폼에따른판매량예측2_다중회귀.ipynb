{
  "cells": [
    {
      "cell_type": "code",
      "execution_count": 87,
      "metadata": {
        "id": "ZNLf73MO1tw_"
      },
      "outputs": [
        {
          "data": {
            "text/plain": [
              "<Axes: >"
            ]
          },
          "execution_count": 87,
          "metadata": {},
          "output_type": "execute_result"
        },
        {
          "data": {
            "image/png": "[encoded data removed]",
            "text/plain": [
              "<Figure size 300x200 with 1 Axes>"
            ]
          },
          "metadata": {},
          "output_type": "display_data"
        }
      ],
      "source": [
        "import pandas as pd\n",
        "import numpy as np\n",
        "import matplotlib.pyplot as plt\n",
        "import seaborn as sns\n",
        "\n",
        "plt.style.use(\"ggplot\")\n",
        "pd.Series([1, 2, 3]).plot(figsize=(3, 2))"
      ]
    },
    {
      "cell_type": "markdown",
      "metadata": {
        "id": "099sCTOK2JvV"
      },
      "source": [
        "# 데이터 불러오기"
      ]
    },
    {
      "cell_type": "code",
      "execution_count": 88,
      "metadata": {
        "id": "znzF-mg915va"
      },
      "outputs": [
        {
          "data": {
            "text/html": [
              "<div>\n",
              "<style scoped>\n",
              "    .dataframe tbody tr th:only-of-type {\n",
              "        vertical-align: middle;\n",
              "    }\n",
              "\n",
              "    .dataframe tbody tr th {\n",
              "        vertical-align: top;\n",
              "    }\n",
              "\n",
              "    .dataframe thead th {\n",
              "        text-align: right;\n",
              "    }\n",
              "</style>\n",
              "<table border=\"1\" class=\"dataframe\">\n",
              "  <thead>\n",
              "    <tr style=\"text-align: right;\">\n",
              "      <th></th>\n",
              "      <th>TV</th>\n",
              "      <th>Radio</th>\n",
              "      <th>Newspaper</th>\n",
              "      <th>Sales</th>\n",
              "    </tr>\n",
              "  </thead>\n",
              "  <tbody>\n",
              "    <tr>\n",
              "      <th>0</th>\n",
              "      <td>230.1</td>\n",
              "      <td>37.8</td>\n",
              "      <td>69.2</td>\n",
              "      <td>22.1</td>\n",
              "    </tr>\n",
              "    <tr>\n",
              "      <th>1</th>\n",
              "      <td>44.5</td>\n",
              "      <td>39.3</td>\n",
              "      <td>45.1</td>\n",
              "      <td>10.4</td>\n",
              "    </tr>\n",
              "    <tr>\n",
              "      <th>2</th>\n",
              "      <td>17.2</td>\n",
              "      <td>45.9</td>\n",
              "      <td>69.3</td>\n",
              "      <td>12.0</td>\n",
              "    </tr>\n",
              "    <tr>\n",
              "      <th>3</th>\n",
              "      <td>151.5</td>\n",
              "      <td>41.3</td>\n",
              "      <td>58.5</td>\n",
              "      <td>16.5</td>\n",
              "    </tr>\n",
              "    <tr>\n",
              "      <th>4</th>\n",
              "      <td>180.8</td>\n",
              "      <td>10.8</td>\n",
              "      <td>58.4</td>\n",
              "      <td>17.9</td>\n",
              "    </tr>\n",
              "  </tbody>\n",
              "</table>\n",
              "</div>"
            ],
            "text/plain": [
              "      TV  Radio  Newspaper  Sales\n",
              "0  230.1   37.8       69.2   22.1\n",
              "1   44.5   39.3       45.1   10.4\n",
              "2   17.2   45.9       69.3   12.0\n",
              "3  151.5   41.3       58.5   16.5\n",
              "4  180.8   10.8       58.4   17.9"
            ]
          },
          "execution_count": 88,
          "metadata": {},
          "output_type": "execute_result"
        }
      ],
      "source": [
        "# df = pd.read_csv('https://raw.githubusercontent.com/JayoungKim-ai/ML_dataset/main/advertising.csv')\n",
        "df = pd.read_csv(\"../data/advertising.csv\")\n",
        "\n",
        "df.head()"
      ]
    },
    {
      "cell_type": "markdown",
      "metadata": {
        "id": "Fns3N1wdnUmy"
      },
      "source": [
        "# 다중회귀"
      ]
    },
    {
      "cell_type": "markdown",
      "metadata": {},
      "source": [
        "## 변수 선택\n",
        "* 3가지 독립변수 모두 선택"
      ]
    },
    {
      "cell_type": "code",
      "execution_count": 89,
      "metadata": {
        "id": "UxJ5_3rfZBMM"
      },
      "outputs": [
        {
          "name": "stdout",
          "output_type": "stream",
          "text": [
            "        TV  Radio  Newspaper\n",
            "0    230.1   37.8       69.2\n",
            "1     44.5   39.3       45.1\n",
            "2     17.2   45.9       69.3\n",
            "3    151.5   41.3       58.5\n",
            "4    180.8   10.8       58.4\n",
            "..     ...    ...        ...\n",
            "195   38.2    3.7       13.8\n",
            "196   94.2    4.9        8.1\n",
            "197  177.0    9.3        6.4\n",
            "198  283.6   42.0       66.2\n",
            "199  232.1    8.6        8.7\n",
            "\n",
            "[200 rows x 3 columns]\n",
            "0      22.1\n",
            "1      10.4\n",
            "2      12.0\n",
            "3      16.5\n",
            "4      17.9\n",
            "       ... \n",
            "195     7.6\n",
            "196    14.0\n",
            "197    14.8\n",
            "198    25.5\n",
            "199    18.4\n",
            "Name: Sales, Length: 200, dtype: float64\n"
          ]
        }
      ],
      "source": [
        "# -----------------------------------\n",
        "# 독립변수, 종속변수 선택\n",
        "# -----------------------------------\n",
        "X = df.drop([\"Sales\"], axis=1)\n",
        "y = df[\"Sales\"]\n",
        "\n",
        "print(X)\n",
        "print(y)"
      ]
    },
    {
      "cell_type": "code",
      "execution_count": 90,
      "metadata": {},
      "outputs": [
        {
          "data": {
            "text/plain": [
              "<Axes: >"
            ]
          },
          "execution_count": 90,
          "metadata": {},
          "output_type": "execute_result"
        },
        {
          "data": {
            "image/png": "[encoded data removed]",
            "text/plain": [
              "<Figure size 640x480 with 1 Axes>"
            ]
          },
          "metadata": {},
          "output_type": "display_data"
        }
      ],
      "source": [
        "# -----------------------------------\n",
        "# 독립변수, 종속변수 데이터 범위 파악\n",
        "# -----------------------------------\n",
        "sns.boxplot(data=X)"
      ]
    },
    {
      "cell_type": "markdown",
      "metadata": {},
      "source": [
        "## 훈련세트 테스트세트 분할"
      ]
    },
    {
      "cell_type": "code",
      "execution_count": 91,
      "metadata": {},
      "outputs": [
        {
          "data": {
            "text/plain": [
              "((150, 3), (50, 3), (150,), (50,))"
            ]
          },
          "execution_count": 91,
          "metadata": {},
          "output_type": "execute_result"
        }
      ],
      "source": [
        "# ------------------------------------------\n",
        "# 훈련세트, 테스트세트 분할\n",
        "# ------------------------------------------\n",
        "from sklearn.model_selection import train_test_split\n",
        "\n",
        "X_train, X_test, y_train, y_test = train_test_split(X, y, random_state=42)\n",
        "\n",
        "X_train.shape, X_test.shape, y_train.shape, y_test.shape"
      ]
    },
    {
      "cell_type": "markdown",
      "metadata": {},
      "source": [
        "## 스케일링"
      ]
    },
    {
      "cell_type": "code",
      "execution_count": 92,
      "metadata": {},
      "outputs": [],
      "source": [
        "# ------------------------------------------\n",
        "# 독립변수 스케일링\n",
        "# ------------------------------------------\n",
        "from sklearn.preprocessing import StandardScaler\n",
        "\n",
        "scaler = StandardScaler()\n",
        "\n",
        "# 훈련 세트로 fit (표준화를 하기 위한 규칙 생성) -> transform (규칙에 따라 데이터 변환)\n",
        "# scaler.fit(X_train)\n",
        "# scaler.transform(X_train)\n",
        "X_train_scaled = scaler.fit_transform(X_train)\n",
        "\n",
        "# 테스트 세트로 transform (훈련 세트로 훈련한 규칙에 따라 데이터 변환)\n",
        "X_test_scaled = scaler.transform(X_test)"
      ]
    },
    {
      "cell_type": "code",
      "execution_count": 93,
      "metadata": {},
      "outputs": [
        {
          "data": {
            "text/plain": [
              "array([[-0.8814297 ,  1.56851374,  0.19562328],\n",
              "       [ 0.18206797, -1.10371242, -0.8546056 ],\n",
              "       [-1.70086527,  1.70986576,  2.15572787],\n",
              "       [-1.71147667,  1.03676093,  0.97482535],\n",
              "       [-0.9026525 , -1.52776846, -0.75781031],\n",
              "       [-0.27775918, -1.1979471 ,  0.04075082],\n",
              "       [-0.93802382, -0.43733864, -0.84976584],\n",
              "       [ 1.61224833,  1.26561657,  1.00386394],\n",
              "       [-1.57234948, -0.22867615, -0.6513355 ],\n",
              "       [ 0.52634882, -1.34603016, -1.18854935],\n",
              "       [ 1.54857995, -0.86812573, -1.16435052],\n",
              "       [ 0.37661023, -0.16809671, -0.40934727],\n",
              "       [-0.47230144, -0.41041445,  0.39405362],\n",
              "       [-1.52282963,  0.78098109,  1.7153093 ],\n",
              "       [ 1.62403877, -1.30564387, -1.06271547],\n",
              "       [-1.57470757, -0.50464913, -0.39482798],\n",
              "       [ 1.65823104,  0.28288352, -1.38697969],\n",
              "       [-1.58296088, -0.76716001, -0.34159057],\n",
              "       [-0.21998603, -1.25179548, -1.02399735],\n",
              "       [-1.50160684,  1.04349198, -1.02399735],\n",
              "       [-0.61968194, -0.93543621, -1.29986393],\n",
              "       [-0.85784882, -1.58161685, -1.02883712],\n",
              "       [ 0.41787677, -0.36329711, -0.23511576],\n",
              "       [ 0.28346576,  0.66655327,  0.39889338],\n",
              "       [-0.32138381,  0.90213996,  2.35899797],\n",
              "       [ 0.6678341 , -0.19502091, -0.95624065],\n",
              "       [-0.11858824,  0.39058029, -0.86428513],\n",
              "       [ 0.37661023,  1.37331334, -1.39181945],\n",
              "       [ 0.81875173, -1.29218177,  0.93610723],\n",
              "       [ 1.04630721,  0.97618149, -0.3512701 ],\n",
              "       [-1.60064654,  1.50793431,  1.87986129],\n",
              "       [-0.3826941 ,  0.33673191, -0.7868489 ],\n",
              "       [-0.74583965, -0.91524307,  0.25370045],\n",
              "       [ 0.44971096,  0.350194  , -0.59325832],\n",
              "       [-0.91326389, -0.85466364, -1.18370958],\n",
              "       [ 0.47447088, -0.34310397,  1.70562978],\n",
              "       [-0.7930014 ,  0.82809843,  0.91190841],\n",
              "       [ 1.3434263 ,  1.36658229, -1.23210722],\n",
              "       [-1.33771973,  1.18484399, -1.19338911],\n",
              "       [ 1.27739984,  1.29254076,  1.17325569],\n",
              "       [-1.6478083 , -0.51138017,  0.9264277 ],\n",
              "       [ 0.4803661 ,  0.80117424,  2.18476645],\n",
              "       [ 1.69124428,  0.86175367,  3.40922685],\n",
              "       [ 1.32809873, -0.23540719, -1.45957615],\n",
              "       [ 0.72796534,  0.03383474, -1.28050487],\n",
              "       [-0.03841325,  0.81463634, -1.18370958],\n",
              "       [-0.25064117, -0.34310397,  0.20046304],\n",
              "       [-1.12549181,  0.62616698, -0.33675081],\n",
              "       [ 1.02744251, -0.45753179, -0.36578939],\n",
              "       [-0.13745295,  0.22230409,  0.76187571],\n",
              "       [ 0.32826943, -0.85466364,  1.35232697],\n",
              "       [-0.65741135, -1.48065112, -0.02216612],\n",
              "       [ 0.79634989,  0.65309118,  0.36017527],\n",
              "       [-0.14924339, -1.45372693, -1.03851665],\n",
              "       [ 1.20783624,  0.22903514, -1.2079084 ],\n",
              "       [-0.66920179, -0.5854217 ,  0.40857291],\n",
              "       [-1.02409403, -1.19121605, -0.30287246],\n",
              "       [ 1.01801016, -0.53830437, -0.15283976],\n",
              "       [ 0.26813818, -0.54503542, -1.3579411 ],\n",
              "       [ 1.02744251, -1.09025033, -1.05303594],\n",
              "       [-1.59239323,  0.9492573 , -0.42870633],\n",
              "       [ 0.90953811,  0.9627194 ,  1.87502153],\n",
              "       [ 1.54032665,  1.24542342,  1.7298286 ],\n",
              "       [ 0.21626025,  1.09060931,  0.35049574],\n",
              "       [ 0.54403448,  0.47808392,  0.39889338],\n",
              "       [-0.35203895,  0.74732585, -0.87396466],\n",
              "       [-0.25771543,  1.29927181, -0.07540353],\n",
              "       [-1.50750206,  0.14826256,  0.62152255],\n",
              "       [ 0.12429482,  0.89540891, -1.11595288],\n",
              "       [ 1.13001934,  0.24249723, -0.36578939],\n",
              "       [ 0.58412197, -0.08059308,  0.05527011],\n",
              "       [-1.64898734, -1.55469266, -0.23511576],\n",
              "       [-1.7551013 , -0.80081525, -1.19822887],\n",
              "       [-0.6963198 ,  1.34638915,  0.96998558],\n",
              "       [ 1.29626454, -1.34603016, -0.53034138],\n",
              "       [ 0.88831532, -0.44406969, -0.20607717],\n",
              "       [ 1.18897154, -0.14790357, -0.02216612],\n",
              "       [ 1.06399287,  1.7165968 ,  0.66992019],\n",
              "       [ 1.02390538, -1.30564387,  0.31177762],\n",
              "       [ 0.88477819,  0.95598835,  0.07462917],\n",
              "       [ 0.73621865,  0.00691054,  1.31360886],\n",
              "       [ 1.02508442,  1.21176818, -0.57873903],\n",
              "       [-0.53714886, -0.63927009, -0.94656112],\n",
              "       [ 0.41080251, -0.16136566, -1.01431783],\n",
              "       [ 0.63599991, -1.01620879, -0.19639764],\n",
              "       [-1.29645319,  0.16172465, -0.48194374],\n",
              "       [-0.01719046,  1.19830609,  1.35716674],\n",
              "       [-0.17754044,  1.54158955,  1.38136556],\n",
              "       [ 0.34949222,  1.52812745,  1.36684627],\n",
              "       [ 0.78809658,  0.67328432,  0.70863831],\n",
              "       [ 0.04294078, -1.40660959, -1.072395  ],\n",
              "       [ 1.45897261, -1.42680274, -0.32707128],\n",
              "       [ 0.61359807,  1.45408592, -0.52550162],\n",
              "       [-1.01466167, -0.7940842 ,  0.30693786],\n",
              "       [-0.9026525 ,  0.21557304, -0.39482798],\n",
              "       [-0.67509701, -1.48738217, -1.11595288],\n",
              "       [-0.38623123, -0.26233139, -0.91268277],\n",
              "       [ 0.85883922, -1.02967089,  1.26037145],\n",
              "       [-1.46623552, -1.48065112,  0.12302681],\n",
              "       [-0.99697601,  1.41369963,  0.24886069],\n",
              "       [ 1.12530316,  0.45115973, -0.49162327],\n",
              "       [ 0.77276901, -1.21814024, -0.148     ],\n",
              "       [-0.5088518 ,  1.63582422,  1.01354346],\n",
              "       [-1.70204432, -1.44026484, -1.4256978 ],\n",
              "       [-0.65387421, -1.07005718, -1.12563241],\n",
              "       [ 0.68080358,  0.40404239, -1.02399735],\n",
              "       [ 0.13608526, -0.17482776,  0.81995289],\n",
              "       [ 1.32338255, -1.38641645,  0.60700325],\n",
              "       [ 1.51438768,  1.08387827,  1.2264931 ],\n",
              "       [-1.48745831,  0.63962908, -0.54002091],\n",
              "       [ 1.4613307 ,  1.70986576,  0.54892608],\n",
              "       [-1.36837487,  1.01656778,  1.70079001],\n",
              "       [ 0.63482086, -1.23160234, -0.53518115],\n",
              "       [ 1.5874884 ,  1.31273391,  2.0008554 ],\n",
              "       [-0.59256393,  0.41077344, -1.06755523],\n",
              "       [ 1.29390645,  0.35692505, -0.7045729 ],\n",
              "       [-0.73758634, -1.5614237 , -0.3512701 ],\n",
              "       [ 0.55228778, -1.37295435,  0.20046304],\n",
              "       [-0.69278267, -1.25179548, -1.08207453],\n",
              "       [ 0.68198262,  1.75698309,  0.35049574],\n",
              "       [ 0.87534584, -0.51811122,  0.940947  ],\n",
              "       [-0.76234626,  0.13480046,  2.07829164],\n",
              "       [ 0.99560832, -1.23833339, -0.33675081],\n",
              "       [-0.19758419, -0.28925558, -0.67069455],\n",
              "       [ 0.23040878, -0.36329711,  0.01171223],\n",
              "       [-1.60064654, -1.30564387,  0.05527011],\n",
              "       [-1.10073189, -0.77389106,  0.61184302],\n",
              "       [-0.92269624,  1.743521  ,  0.73767689],\n",
              "       [-0.03723421, -1.49411322, -0.29803269],\n",
              "       [ 0.16320327,  1.24542342, -1.29986393],\n",
              "       [-1.27876753,  1.06368512,  0.70863831],\n",
              "       [ 0.74800909,  1.22523028,  0.44245126],\n",
              "       [-1.27640944,  0.1549936 , -0.47710398],\n",
              "       [-1.79518879,  1.08387827, -1.05303594],\n",
              "       [-0.37679888, -1.01620879,  0.88286982],\n",
              "       [ 0.41198155, -0.42387655, -0.60777762],\n",
              "       [-0.20937463,  1.22523028,  0.74735642],\n",
              "       [-0.16221287, -0.61907695, -0.23511576],\n",
              "       [-0.49824041,  1.15118875,  1.58463566],\n",
              "       [ 0.71263777,  0.07422103, -0.84008631],\n",
              "       [-1.58178183, -0.12097937,  0.96514582],\n",
              "       [ 0.93311899, -1.0027467 , -1.05303594],\n",
              "       [ 0.77158997,  0.28288352,  1.11033875],\n",
              "       [ 1.5686237 , -0.64600114, -1.29502416],\n",
              "       [-0.5088518 , -0.61907695,  0.06010987],\n",
              "       [-1.5086811 , -0.84120154, -0.03668541],\n",
              "       [ 0.60298668,  0.63289803,  0.75219619],\n",
              "       [ 0.76333666,  0.67328432,  1.38136556],\n",
              "       [ 0.14905474, -0.90851202, -0.62229691],\n",
              "       [ 1.50023915, -0.90178097, -0.43838586]])"
            ]
          },
          "execution_count": 93,
          "metadata": {},
          "output_type": "execute_result"
        }
      ],
      "source": [
        "X_train_scaled"
      ]
    },
    {
      "cell_type": "code",
      "execution_count": 94,
      "metadata": {},
      "outputs": [
        {
          "data": {
            "text/plain": [
              "np.float64(-3.019806626980426e-16)"
            ]
          },
          "execution_count": 94,
          "metadata": {},
          "output_type": "execute_result"
        }
      ],
      "source": [
        "X_train_scaled[:, 0].mean()"
      ]
    },
    {
      "cell_type": "code",
      "execution_count": 95,
      "metadata": {},
      "outputs": [
        {
          "name": "stdout",
          "output_type": "stream",
          "text": [
            "각 변수의 평균: [-3.01980663e-16 -2.36847579e-17  4.26325641e-16]\n",
            "각 변수의 표준편차: [1. 1. 1.]\n"
          ]
        }
      ],
      "source": [
        "print(f\"각 변수의 평균: {X_train_scaled.mean(axis=0)}\")\n",
        "print(f\"각 변수의 표준편차: {X_train_scaled.std(axis=0)}\")"
      ]
    },
    {
      "cell_type": "code",
      "execution_count": 96,
      "metadata": {},
      "outputs": [
        {
          "data": {
            "text/plain": [
              "<Axes: >"
            ]
          },
          "execution_count": 96,
          "metadata": {},
          "output_type": "execute_result"
        },
        {
          "data": {
            "image/png": "[encoded data removed]",
            "text/plain": [
              "<Figure size 640x480 with 1 Axes>"
            ]
          },
          "metadata": {},
          "output_type": "display_data"
        }
      ],
      "source": [
        "sns.boxplot(data=X_train_scaled)"
      ]
    },
    {
      "cell_type": "markdown",
      "metadata": {},
      "source": [
        "## 모델 생성 및 훈련"
      ]
    },
    {
      "cell_type": "code",
      "execution_count": 97,
      "metadata": {},
      "outputs": [
        {
          "data": {
            "text/html": [
              "<style>#sk-container-id-5 {\n",
              "  /* Definition of color scheme common for light and dark mode */\n",
              "  --sklearn-color-text: #000;\n",
              "  --sklearn-color-text-muted: #666;\n",
              "  --sklearn-color-line: gray;\n",
              "  /* Definition of color scheme for unfitted estimators */\n",
              "  --sklearn-color-unfitted-level-0: #fff5e6;\n",
              "  --sklearn-color-unfitted-level-1: #f6e4d2;\n",
              "  --sklearn-color-unfitted-level-2: #ffe0b3;\n",
              "  --sklearn-color-unfitted-level-3: chocolate;\n",
              "  /* Definition of color scheme for fitted estimators */\n",
              "  --sklearn-color-fitted-level-0: #f0f8ff;\n",
              "  --sklearn-color-fitted-level-1: #d4ebff;\n",
              "  --sklearn-color-fitted-level-2: #b3dbfd;\n",
              "  --sklearn-color-fitted-level-3: cornflowerblue;\n",
              "\n",
              "  /* Specific color for light theme */\n",
              "  --sklearn-color-text-on-default-background: var(--sg-text-color, var(--theme-code-foreground, var(--jp-content-font-color1, black)));\n",
              "  --sklearn-color-background: var(--sg-background-color, var(--theme-background, var(--jp-layout-color0, white)));\n",
              "  --sklearn-color-border-box: var(--sg-text-color, var(--theme-code-foreground, var(--jp-content-font-color1, black)));\n",
              "  --sklearn-color-icon: #696969;\n",
              "\n",
              "  @media (prefers-color-scheme: dark) {\n",
              "    /* Redefinition of color scheme for dark theme */\n",
              "    --sklearn-color-text-on-default-background: var(--sg-text-color, var(--theme-code-foreground, var(--jp-content-font-color1, white)));\n",
              "    --sklearn-color-background: var(--sg-background-color, var(--theme-background, var(--jp-layout-color0, #111)));\n",
              "    --sklearn-color-border-box: var(--sg-text-color, var(--theme-code-foreground, var(--jp-content-font-color1, white)));\n",
              "    --sklearn-color-icon: #878787;\n",
              "  }\n",
              "}\n",
              "\n",
              "#sk-container-id-5 {\n",
              "  color: var(--sklearn-color-text);\n",
              "}\n",
              "\n",
              "#sk-container-id-5 pre {\n",
              "  padding: 0;\n",
              "}\n",
              "\n",
              "#sk-container-id-5 input.sk-hidden--visually {\n",
              "  border: 0;\n",
              "  clip: rect(1px 1px 1px 1px);\n",
              "  clip: rect(1px, 1px, 1px, 1px);\n",
              "  height: 1px;\n",
              "  margin: -1px;\n",
              "  overflow: hidden;\n",
              "  padding: 0;\n",
              "  position: absolute;\n",
              "  width: 1px;\n",
              "}\n",
              "\n",
              "#sk-container-id-5 div.sk-dashed-wrapped {\n",
              "  border: 1px dashed var(--sklearn-color-line);\n",
              "  margin: 0 0.4em 0.5em 0.4em;\n",
              "  box-sizing: border-box;\n",
              "  padding-bottom: 0.4em;\n",
              "  background-color: var(--sklearn-color-background);\n",
              "}\n",
              "\n",
              "#sk-container-id-5 div.sk-container {\n",
              "  /* jupyter's `normalize.less` sets `[hidden] { display: none; }`\n",
              "     but bootstrap.min.css set `[hidden] { display: none !important; }`\n",
              "     so we also need the `!important` here to be able to override the\n",
              "     default hidden behavior on the sphinx rendered scikit-learn.org.\n",
              "     See: https://github.com/scikit-learn/scikit-learn/issues/21755 */\n",
              "  display: inline-block !important;\n",
              "  position: relative;\n",
              "}\n",
              "\n",
              "#sk-container-id-5 div.sk-text-repr-fallback {\n",
              "  display: none;\n",
              "}\n",
              "\n",
              "div.sk-parallel-item,\n",
              "div.sk-serial,\n",
              "div.sk-item {\n",
              "  /* draw centered vertical line to link estimators */\n",
              "  background-image: linear-gradient(var(--sklearn-color-text-on-default-background), var(--sklearn-color-text-on-default-background));\n",
              "  background-size: 2px 100%;\n",
              "  background-repeat: no-repeat;\n",
              "  background-position: center center;\n",
              "}\n",
              "\n",
              "/* Parallel-specific style estimator block */\n",
              "\n",
              "#sk-container-id-5 div.sk-parallel-item::after {\n",
              "  content: \"\";\n",
              "  width: 100%;\n",
              "  border-bottom: 2px solid var(--sklearn-color-text-on-default-background);\n",
              "  flex-grow: 1;\n",
              "}\n",
              "\n",
              "#sk-container-id-5 div.sk-parallel {\n",
              "  display: flex;\n",
              "  align-items: stretch;\n",
              "  justify-content: center;\n",
              "  background-color: var(--sklearn-color-background);\n",
              "  position: relative;\n",
              "}\n",
              "\n",
              "#sk-container-id-5 div.sk-parallel-item {\n",
              "  display: flex;\n",
              "  flex-direction: column;\n",
              "}\n",
              "\n",
              "#sk-container-id-5 div.sk-parallel-item:first-child::after {\n",
              "  align-self: flex-end;\n",
              "  width: 50%;\n",
              "}\n",
              "\n",
              "#sk-container-id-5 div.sk-parallel-item:last-child::after {\n",
              "  align-self: flex-start;\n",
              "  width: 50%;\n",
              "}\n",
              "\n",
              "#sk-container-id-5 div.sk-parallel-item:only-child::after {\n",
              "  width: 0;\n",
              "}\n",
              "\n",
              "/* Serial-specific style estimator block */\n",
              "\n",
              "#sk-container-id-5 div.sk-serial {\n",
              "  display: flex;\n",
              "  flex-direction: column;\n",
              "  align-items: center;\n",
              "  background-color: var(--sklearn-color-background);\n",
              "  padding-right: 1em;\n",
              "  padding-left: 1em;\n",
              "}\n",
              "\n",
              "\n",
              "/* Toggleable style: style used for estimator/Pipeline/ColumnTransformer box that is\n",
              "clickable and can be expanded/collapsed.\n",
              "- Pipeline and ColumnTransformer use this feature and define the default style\n",
              "- Estimators will overwrite some part of the style using the `sk-estimator` class\n",
              "*/\n",
              "\n",
              "/* Pipeline and ColumnTransformer style (default) */\n",
              "\n",
              "#sk-container-id-5 div.sk-toggleable {\n",
              "  /* Default theme specific background. It is overwritten whether we have a\n",
              "  specific estimator or a Pipeline/ColumnTransformer */\n",
              "  background-color: var(--sklearn-color-background);\n",
              "}\n",
              "\n",
              "/* Toggleable label */\n",
              "#sk-container-id-5 label.sk-toggleable__label {\n",
              "  cursor: pointer;\n",
              "  display: flex;\n",
              "  width: 100%;\n",
              "  margin-bottom: 0;\n",
              "  padding: 0.5em;\n",
              "  box-sizing: border-box;\n",
              "  text-align: center;\n",
              "  align-items: start;\n",
              "  justify-content: space-between;\n",
              "  gap: 0.5em;\n",
              "}\n",
              "\n",
              "#sk-container-id-5 label.sk-toggleable__label .caption {\n",
              "  font-size: 0.6rem;\n",
              "  font-weight: lighter;\n",
              "  color: var(--sklearn-color-text-muted);\n",
              "}\n",
              "\n",
              "#sk-container-id-5 label.sk-toggleable__label-arrow:before {\n",
              "  /* Arrow on the left of the label */\n",
              "  content: \"▸\";\n",
              "  float: left;\n",
              "  margin-right: 0.25em;\n",
              "  color: var(--sklearn-color-icon);\n",
              "}\n",
              "\n",
              "#sk-container-id-5 label.sk-toggleable__label-arrow:hover:before {\n",
              "  color: var(--sklearn-color-text);\n",
              "}\n",
              "\n",
              "/* Toggleable content - dropdown */\n",
              "\n",
              "#sk-container-id-5 div.sk-toggleable__content {\n",
              "  max-height: 0;\n",
              "  max-width: 0;\n",
              "  overflow: hidden;\n",
              "  text-align: left;\n",
              "  /* unfitted */\n",
              "  background-color: var(--sklearn-color-unfitted-level-0);\n",
              "}\n",
              "\n",
              "#sk-container-id-5 div.sk-toggleable__content.fitted {\n",
              "  /* fitted */\n",
              "  background-color: var(--sklearn-color-fitted-level-0);\n",
              "}\n",
              "\n",
              "#sk-container-id-5 div.sk-toggleable__content pre {\n",
              "  margin: 0.2em;\n",
              "  border-radius: 0.25em;\n",
              "  color: var(--sklearn-color-text);\n",
              "  /* unfitted */\n",
              "  background-color: var(--sklearn-color-unfitted-level-0);\n",
              "}\n",
              "\n",
              "#sk-container-id-5 div.sk-toggleable__content.fitted pre {\n",
              "  /* unfitted */\n",
              "  background-color: var(--sklearn-color-fitted-level-0);\n",
              "}\n",
              "\n",
              "#sk-container-id-5 input.sk-toggleable__control:checked~div.sk-toggleable__content {\n",
              "  /* Expand drop-down */\n",
              "  max-height: 200px;\n",
              "  max-width: 100%;\n",
              "  overflow: auto;\n",
              "}\n",
              "\n",
              "#sk-container-id-5 input.sk-toggleable__control:checked~label.sk-toggleable__label-arrow:before {\n",
              "  content: \"▾\";\n",
              "}\n",
              "\n",
              "/* Pipeline/ColumnTransformer-specific style */\n",
              "\n",
              "#sk-container-id-5 div.sk-label input.sk-toggleable__control:checked~label.sk-toggleable__label {\n",
              "  color: var(--sklearn-color-text);\n",
              "  background-color: var(--sklearn-color-unfitted-level-2);\n",
              "}\n",
              "\n",
              "#sk-container-id-5 div.sk-label.fitted input.sk-toggleable__control:checked~label.sk-toggleable__label {\n",
              "  background-color: var(--sklearn-color-fitted-level-2);\n",
              "}\n",
              "\n",
              "/* Estimator-specific style */\n",
              "\n",
              "/* Colorize estimator box */\n",
              "#sk-container-id-5 div.sk-estimator input.sk-toggleable__control:checked~label.sk-toggleable__label {\n",
              "  /* unfitted */\n",
              "  background-color: var(--sklearn-color-unfitted-level-2);\n",
              "}\n",
              "\n",
              "#sk-container-id-5 div.sk-estimator.fitted input.sk-toggleable__control:checked~label.sk-toggleable__label {\n",
              "  /* fitted */\n",
              "  background-color: var(--sklearn-color-fitted-level-2);\n",
              "}\n",
              "\n",
              "#sk-container-id-5 div.sk-label label.sk-toggleable__label,\n",
              "#sk-container-id-5 div.sk-label label {\n",
              "  /* The background is the default theme color */\n",
              "  color: var(--sklearn-color-text-on-default-background);\n",
              "}\n",
              "\n",
              "/* On hover, darken the color of the background */\n",
              "#sk-container-id-5 div.sk-label:hover label.sk-toggleable__label {\n",
              "  color: var(--sklearn-color-text);\n",
              "  background-color: var(--sklearn-color-unfitted-level-2);\n",
              "}\n",
              "\n",
              "/* Label box, darken color on hover, fitted */\n",
              "#sk-container-id-5 div.sk-label.fitted:hover label.sk-toggleable__label.fitted {\n",
              "  color: var(--sklearn-color-text);\n",
              "  background-color: var(--sklearn-color-fitted-level-2);\n",
              "}\n",
              "\n",
              "/* Estimator label */\n",
              "\n",
              "#sk-container-id-5 div.sk-label label {\n",
              "  font-family: monospace;\n",
              "  font-weight: bold;\n",
              "  display: inline-block;\n",
              "  line-height: 1.2em;\n",
              "}\n",
              "\n",
              "#sk-container-id-5 div.sk-label-container {\n",
              "  text-align: center;\n",
              "}\n",
              "\n",
              "/* Estimator-specific */\n",
              "#sk-container-id-5 div.sk-estimator {\n",
              "  font-family: monospace;\n",
              "  border: 1px dotted var(--sklearn-color-border-box);\n",
              "  border-radius: 0.25em;\n",
              "  box-sizing: border-box;\n",
              "  margin-bottom: 0.5em;\n",
              "  /* unfitted */\n",
              "  background-color: var(--sklearn-color-unfitted-level-0);\n",
              "}\n",
              "\n",
              "#sk-container-id-5 div.sk-estimator.fitted {\n",
              "  /* fitted */\n",
              "  background-color: var(--sklearn-color-fitted-level-0);\n",
              "}\n",
              "\n",
              "/* on hover */\n",
              "#sk-container-id-5 div.sk-estimator:hover {\n",
              "  /* unfitted */\n",
              "  background-color: var(--sklearn-color-unfitted-level-2);\n",
              "}\n",
              "\n",
              "#sk-container-id-5 div.sk-estimator.fitted:hover {\n",
              "  /* fitted */\n",
              "  background-color: var(--sklearn-color-fitted-level-2);\n",
              "}\n",
              "\n",
              "/* Specification for estimator info (e.g. \"i\" and \"?\") */\n",
              "\n",
              "/* Common style for \"i\" and \"?\" */\n",
              "\n",
              ".sk-estimator-doc-link,\n",
              "a:link.sk-estimator-doc-link,\n",
              "a:visited.sk-estimator-doc-link {\n",
              "  float: right;\n",
              "  font-size: smaller;\n",
              "  line-height: 1em;\n",
              "  font-family: monospace;\n",
              "  background-color: var(--sklearn-color-background);\n",
              "  border-radius: 1em;\n",
              "  height: 1em;\n",
              "  width: 1em;\n",
              "  text-decoration: none !important;\n",
              "  margin-left: 0.5em;\n",
              "  text-align: center;\n",
              "  /* unfitted */\n",
              "  border: var(--sklearn-color-unfitted-level-1) 1pt solid;\n",
              "  color: var(--sklearn-color-unfitted-level-1);\n",
              "}\n",
              "\n",
              ".sk-estimator-doc-link.fitted,\n",
              "a:link.sk-estimator-doc-link.fitted,\n",
              "a:visited.sk-estimator-doc-link.fitted {\n",
              "  /* fitted */\n",
              "  border: var(--sklearn-color-fitted-level-1) 1pt solid;\n",
              "  color: var(--sklearn-color-fitted-level-1);\n",
              "}\n",
              "\n",
              "/* On hover */\n",
              "div.sk-estimator:hover .sk-estimator-doc-link:hover,\n",
              ".sk-estimator-doc-link:hover,\n",
              "div.sk-label-container:hover .sk-estimator-doc-link:hover,\n",
              ".sk-estimator-doc-link:hover {\n",
              "  /* unfitted */\n",
              "  background-color: var(--sklearn-color-unfitted-level-3);\n",
              "  color: var(--sklearn-color-background);\n",
              "  text-decoration: none;\n",
              "}\n",
              "\n",
              "div.sk-estimator.fitted:hover .sk-estimator-doc-link.fitted:hover,\n",
              ".sk-estimator-doc-link.fitted:hover,\n",
              "div.sk-label-container:hover .sk-estimator-doc-link.fitted:hover,\n",
              ".sk-estimator-doc-link.fitted:hover {\n",
              "  /* fitted */\n",
              "  background-color: var(--sklearn-color-fitted-level-3);\n",
              "  color: var(--sklearn-color-background);\n",
              "  text-decoration: none;\n",
              "}\n",
              "\n",
              "/* Span, style for the box shown on hovering the info icon */\n",
              ".sk-estimator-doc-link span {\n",
              "  display: none;\n",
              "  z-index: 9999;\n",
              "  position: relative;\n",
              "  font-weight: normal;\n",
              "  right: .2ex;\n",
              "  padding: .5ex;\n",
              "  margin: .5ex;\n",
              "  width: min-content;\n",
              "  min-width: 20ex;\n",
              "  max-width: 50ex;\n",
              "  color: var(--sklearn-color-text);\n",
              "  box-shadow: 2pt 2pt 4pt #999;\n",
              "  /* unfitted */\n",
              "  background: var(--sklearn-color-unfitted-level-0);\n",
              "  border: .5pt solid var(--sklearn-color-unfitted-level-3);\n",
              "}\n",
              "\n",
              ".sk-estimator-doc-link.fitted span {\n",
              "  /* fitted */\n",
              "  background: var(--sklearn-color-fitted-level-0);\n",
              "  border: var(--sklearn-color-fitted-level-3);\n",
              "}\n",
              "\n",
              ".sk-estimator-doc-link:hover span {\n",
              "  display: block;\n",
              "}\n",
              "\n",
              "/* \"?\"-specific style due to the `<a>` HTML tag */\n",
              "\n",
              "#sk-container-id-5 a.estimator_doc_link {\n",
              "  float: right;\n",
              "  font-size: 1rem;\n",
              "  line-height: 1em;\n",
              "  font-family: monospace;\n",
              "  background-color: var(--sklearn-color-background);\n",
              "  border-radius: 1rem;\n",
              "  height: 1rem;\n",
              "  width: 1rem;\n",
              "  text-decoration: none;\n",
              "  /* unfitted */\n",
              "  color: var(--sklearn-color-unfitted-level-1);\n",
              "  border: var(--sklearn-color-unfitted-level-1) 1pt solid;\n",
              "}\n",
              "\n",
              "#sk-container-id-5 a.estimator_doc_link.fitted {\n",
              "  /* fitted */\n",
              "  border: var(--sklearn-color-fitted-level-1) 1pt solid;\n",
              "  color: var(--sklearn-color-fitted-level-1);\n",
              "}\n",
              "\n",
              "/* On hover */\n",
              "#sk-container-id-5 a.estimator_doc_link:hover {\n",
              "  /* unfitted */\n",
              "  background-color: var(--sklearn-color-unfitted-level-3);\n",
              "  color: var(--sklearn-color-background);\n",
              "  text-decoration: none;\n",
              "}\n",
              "\n",
              "#sk-container-id-5 a.estimator_doc_link.fitted:hover {\n",
              "  /* fitted */\n",
              "  background-color: var(--sklearn-color-fitted-level-3);\n",
              "}\n",
              "</style><div id=\"sk-container-id-5\" class=\"sk-top-container\"><div class=\"sk-text-repr-fallback\"><pre>LinearRegression()</pre><b>In a Jupyter environment, please rerun this cell to show the HTML representation or trust the notebook. <br />On GitHub, the HTML representation is unable to render, please try loading this page with nbviewer.org.</b></div><div class=\"sk-container\" hidden><div class=\"sk-item\"><div class=\"sk-estimator fitted sk-toggleable\"><input class=\"sk-toggleable__control sk-hidden--visually\" id=\"sk-estimator-id-5\" type=\"checkbox\" checked><label for=\"sk-estimator-id-5\" class=\"sk-toggleable__label fitted sk-toggleable__label-arrow\"><div><div>LinearRegression</div></div><div><a class=\"sk-estimator-doc-link fitted\" rel=\"noreferrer\" target=\"_blank\" href=\"https://scikit-learn.org/1.6/modules/generated/sklearn.linear_model.LinearRegression.html\">?<span>Documentation for LinearRegression</span></a><span class=\"sk-estimator-doc-link fitted\">i<span>Fitted</span></span></div></label><div class=\"sk-toggleable__content fitted\"><pre>LinearRegression()</pre></div> </div></div></div></div>"
            ],
            "text/plain": [
              "LinearRegression()"
            ]
          },
          "execution_count": 97,
          "metadata": {},
          "output_type": "execute_result"
        }
      ],
      "source": [
        "# ------------------------------------------\n",
        "# LinearRegression 클래스 import\n",
        "# ------------------------------------------\n",
        "from sklearn.linear_model import LinearRegression\n",
        "\n",
        "# ------------------------------------------\n",
        "# 모델객체 생성하기\n",
        "# ------------------------------------------\n",
        "model = LinearRegression()\n",
        "\n",
        "# ------------------------------------------\n",
        "# 훈련데이터로 모델 훈련하기\n",
        "# ------------------------------------------\n",
        "model.fit(X_train_scaled, y_train)"
      ]
    },
    {
      "cell_type": "markdown",
      "metadata": {},
      "source": [
        "## 평가"
      ]
    },
    {
      "cell_type": "code",
      "execution_count": 98,
      "metadata": {},
      "outputs": [
        {
          "name": "stdout",
          "output_type": "stream",
          "text": [
            "===다중회귀 모델의 평가결과===\n",
            "R2:0.91\n",
            "RMSE:1.55\n",
            "MAE:1.12\n",
            "MSE:2.40\n"
          ]
        }
      ],
      "source": [
        "from sklearn.metrics import (\n",
        "    mean_squared_error,\n",
        "    mean_absolute_error,\n",
        "    root_mean_squared_error,\n",
        "    r2_score,\n",
        ")\n",
        "\n",
        "# -----------------------------------\n",
        "# 테스트데이터의 예측값\n",
        "# -----------------------------------\n",
        "pred = model.predict(X_test_scaled)\n",
        "\n",
        "# -----------------------------------\n",
        "# 모델 평가\n",
        "# -----------------------------------\n",
        "mse = mean_squared_error(y_test, pred)\n",
        "rmse = root_mean_squared_error(y_test, pred)\n",
        "mae = mean_absolute_error(y_test, pred)\n",
        "r2 = r2_score(y_test, pred)\n",
        "\n",
        "print(\"===다중회귀 모델의 평가결과===\")\n",
        "print(f\"R2:{r2:.2f}\")\n",
        "print(f\"RMSE:{rmse:.2f}\")\n",
        "print(f\"MAE:{mae:.2f}\")\n",
        "print(f\"MSE:{mse:.2f}\")"
      ]
    },
    {
      "cell_type": "code",
      "execution_count": 99,
      "metadata": {},
      "outputs": [
        {
          "data": {
            "text/plain": [
              "<matplotlib.legend.Legend at 0x1651ad190>"
            ]
          },
          "execution_count": 99,
          "metadata": {},
          "output_type": "execute_result"
        },
        {
          "data": {
            "image/png": "[encoded data removed]",
            "text/plain": [
              "<Figure size 640x480 with 1 Axes>"
            ]
          },
          "metadata": {},
          "output_type": "display_data"
        }
      ],
      "source": [
        "plt.plot(pred, marker=\".\", label=\"pred\")\n",
        "plt.plot(np.array(y_test), marker=\".\", label=\"y_test\")\n",
        "plt.legend()"
      ]
    },
    {
      "cell_type": "markdown",
      "metadata": {},
      "source": [
        "## 모델의 학습 결과"
      ]
    },
    {
      "cell_type": "code",
      "execution_count": 100,
      "metadata": {},
      "outputs": [
        {
          "name": "stdout",
          "output_type": "stream",
          "text": [
            "회귀계수: [4.63204383 1.48207916 0.0889496 ]\n",
            "절편: 15.570666666666671\n",
            "회귀식: 4.632043828977967 * tv + 1.4820791574834187 * radio + 0.0889495984853728 * newspaper + 15.570666666666671\n"
          ]
        }
      ],
      "source": [
        "w = model.coef_\n",
        "b = model.intercept_\n",
        "\n",
        "print(f\"회귀계수: {model.coef_}\")\n",
        "print(f\"절편: {model.intercept_}\")\n",
        "print(f\"회귀식: {w[0]} * tv + {w[1]} * radio + {w[2]} * newspaper + {b}\")"
      ]
    },
    {
      "cell_type": "code",
      "execution_count": 101,
      "metadata": {},
      "outputs": [
        {
          "data": {
            "text/plain": [
              "<BarContainer object of 3 artists>"
            ]
          },
          "execution_count": 101,
          "metadata": {},
          "output_type": "execute_result"
        },
        {
          "data": {
            "image/png": "[encoded data removed]",
            "text/plain": [
              "<Figure size 640x480 with 1 Axes>"
            ]
          },
          "metadata": {},
          "output_type": "display_data"
        }
      ],
      "source": [
        "plt.bar(X.columns, model.coef_)"
      ]
    },
    {
      "cell_type": "markdown",
      "metadata": {},
      "source": [
        "## 새로운 값 예측하기\n",
        "* 스케일링 된 데이터로 훈련했으므로 예측할 데이터도 스케일링을 해주어야 한다.\n",
        "* 훈련세트에서 사용한 스케일러를 이용하여 스케일링한다.\n",
        "* 이 때는 fit 하지 않고 transform만 한다."
      ]
    },
    {
      "cell_type": "code",
      "execution_count": 102,
      "metadata": {},
      "outputs": [
        {
          "name": "stdout",
          "output_type": "stream",
          "text": [
            "[15.80426509]\n"
          ]
        },
        {
          "name": "stderr",
          "output_type": "stream",
          "text": [
            "/Users/j1star/Desktop/MS AI Projects/microsoft-ai-school/.venv/lib/python3.11/site-packages/sklearn/utils/validation.py:2739: UserWarning: X does not have valid feature names, but StandardScaler was fitted with feature names\n",
            "  warnings.warn(\n"
          ]
        }
      ],
      "source": [
        "new_X = [[175, 15, 2]]\n",
        "\n",
        "new_X_scaled = scaler.transform(new_X)\n",
        "pred = model.predict(new_X_scaled)\n",
        "\n",
        "print(pred)"
      ]
    },
    {
      "cell_type": "markdown",
      "metadata": {},
      "source": [
        "## 모델 저장 및 활용\n",
        "* 스케일링을 하여 모델을 생성한 경우, 동일한 스케일링 방식을 저장하기 위해 스케일러도 저장해주어야 합니다."
      ]
    },
    {
      "cell_type": "markdown",
      "metadata": {},
      "source": [
        "#### 모델 및 스케일러 저장"
      ]
    },
    {
      "cell_type": "code",
      "execution_count": 103,
      "metadata": {},
      "outputs": [
        {
          "data": {
            "text/plain": [
              "['../models/ad_lr_scaler.pkl']"
            ]
          },
          "execution_count": 103,
          "metadata": {},
          "output_type": "execute_result"
        }
      ],
      "source": [
        "import joblib\n",
        "\n",
        "joblib.dump(model, \"../models/ad_lr_model.pkl\")\n",
        "joblib.dump(scaler, \"../models/ad_lr_scaler.pkl\")"
      ]
    },
    {
      "cell_type": "markdown",
      "metadata": {},
      "source": [
        "#### 모델 불러와 사용하기"
      ]
    },
    {
      "cell_type": "code",
      "execution_count": 104,
      "metadata": {},
      "outputs": [
        {
          "name": "stdout",
          "output_type": "stream",
          "text": [
            "[15.80426509]\n"
          ]
        },
        {
          "name": "stderr",
          "output_type": "stream",
          "text": [
            "/Users/j1star/Desktop/MS AI Projects/microsoft-ai-school/.venv/lib/python3.11/site-packages/sklearn/utils/validation.py:2739: UserWarning: X does not have valid feature names, but StandardScaler was fitted with feature names\n",
            "  warnings.warn(\n"
          ]
        }
      ],
      "source": [
        "# ---------------------\n",
        "# 모델 불러오기\n",
        "# ---------------------\n",
        "model = joblib.load(\"../models/ad_lr_model.pkl\")\n",
        "\n",
        "# ---------------------\n",
        "# 스케일러 불러오기\n",
        "# ---------------------\n",
        "scaler = joblib.load(\"../models/ad_lr_scaler.pkl\")\n",
        "\n",
        "# ------------------------------------\n",
        "# 예측\n",
        "# ------------------------------------\n",
        "new_X = [[175, 15, 2]]\n",
        "\n",
        "new_X_scaled = scaler.transform(new_X)\n",
        "pred = model.predict(new_X_scaled)\n",
        "\n",
        "print(pred)"
      ]
    }
  ],
  "metadata": {
    "colab": {
      "provenance": [],
      "toc_visible": true
    },
    "kernelspec": {
      "display_name": ".venv",
      "language": "python",
      "name": "python3"
    },
    "language_info": {
      "codemirror_mode": {
        "name": "ipython",
        "version": 3
      },
      "file_extension": ".py",
      "mimetype": "text/x-python",
      "name": "python",
      "nbconvert_exporter": "python",
      "pygments_lexer": "ipython3",
      "version": "3.11.9"
    }
  },
  "nbformat": 4,
  "nbformat_minor": 0
}
