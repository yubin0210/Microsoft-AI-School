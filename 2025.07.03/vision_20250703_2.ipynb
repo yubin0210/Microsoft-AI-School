{
 "cells": [
  {
   "cell_type": "markdown",
   "id": "4f535f53",
   "metadata": {},
   "source": [
    "#### URL 이미지 불러오기"
   ]
  },
  {
   "cell_type": "markdown",
   "id": "cfd3f3da",
   "metadata": {},
   "source": []
  },
  {
   "cell_type": "code",
   "execution_count": 16,
   "id": "50dee77e",
   "metadata": {},
   "outputs": [
    {
     "name": "stdout",
     "output_type": "stream",
     "text": [
      "* Running on local URL:  http://127.0.0.1:7872\n",
      "\n",
      "To create a public link, set `share=True` in `launch()`.\n"
     ]
    },
    {
     "data": {
      "text/html": [
       "<div><iframe src=\"http://127.0.0.1:7872/\" width=\"100%\" height=\"500\" allow=\"autoplay; camera; microphone; clipboard-read; clipboard-write;\" frameborder=\"0\" allowfullscreen></iframe></div>"
      ],
      "text/plain": [
       "<IPython.core.display.HTML object>"
      ]
     },
     "metadata": {},
     "output_type": "display_data"
    },
    {
     "data": {
      "text/plain": []
     },
     "execution_count": 16,
     "metadata": {},
     "output_type": "execute_result"
    }
   ],
   "source": [
    "import requests\n",
    "from PIL import Image, ImageDraw\n",
    "from io import BytesIO\n",
    "import gradio as gr\n",
    "\n",
    "\n",
    "IMAGE_URL = \"https://cdn.pixabay.com/photo/2023/12/13/22/29/young-woman-8447841_1280.jpg\"\n",
    "ENDPOINT_URL = \"https://fimtrus-vision2.cognitiveservices.azure.com/computervision/imageanalysis:analyze\"\n",
    "API_KEY = \"1Xvo96LQT7LFAe6FgQUeO3f8UwOfELLcvZNJThBQW6LJsBdUhwzrJQQJ99BGACYeBjFXJ3w3AAAFACOGxEEM\"\n",
    "\n",
    "\n",
    "def random_color():\n",
    "    import random\n",
    "    # 랜덤한 RGB 색상 튜플 반환\n",
    "    return (random.randint(0, 255), random.randint(0, 255), random.randint(0, 255)) \n",
    "\n",
    "def get_font():\n",
    "    # OS별로 적절한 폰트 객체 반환 (한글 지원)\n",
    "    from PIL import ImageFont\n",
    "    import platform\n",
    "    \n",
    "    font_size = 20\n",
    "    \n",
    "    try:\n",
    "        if platform.system() == \"Windows\":\n",
    "            # 윈도우용 한글 폰트\n",
    "            return ImageFont.truetype(\"malgun.ttf\", font_size)\n",
    "        elif platform.system() == \"Darwin\":  # macOS\n",
    "            # 맥용 한글 폰트\n",
    "            return ImageFont.truetype(\"AppleGothic.ttf\", font_size)\n",
    "        else:  # Linux      \n",
    "            # 리눅스 기본 폰트\n",
    "            return ImageFont.load_default(size=font_size)\n",
    "    except IOError:\n",
    "        # 폰트 파일이 없을 경우 기본 폰트 사용\n",
    "        return ImageFont.load_default(size=font_size)\n",
    "    \n",
    "\n",
    "def request_image_analysis(image_url, features=[\"objects\"], **kwargs):\n",
    "    endpoint = \"{}\".format(ENDPOINT_URL)\n",
    "    \n",
    "    params = {\n",
    "        \"api-version\": \"2024-02-01\",\n",
    "        \"features\": \",\".join(features)\n",
    "    }\n",
    "    \n",
    "    headers = {\n",
    "        \"Ocp-Apim-Subscription-Key\": API_KEY\n",
    "    }\n",
    "    \n",
    "    body = {\n",
    "        \"url\": image_url\n",
    "    }\n",
    "    \n",
    "    if kwargs is not None:\n",
    "    \n",
    "        if (\"caption\" in features or \"denseCaptions\" in features) and \"gender_neutral_caption\" in kwargs.keys() :\n",
    "            params.update({\n",
    "                \"gender-neutral-caption\": kwargs['gender_neutral_caption']\n",
    "            })\n",
    "            \n",
    "        if \"smartCrops\" in features and \"smartcrops_aspect_ratios\" in kwargs.keys():\n",
    "            params.update({\n",
    "                \"smartcrops-aspect-ratios\": kwargs[\"smartcrops_aspect_ratios\"]\n",
    "            })\n",
    "        \n",
    "    response = requests.post(endpoint, params=params, headers=headers, json=body)\n",
    "    print(response)\n",
    "    if response.status_code != 200:\n",
    "        return None\n",
    "    \n",
    "    response_json = response.json()\n",
    "    \n",
    "    return response_json\n",
    "    \n",
    "    \n",
    "\n",
    "def draw_image(image_url, features, data):\n",
    "    # 이미지 다운로드\n",
    "    image_response = requests.get(image_url)\n",
    "    image = Image.open(BytesIO(image_response.content))\n",
    "    draw = ImageDraw.Draw(image)\n",
    "    font = get_font()       # 폰트 객체\n",
    "\n",
    "    for feature in features:\n",
    "        \n",
    "        if feature == \"tags\" or feature == \"caption\":\n",
    "            continue\n",
    "        \n",
    "        feature_key = '{}Result'.format(feature)\n",
    "        print(feature_key)\n",
    "        # 객체 인식 결과 리스트\n",
    "        result_object = data[feature_key]\n",
    "        block_list = result_object['values']\n",
    "        \n",
    "        color = random_color()  # 랜덤 색상\n",
    "        \n",
    "        for block in block_list:\n",
    "            \n",
    "            bounding_box = block['boundingBox']\n",
    "            x, y, w, h = bounding_box['x'], bounding_box['y'], bounding_box['w'], bounding_box['h']\n",
    "            \n",
    "            if feature == \"objects\":\n",
    "                tag = block['tags'][0]\n",
    "                name = tag['name']\n",
    "                confidence = tag['confidence']\n",
    "        \n",
    "                formatted_text = \"{} ({:.2f}%)\".format(name, confidence * 100)\n",
    "                \n",
    "            elif feature == \"denseCaptions\":\n",
    "                formatted_text = block[\"text\"]\n",
    "            else:\n",
    "                formatted_text = None\n",
    "            \n",
    "            # 객체 위치에 사각형과 라벨 그리기\n",
    "            draw.rectangle([(x, y), (x + w, y + h)], outline=color, width=2)\n",
    "            \n",
    "            # Feature의 텍스트를 그려주는 부분\n",
    "            feature_text_bbox = draw.textbbox((x, y), feature, font=font)            \n",
    "            draw.rectangle([(feature_text_bbox[0], feature_text_bbox[1]),(feature_text_bbox[2], feature_text_bbox[3])], outline=color, fill=color, width=2)\n",
    "            draw.text((x, y), feature, fill=\"black\", font=font)\n",
    "            \n",
    "            # 텍스트를 그려주는 부분\n",
    "            if formatted_text:\n",
    "                text_bbox = draw.textbbox((x, y + 20), formatted_text, font=font)      \n",
    "                draw.rectangle([(text_bbox[0], text_bbox[1]),(text_bbox[2] + 5, text_bbox[3])], outline=color, fill=color, width=2)\n",
    "                draw.text((x + 5, y + 20), formatted_text, fill=\"white\", font=font)\n",
    "    \n",
    "    return image\n",
    "\n",
    "theme = gr.themes.Soft(primary_hue=gr.themes.colors.indigo)\n",
    "with gr.Blocks(theme=theme) as demo:\n",
    "    \n",
    "    def click_send(image_url):\n",
    "        features = [\"objects\", \"caption\", \"denseCaptions\", \"tags\", \"smartCrops\"]\n",
    "        response_data = request_image_analysis(image_url, features)\n",
    "        image = draw_image(image_url, features, response_data)\n",
    "        \n",
    "        return image\n",
    "    \n",
    "    image_url_textbox = gr.Textbox(label=\"이미지 URL\")\n",
    "    send_button = gr.Button(\"전송\")\n",
    "    output_image = gr.Image(label=\"결과 화면\", interactive=False, type=\"pil\")\n",
    "    \n",
    "    send_button.click(click_send, inputs=[image_url_textbox], outputs=[output_image])\n",
    "\n",
    "demo.launch()\n",
    "\n",
    "# 객체 인식 결과 요청 및 시각화\n",
    "# features = [\"objects\", \"caption\", \"denseCaptions\", \"tags\", \"smartCrops\"]\n",
    "# response_json2 = request_image_analysis(IMAGE_URL, features, gender_neutral_caption=False, smartcrops_aspect_ratios=\"0.75,1.8\")\n",
    "# draw_image(IMAGE_URL, features, response_json2)\n",
    "# response_json2\n",
    "# draw_image(IMAGE_URL, response_json2)\n",
    "\n",
    "\n"
   ]
  },
  {
   "cell_type": "code",
   "execution_count": 39,
   "id": "84f34b19",
   "metadata": {},
   "outputs": [
    {
     "name": "stdout",
     "output_type": "stream",
     "text": [
      "objectsResult\n",
      "captionResult\n",
      "denseCaptionsResult\n",
      "tagsResult\n",
      "smartCropsResult\n"
     ]
    }
   ],
   "source": [
    "features = [\"objects\", \"caption\", \"denseCaptions\", \"tags\", \"smartCrops\"]\n",
    "for feature in features:\n",
    "    print('{}Result'.format(feature))"
   ]
  },
  {
   "cell_type": "code",
   "execution_count": 62,
   "id": "c651b056",
   "metadata": {},
   "outputs": [
    {
     "data": {
      "text/plain": [
       "False"
      ]
     },
     "execution_count": 62,
     "metadata": {},
     "output_type": "execute_result"
    }
   ],
   "source": [
    "image_path = \"/Users/fimtrus/Downloads/merry-christmas-4697055_1280.jpg\"\n",
    "image_path.startswith('http')"
   ]
  },
  {
   "cell_type": "code",
   "execution_count": null,
   "id": "92e96638",
   "metadata": {},
   "outputs": [],
   "source": []
  }
 ],
 "metadata": {
  "kernelspec": {
   "display_name": "openai",
   "language": "python",
   "name": "python3"
  },
  "language_info": {
   "codemirror_mode": {
    "name": "ipython",
    "version": 3
   },
   "file_extension": ".py",
   "mimetype": "text/x-python",
   "name": "python",
   "nbconvert_exporter": "python",
   "pygments_lexer": "ipython3",
   "version": "3.11.9"
  }
 },
 "nbformat": 4,
 "nbformat_minor": 5
}
