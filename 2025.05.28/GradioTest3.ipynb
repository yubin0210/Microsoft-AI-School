{
 "cells": [
  {
   "cell_type": "code",
   "execution_count": null,
   "id": "5fca3966",
   "metadata": {},
   "outputs": [
    {
     "name": "stdout",
     "output_type": "stream",
     "text": [
      "* Running on local URL:  http://127.0.0.1:7868\n",
      "* To create a public link, set `share=True` in `launch()`.\n"
     ]
    },
    {
     "data": {
      "text/html": [
       "<div><iframe src=\"http://127.0.0.1:7868/\" width=\"100%\" height=\"500\" allow=\"autoplay; camera; microphone; clipboard-read; clipboard-write;\" frameborder=\"0\" allowfullscreen></iframe></div>"
      ],
      "text/plain": [
       "<IPython.core.display.HTML object>"
      ]
     },
     "metadata": {},
     "output_type": "display_data"
    },
    {
     "data": {
      "text/plain": []
     },
     "execution_count": 2,
     "metadata": {},
     "output_type": "execute_result"
    }
   ],
   "source": [
    "import requests\n",
    "from PIL import Image\n",
    "import gradio as gr\n",
    "import io\n",
    "\n",
    "# Custom Vision Prediction 키와 URL\n",
    "PREDICTION_KEY = \"48fBztGiqcoH4PUUK23qmvxTBMmu31mgQ4JmJN1EDeCWNYw2QAtQJQQJ99BEACL93NaXJ3w3AAAIACOGelyc\"\n",
    "ENDPOINT_URL = \"https://neptun91cv20250526-prediction.cognitiveservices.azure.com/customvision/v3.0/Prediction/c7c4ea7c-3c10-4d11-9726-dad643e7413e/classify/iterations/Iteration1/image\"\n",
    "headers = {\n",
    "    \"Prediction-Key\": PREDICTION_KEY,\n",
    "    \"Content-Type\": \"application/octet-stream\"\n",
    "}\n",
    "\n",
    "def predict_with_api(image: Image.Image):\n",
    "    # 이미지를 바이너리로 변환\n",
    "    buf = io.BytesIO()\n",
    "    image.save(buf, format='JPEG')\n",
    "    byte_data = buf.getvalue()\n",
    "    \n",
    "    # API 호출\n",
    "    response = requests.post(ENDPOINT_URL, headers=headers, data=byte_data)\n",
    "    predictions = response.json()[\"predictions\"]\n",
    "    \n",
    "    # 확률 기준 상위 2개 예측 추출\n",
    "    top_predictions = sorted(predictions, key=lambda x: x[\"probability\"], reverse=True)[:2]\n",
    "    \n",
    "    # 결과 포맷팅\n",
    "    result_lines = [\n",
    "        f\"{pred['tagName']} ({pred['probability'] * 100:.2f}%)\"\n",
    "        for pred in top_predictions\n",
    "    ]\n",
    "    \n",
    "    return \"\\n\".join(result_lines)\n",
    "\n",
    "# Gradio 인터페이스 정의\n",
    "with gr.Blocks() as demo:\n",
    "    gr.Markdown(\"## 🧠 Custom Vision Image Classifier\")\n",
    "    gr.Markdown(\"Upload an image and get predictions from your Azure Custom Vision model.\")\n",
    "\n",
    "    with gr.Row():\n",
    "        image_input = gr.Image(type=\"pil\", label=\"Input Image\")\n",
    "        output_text = gr.Textbox(label=\"Prediction Result\", lines=3)\n",
    "\n",
    "    predict_btn = gr.Button(\"🔍 Predict\")\n",
    "\n",
    "    predict_btn.click(\n",
    "        fn=predict_with_api,\n",
    "        inputs=image_input,\n",
    "        outputs=output_text\n",
    "    )\n",
    "\n",
    "demo.launch()"
   ]
  }
 ],
 "metadata": {
  "kernelspec": {
   "display_name": "Python 3",
   "language": "python",
   "name": "python3"
  },
  "language_info": {
   "codemirror_mode": {
    "name": "ipython",
    "version": 3
   },
   "file_extension": ".py",
   "mimetype": "text/x-python",
   "name": "python",
   "nbconvert_exporter": "python",
   "pygments_lexer": "ipython3",
   "version": "3.12.1"
  }
 },
 "nbformat": 4,
 "nbformat_minor": 5
}
