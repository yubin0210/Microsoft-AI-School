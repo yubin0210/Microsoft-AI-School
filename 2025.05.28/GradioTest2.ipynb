{
 "cells": [
  {
   "cell_type": "code",
   "execution_count": null,
   "id": "be31867f",
   "metadata": {},
   "outputs": [
    {
     "name": "stdout",
     "output_type": "stream",
     "text": [
      "* Running on local URL:  http://127.0.0.1:7863\n",
      "* To create a public link, set `share=True` in `launch()`.\n"
     ]
    },
    {
     "data": {
      "text/html": [
       "<div><iframe src=\"http://127.0.0.1:7863/\" width=\"100%\" height=\"500\" allow=\"autoplay; camera; microphone; clipboard-read; clipboard-write;\" frameborder=\"0\" allowfullscreen></iframe></div>"
      ],
      "text/plain": [
       "<IPython.core.display.HTML object>"
      ]
     },
     "metadata": {},
     "output_type": "display_data"
    },
    {
     "data": {
      "text/plain": []
     },
     "execution_count": 4,
     "metadata": {},
     "output_type": "execute_result"
    },
    {
     "name": "stdout",
     "output_type": "stream",
     "text": [
      "404\n"
     ]
    },
    {
     "name": "stderr",
     "output_type": "stream",
     "text": [
      "Traceback (most recent call last):\n",
      "  File \"/Users/j1star/Desktop/MS AI Projects/microsoft-ai-school/.venv/lib/python3.11/site-packages/gradio/queueing.py\", line 625, in process_events\n",
      "    response = await route_utils.call_process_api(\n",
      "               ^^^^^^^^^^^^^^^^^^^^^^^^^^^^^^^^^^^\n",
      "  File \"/Users/j1star/Desktop/MS AI Projects/microsoft-ai-school/.venv/lib/python3.11/site-packages/gradio/route_utils.py\", line 322, in call_process_api\n",
      "    output = await app.get_blocks().process_api(\n",
      "             ^^^^^^^^^^^^^^^^^^^^^^^^^^^^^^^^^^^\n",
      "  File \"/Users/j1star/Desktop/MS AI Projects/microsoft-ai-school/.venv/lib/python3.11/site-packages/gradio/blocks.py\", line 2191, in process_api\n",
      "    result = await self.call_function(\n",
      "             ^^^^^^^^^^^^^^^^^^^^^^^^^\n",
      "  File \"/Users/j1star/Desktop/MS AI Projects/microsoft-ai-school/.venv/lib/python3.11/site-packages/gradio/blocks.py\", line 1702, in call_function\n",
      "    prediction = await anyio.to_thread.run_sync(  # type: ignore\n",
      "                 ^^^^^^^^^^^^^^^^^^^^^^^^^^^^^^^^^^^^^^^^^^^^^^^\n",
      "  File \"/Users/j1star/Desktop/MS AI Projects/microsoft-ai-school/.venv/lib/python3.11/site-packages/anyio/to_thread.py\", line 56, in run_sync\n",
      "    return await get_async_backend().run_sync_in_worker_thread(\n",
      "           ^^^^^^^^^^^^^^^^^^^^^^^^^^^^^^^^^^^^^^^^^^^^^^^^^^^^\n",
      "  File \"/Users/j1star/Desktop/MS AI Projects/microsoft-ai-school/.venv/lib/python3.11/site-packages/anyio/_backends/_asyncio.py\", line 2470, in run_sync_in_worker_thread\n",
      "    return await future\n",
      "           ^^^^^^^^^^^^\n",
      "  File \"/Users/j1star/Desktop/MS AI Projects/microsoft-ai-school/.venv/lib/python3.11/site-packages/anyio/_backends/_asyncio.py\", line 967, in run\n",
      "    result = context.run(func, *args)\n",
      "             ^^^^^^^^^^^^^^^^^^^^^^^^\n",
      "  File \"/Users/j1star/Desktop/MS AI Projects/microsoft-ai-school/.venv/lib/python3.11/site-packages/gradio/utils.py\", line 894, in wrapper\n",
      "    response = f(*args, **kwargs)\n",
      "               ^^^^^^^^^^^^^^^^^^\n",
      "  File \"/var/folders/04/6s8yy3js1wj1c5n_56_fvj680000gn/T/ipykernel_80535/110349505.py\", line 21, in predict_with_api\n",
      "    predictions = response.json()[\"predictions\"]\n",
      "                  ~~~~~~~~~~~~~~~^^^^^^^^^^^^^^^\n",
      "KeyError: 'predictions'\n"
     ]
    }
   ],
   "source": [
    "import requests\n",
    "from PIL import Image\n",
    "import gradio as gr\n",
    "import io\n",
    "\n",
    "# Custom Vision Prediction 키와 URL\n",
    "PREDICTION_KEY = \"48fBztGiqcoH4PUUK23qmvxTBMmu31mgQ4JmJN1EDeCWNYw2QAtQJQQJ99BEACL93NaXJ3w3AAAIACOGelyc\"\n",
    "ENDPOINT_URL = \"https://neptun91cv20250526-prediction.cognitiveservices.azure.com/customvision/v3.0/Prediction/c7c4ea7c-3c10-4d11-9726-dad643e7413e/classify/iterations/Iteration1/image\"\n",
    "headers = {\"Prediction-Key\": PREDICTION_KEY, \"Content-Type\": \"application/octet-stream\"}\n",
    "\n",
    "\n",
    "def predict_with_api(image: Image.Image):\n",
    "    # 이미지를 바이너리로 변환\n",
    "    buf = io.BytesIO()\n",
    "    image.save(buf, format=\"JPEG\")\n",
    "    byte_data = buf.getvalue()\n",
    "\n",
    "    # API 호출\n",
    "    response = requests.post(ENDPOINT_URL, headers=headers, data=byte_data)\n",
    "    predictions = response.json()[\"predictions\"]\n",
    "\n",
    "    # 확률 기준 상위 2개 예측 추출\n",
    "    top_predictions = sorted(predictions, key=lambda x: x[\"probability\"], reverse=True)[:2]\n",
    "\n",
    "    # 결과 포맷팅\n",
    "    result_lines = [\n",
    "        f\"{pred['tagName']} ({pred['probability'] * 100:.2f}%)\"\n",
    "        for pred in top_predictions\n",
    "    ]\n",
    "\n",
    "    return \"\\n\".join(result_lines)\n",
    "\n",
    "\n",
    "# Gradio 인터페이스 정의\n",
    "interface = gr.Interface(\n",
    "    fn=predict_with_api,\n",
    "    inputs=gr.Image(type=\"pil\"),\n",
    "    outputs=gr.Text(),\n",
    "    title=\"Custom Vision Image Classifier\",\n",
    "    description=\"Upload an image to see the prediction from your Custom Vision model.\",\n",
    ")\n",
    "\n",
    "interface.launch()"
   ]
  }
 ],
 "metadata": {
  "kernelspec": {
   "display_name": ".venv",
   "language": "python",
   "name": "python3"
  },
  "language_info": {
   "codemirror_mode": {
    "name": "ipython",
    "version": 3
   },
   "file_extension": ".py",
   "mimetype": "text/x-python",
   "name": "python",
   "nbconvert_exporter": "python",
   "pygments_lexer": "ipython3",
   "version": "3.11.9"
  }
 },
 "nbformat": 4,
 "nbformat_minor": 5
}
