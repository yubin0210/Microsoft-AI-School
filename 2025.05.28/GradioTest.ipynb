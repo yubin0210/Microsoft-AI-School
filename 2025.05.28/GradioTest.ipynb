{
 "cells": [
  {
   "cell_type": "code",
   "execution_count": null,
   "id": "a28c0ec4",
   "metadata": {},
   "outputs": [],
   "source": [
    "import requests\n",
    "from PIL import Image\n",
    "import gradio as gr\n",
    "import io\n",
    "\n",
    "# Custom Vision Prediction 키와 URL\n",
    "PREDICTION_KEY = \"48fBztGiqcoH4PUUK23qmvxTBMmu31mgQ4JmJN1EDeCWNYw2QAtQJQQJ99BEACL93NaXJ3w3AAAIACOGelyc\"\n",
    "ENDPOINT_URL = \"https://neptun91cv20250526-prediction.cognitiveservices.azure.com/customvision/v3.0/Prediction/c387e65a-5db0-4e24-8b0a-3c049157dcc2/detect/iterations/Iteration1/image\"\n",
    "\n",
    "headers = {\"Prediction-Key\": PREDICTION_KEY, \"Content-Type\": \"application/octet-stream\"}\n",
    "\n",
    "\n",
    "def predict_with_api(image: Image.Image):\n",
    "    # 이미지를 바이너리로 변환\n",
    "    buf = io.BytesIO()\n",
    "    image.save(buf, format=\"JPEG\")\n",
    "    byte_data = buf.getvalue()\n",
    "\n",
    "    # API 호출\n",
    "    response = requests.post(ENDPOINT_URL, headers=headers, data=byte_data)\n",
    "    predictions = response.json()[\"predictions\"]\n",
    "\n",
    "    # 가장 높은 확률의 예측 추출\n",
    "    top_prediction = max(predictions, key=lambda x: x[\"probability\"])\n",
    "    label = top_prediction[\"tagName\"]\n",
    "    probability = top_prediction[\"probability\"]\n",
    "\n",
    "    return f\"{label} ({probability*100:.2f}%)\"\n",
    "\n",
    "\n",
    "# Gradio 인터페이스 정의\n",
    "interface = gr.Interface(\n",
    "    fn=predict_with_api,\n",
    "    inputs=gr.Image(type=\"pil\"),\n",
    "    outputs=gr.Text(),\n",
    "    title=\"Custom Vision Image Classifier\",\n",
    "    description=\"Upload an image to see the prediction from your Custom Vision model.\",\n",
    ")\n",
    "\n",
    "interface.launch()"
   ]
  }
 ],
 "metadata": {
  "kernelspec": {
   "display_name": ".venv",
   "language": "python",
   "name": "python3"
  },
  "language_info": {
   "codemirror_mode": {
    "name": "ipython",
    "version": 3
   },
   "file_extension": ".py",
   "mimetype": "text/x-python",
   "name": "python",
   "nbconvert_exporter": "python",
   "pygments_lexer": "ipython3",
   "version": "3.11.9"
  }
 },
 "nbformat": 4,
 "nbformat_minor": 5
}
