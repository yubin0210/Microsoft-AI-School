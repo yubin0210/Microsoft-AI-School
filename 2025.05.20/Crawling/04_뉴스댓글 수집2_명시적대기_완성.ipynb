{
 "cells": [
  {
   "cell_type": "code",
   "execution_count": 1,
   "metadata": {},
   "outputs": [],
   "source": [
    "from selenium import webdriver\n",
    "from selenium.webdriver.common.by import By\n",
    "from selenium.webdriver.common.keys import Keys\n",
    "import pandas as pd\n",
    "import numpy as np\n",
    "import time\n",
    "from datetime import datetime\n",
    "import math\n",
    "\n",
    "\n",
    "# ----------------------------\n",
    "# 명시적 대기를 위한 라이브러리\n",
    "# ----------------------------\n",
    "from selenium.webdriver.support.ui import WebDriverWait\n",
    "from selenium.webdriver.support import expected_conditions as EC"
   ]
  },
  {
   "cell_type": "markdown",
   "metadata": {},
   "source": [
    "#### 명시적 대기\n",
    "\n",
    "* `WebDriverWait(웹드라이버, 대기시간).until(조건함수)`\n",
    "    * `visibility_of_element_located` : 요소가 DOM트리 상에 존재하고 화면에 표시되는지 여부\n",
    "    * `element_to_be_clickable` : 요소가 클릭 가능한 상태인지 여부\n",
    "        "
   ]
  },
  {
   "cell_type": "markdown",
   "metadata": {},
   "source": [
    "#### 웹드라이버 생성 및 페이지 이동"
   ]
  },
  {
   "cell_type": "code",
   "execution_count": 2,
   "metadata": {},
   "outputs": [],
   "source": [
    "driver = webdriver.Chrome()\n",
    "\n",
    "# 웹페이지 접근\n",
    "url = 'https://n.news.naver.com/article/005/0001707120'\n",
    "driver.get(url)\n",
    "driver.maximize_window()"
   ]
  },
  {
   "cell_type": "markdown",
   "metadata": {},
   "source": [
    "#### 전체 댓글 수 추출"
   ]
  },
  {
   "cell_type": "code",
   "execution_count": 3,
   "metadata": {},
   "outputs": [
    {
     "name": "stdout",
     "output_type": "stream",
     "text": [
      "752\n"
     ]
    }
   ],
   "source": [
    "# ------------------------------------------------------------------------------------\n",
    "# 전체 댓글 수 요소가 DOM트리에 존재하고 보여지고 클릭 가능할 때까지 대기하고 요소를 리턴받는다.\n",
    "# ------------------------------------------------------------------------------------\n",
    "element = WebDriverWait(driver, 10).until(EC.element_to_be_clickable((By.CSS_SELECTOR, \"#comment_count\")))\n",
    "\n",
    "# ------------------------------------------------------------------------------------\n",
    "# 요소의 text가 '댓글'이 아닐 때까지 대기한다.\n",
    "# ------------------------------------------------------------------------------------\n",
    "WebDriverWait(driver, 10).until(lambda d: d.find_element(By.CSS_SELECTOR, \"#comment_count\").text != \"댓글\")\n",
    "\n",
    "# ------------------------------------------------------------------------------------\n",
    "# 요소의 text 추출\n",
    "# ------------------------------------------------------------------------------------\n",
    "review_total_cnt = element.text\n",
    "print(review_total_cnt)"
   ]
  },
  {
   "cell_type": "markdown",
   "metadata": {},
   "source": [
    "#### 댓글 화면으로 이동"
   ]
  },
  {
   "cell_type": "code",
   "execution_count": 4,
   "metadata": {},
   "outputs": [],
   "source": [
    "# ------------------------------------------------------------------------------------\n",
    "# 요소를 클릭하여 댓글 화면으로 이동한다.\n",
    "# ------------------------------------------------------------------------------------\n",
    "element.click()"
   ]
  },
  {
   "cell_type": "markdown",
   "metadata": {},
   "source": [
    "#### 더보기 클릭하여 모든 댓글 보이기"
   ]
  },
  {
   "cell_type": "code",
   "execution_count": 5,
   "metadata": {},
   "outputs": [],
   "source": [
    "# -----------------------------\n",
    "# 더보기 클릭 횟수\n",
    "#   더보기 클릭 할 때마다 20개의 댓글이 추가로 보여짐\n",
    "#   ceil(전체 댓글 수/20)\n",
    "# -----------------------------\n",
    "pagecnt = math.ceil(int(review_total_cnt)/20)-1\n",
    "# pagecnt = 3"
   ]
  },
  {
   "cell_type": "code",
   "execution_count": 6,
   "metadata": {},
   "outputs": [
    {
     "name": "stdout",
     "output_type": "stream",
     "text": [
      "0번째 페이지 로드중\n",
      "1번째 페이지 로드중\n",
      "2번째 페이지 로드중\n",
      "3번째 페이지 로드중\n",
      "4번째 페이지 로드중\n",
      "5번째 페이지 로드중\n",
      "6번째 페이지 로드중\n",
      "7번째 페이지 로드중\n",
      "8번째 페이지 로드중\n",
      "9번째 페이지 로드중\n",
      "10번째 페이지 로드중\n",
      "11번째 페이지 로드중\n",
      "12번째 페이지 로드중\n",
      "13번째 페이지 로드중\n",
      "14번째 페이지 로드중\n",
      "15번째 페이지 로드중\n",
      "16번째 페이지 로드중\n",
      "17번째 페이지 로드중\n",
      "18번째 페이지 로드중\n",
      "19번째 페이지 로드중\n",
      "20번째 페이지 로드중\n",
      "21번째 페이지 로드중\n",
      "22번째 페이지 로드중\n",
      "23번째 페이지 로드중\n",
      "24번째 페이지 로드중\n",
      "25번째 페이지 로드중\n",
      "26번째 페이지 로드중\n",
      "27번째 페이지 로드중\n",
      "28번째 페이지 로드중\n",
      "29번째 페이지 로드중\n",
      "30번째 페이지 로드중\n",
      "31번째 페이지 로드중\n",
      "32번째 페이지 로드중\n",
      "33번째 페이지 로드중\n",
      "34번째 페이지 로드중\n",
      "35번째 페이지 로드중\n",
      "36번째 페이지 로드중\n",
      "모든 댓글 로드 완료\n"
     ]
    }
   ],
   "source": [
    "for i in range(pagecnt):\n",
    "    time.sleep(0.5)\n",
    "    # ----------------------------------------------\n",
    "    # 더보기 클릭 가능한 상태가 될때까지 대기\n",
    "    # ----------------------------------------------\n",
    "    print(f'{i}번째 페이지 로드중')\n",
    "    element = WebDriverWait(driver, 10).until(EC.element_to_be_clickable((By.CSS_SELECTOR, \".u_cbox_btn_more\")))\n",
    "\n",
    "    # ----------------------------------------------\n",
    "    # 더보기 클릭\n",
    "    # ----------------------------------------------\n",
    "    element.click()\n",
    "    \n",
    "print('모든 댓글 로드 완료')"
   ]
  },
  {
   "cell_type": "markdown",
   "metadata": {},
   "source": [
    "#### 데이터 추출"
   ]
  },
  {
   "cell_type": "code",
   "execution_count": 7,
   "metadata": {},
   "outputs": [],
   "source": [
    "# ------------------------------------------\n",
    "# 댓글, 좋아요갯수, 싫어요갯수, 날짜\n",
    "# ------------------------------------------\n",
    "\n",
    "comments = driver.find_elements(By.CSS_SELECTOR, \".u_cbox_area\")\n",
    "comment_list = []\n",
    "for comment in comments:\n",
    "    try: review = comment.find_element(By.CSS_SELECTOR, \".u_cbox_contents\").text\n",
    "    except: review = np.nan\n",
    "\n",
    "    try: reply_cnt = comment.find_element(By.CSS_SELECTOR, \".u_cbox_reply_cnt\").text\n",
    "    except: reply_cnt = np.nan\n",
    "\n",
    "    try: recomm = comment.find_element(By.CSS_SELECTOR, \".u_cbox_cnt_recomm\").text\n",
    "    except: recomm = np.nan\n",
    "    \n",
    "\n",
    "    try: unrecomm = comment.find_element(By.CSS_SELECTOR, \".u_cbox_cnt_unrecomm\").text\n",
    "    except: unrecomm = np.nan\n",
    "\n",
    "    try: date = comment.find_element(By.CSS_SELECTOR, \".u_cbox_date\").text\n",
    "    except: date = np.nan\n",
    "\n",
    "    \n",
    "    comment_list.append({\"review\":review, \"reply_cnt\":reply_cnt, \n",
    "                         \"recomm\":recomm, \"unrecomm\":unrecomm, \"date\":date})\n",
    "                         "
   ]
  },
  {
   "cell_type": "markdown",
   "metadata": {},
   "source": [
    "#### 데이터 저장"
   ]
  },
  {
   "cell_type": "code",
   "execution_count": 8,
   "metadata": {},
   "outputs": [
    {
     "data": {
      "text/html": [
       "<div>\n",
       "<style scoped>\n",
       "    .dataframe tbody tr th:only-of-type {\n",
       "        vertical-align: middle;\n",
       "    }\n",
       "\n",
       "    .dataframe tbody tr th {\n",
       "        vertical-align: top;\n",
       "    }\n",
       "\n",
       "    .dataframe thead th {\n",
       "        text-align: right;\n",
       "    }\n",
       "</style>\n",
       "<table border=\"1\" class=\"dataframe\">\n",
       "  <thead>\n",
       "    <tr style=\"text-align: right;\">\n",
       "      <th></th>\n",
       "      <th>review</th>\n",
       "      <th>reply_cnt</th>\n",
       "      <th>recomm</th>\n",
       "      <th>unrecomm</th>\n",
       "      <th>date</th>\n",
       "    </tr>\n",
       "  </thead>\n",
       "  <tbody>\n",
       "    <tr>\n",
       "      <th>0</th>\n",
       "      <td>발볼이 넓은사람은 나이키가 불편해서 안신게됨</td>\n",
       "      <td>36</td>\n",
       "      <td>1095</td>\n",
       "      <td>34</td>\n",
       "      <td>2024.06.29. 10:15</td>\n",
       "    </tr>\n",
       "    <tr>\n",
       "      <th>1</th>\n",
       "      <td>난 나이키만 신는데? 신발은 나이키</td>\n",
       "      <td>47</td>\n",
       "      <td>968</td>\n",
       "      <td>381</td>\n",
       "      <td>2024.06.29. 09:59</td>\n",
       "    </tr>\n",
       "    <tr>\n",
       "      <th>3</th>\n",
       "      <td>디자인으로 신는거지 발이 편하진않음</td>\n",
       "      <td>15</td>\n",
       "      <td>321</td>\n",
       "      <td>37</td>\n",
       "      <td>2024.06.29. 10:02</td>\n",
       "    </tr>\n",
       "    <tr>\n",
       "      <th>4</th>\n",
       "      <td>발이 더 편하거나 디자인이 좋거나 하는 신발들이 많아졌지 사실 경쟁력이 없잖아</td>\n",
       "      <td>4</td>\n",
       "      <td>204</td>\n",
       "      <td>12</td>\n",
       "      <td>2024.06.29. 10:12</td>\n",
       "    </tr>\n",
       "    <tr>\n",
       "      <th>5</th>\n",
       "      <td>뉴발란스가 확실히 편해요. 이번에 아디다스 삼바도 사봤는데 나이키보다는 편하더라고요...</td>\n",
       "      <td>3</td>\n",
       "      <td>88</td>\n",
       "      <td>6</td>\n",
       "      <td>2024.06.29. 11:24</td>\n",
       "    </tr>\n",
       "    <tr>\n",
       "      <th>...</th>\n",
       "      <td>...</td>\n",
       "      <td>...</td>\n",
       "      <td>...</td>\n",
       "      <td>...</td>\n",
       "      <td>...</td>\n",
       "    </tr>\n",
       "    <tr>\n",
       "      <th>734</th>\n",
       "      <td>적지 않은 사람들이 짝퉁 신고 다니는 현실 감안하면 이해될만 합니다.</td>\n",
       "      <td>0</td>\n",
       "      <td>0</td>\n",
       "      <td>1</td>\n",
       "      <td>2024.06.29. 11:15</td>\n",
       "    </tr>\n",
       "    <tr>\n",
       "      <th>735</th>\n",
       "      <td>아직도 90년대에 사고가 멈춰있는 사람이 많구마잉</td>\n",
       "      <td>0</td>\n",
       "      <td>0</td>\n",
       "      <td>1</td>\n",
       "      <td>2024.06.29. 11:14</td>\n",
       "    </tr>\n",
       "    <tr>\n",
       "      <th>736</th>\n",
       "      <td>솔직히 그냥 줘도 안신음.</td>\n",
       "      <td>0</td>\n",
       "      <td>1</td>\n",
       "      <td>3</td>\n",
       "      <td>2024.06.29. 15:40</td>\n",
       "    </tr>\n",
       "    <tr>\n",
       "      <th>737</th>\n",
       "      <td>나이 키 묻는것은 굉장한 실례입니다</td>\n",
       "      <td>0</td>\n",
       "      <td>1</td>\n",
       "      <td>3</td>\n",
       "      <td>2024.06.29. 14:56</td>\n",
       "    </tr>\n",
       "    <tr>\n",
       "      <th>738</th>\n",
       "      <td>요증 아식스신발 디자인 이쁜것많더라 서울시내 지하철등등서 많이들 신고다니더라</td>\n",
       "      <td>0</td>\n",
       "      <td>0</td>\n",
       "      <td>2</td>\n",
       "      <td>2024.06.30. 09:45</td>\n",
       "    </tr>\n",
       "  </tbody>\n",
       "</table>\n",
       "<p>566 rows × 5 columns</p>\n",
       "</div>"
      ],
      "text/plain": [
       "                                                review reply_cnt recomm  \\\n",
       "0                             발볼이 넓은사람은 나이키가 불편해서 안신게됨        36   1095   \n",
       "1                                  난 나이키만 신는데? 신발은 나이키        47    968   \n",
       "3                                  디자인으로 신는거지 발이 편하진않음        15    321   \n",
       "4          발이 더 편하거나 디자인이 좋거나 하는 신발들이 많아졌지 사실 경쟁력이 없잖아         4    204   \n",
       "5    뉴발란스가 확실히 편해요. 이번에 아디다스 삼바도 사봤는데 나이키보다는 편하더라고요...         3     88   \n",
       "..                                                 ...       ...    ...   \n",
       "734             적지 않은 사람들이 짝퉁 신고 다니는 현실 감안하면 이해될만 합니다.         0      0   \n",
       "735                        아직도 90년대에 사고가 멈춰있는 사람이 많구마잉         0      0   \n",
       "736                                     솔직히 그냥 줘도 안신음.         0      1   \n",
       "737                                나이 키 묻는것은 굉장한 실례입니다         0      1   \n",
       "738         요증 아식스신발 디자인 이쁜것많더라 서울시내 지하철등등서 많이들 신고다니더라         0      0   \n",
       "\n",
       "    unrecomm               date  \n",
       "0         34  2024.06.29. 10:15  \n",
       "1        381  2024.06.29. 09:59  \n",
       "3         37  2024.06.29. 10:02  \n",
       "4         12  2024.06.29. 10:12  \n",
       "5          6  2024.06.29. 11:24  \n",
       "..       ...                ...  \n",
       "734        1  2024.06.29. 11:15  \n",
       "735        1  2024.06.29. 11:14  \n",
       "736        3  2024.06.29. 15:40  \n",
       "737        3  2024.06.29. 14:56  \n",
       "738        2  2024.06.30. 09:45  \n",
       "\n",
       "[566 rows x 5 columns]"
      ]
     },
     "execution_count": 8,
     "metadata": {},
     "output_type": "execute_result"
    }
   ],
   "source": [
    "# -------------------------------\n",
    "# 데이터프레임 생성하고 결측치 처리\n",
    "# -------------------------------\n",
    "df = pd.DataFrame(comment_list).dropna()\n",
    "\n",
    "# -------------------------------\n",
    "# 파일로 저장\n",
    "# -------------------------------\n",
    "file_path = f'data/뉴스댓글/나이키'\n",
    "df.to_csv(file_path+'.csv', index=False)\n",
    "df.to_excel(file_path+'.xlsx', index=False)\n",
    "\n",
    "df"
   ]
  }
 ],
 "metadata": {
  "kernelspec": {
   "display_name": "Python 3",
   "language": "python",
   "name": "python3"
  },
  "language_info": {
   "codemirror_mode": {
    "name": "ipython",
    "version": 3
   },
   "file_extension": ".py",
   "mimetype": "text/x-python",
   "name": "python",
   "nbconvert_exporter": "python",
   "pygments_lexer": "ipython3",
   "version": "3.13.1"
  }
 },
 "nbformat": 4,
 "nbformat_minor": 2
}
