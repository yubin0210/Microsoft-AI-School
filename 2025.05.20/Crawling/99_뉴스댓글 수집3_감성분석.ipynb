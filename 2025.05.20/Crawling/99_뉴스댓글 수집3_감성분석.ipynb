{
 "cells": [
  {
   "cell_type": "code",
   "execution_count": 6,
   "id": "38503d91",
   "metadata": {},
   "outputs": [],
   "source": [
    "from azure.ai.textanalytics import TextAnalyticsClient\n",
    "from azure.core.credentials import AzureKeyCredential\n",
    "import pandas as pd"
   ]
  },
  {
   "cell_type": "code",
   "execution_count": null,
   "id": "fe22655f",
   "metadata": {},
   "outputs": [],
   "source": [
    "# ---------------------------------------------------------------\n",
    "# 발급받은 엔드포인트와 키\n",
    "# ---------------------------------------------------------------\n",
    "endpoint = \n",
    "key = \n",
    "\n",
    "# ---------------------------------------------------------------\n",
    "# 감성분석 클라이언트 생성\n",
    "# ---------------------------------------------------------------\n",
    "client = TextAnalyticsClient(endpoint=endpoint, credential=AzureKeyCredential(key))\n",
    "\n",
    "# ---------------------------------------------------------------\n",
    "# 감성분석 함수\n",
    "# ---------------------------------------------------------------\n",
    "def analyze_sentiment(text):\n",
    "    try:\n",
    "        if pd.isna(text):\n",
    "            return [\"unknown\", None, None, None]  # NaN 처리 시에도 길이 4 보장        \n",
    "        response = client.analyze_sentiment(documents=[{\"id\": \"1\", \"language\": \"ko\", \"text\": text}])\n",
    "        document = response[0]\n",
    "        return [\n",
    "            document.sentiment,\n",
    "            document.confidence_scores.positive,\n",
    "            document.confidence_scores.neutral,\n",
    "            document.confidence_scores.negative\n",
    "        ]\n",
    "    except Exception as e:\n",
    "        print(f\"오류 발생: {e}\")\n",
    "        return [\"error\", None, None, None]  # 오류 발생 시에도 길이 4 리턴\n"
   ]
  },
  {
   "cell_type": "code",
   "execution_count": null,
   "id": "8e90ebc9",
   "metadata": {},
   "outputs": [
    {
     "name": "stdout",
     "output_type": "stream",
     "text": [
      "(2, 6)\n"
     ]
    },
    {
     "name": "stderr",
     "output_type": "stream",
     "text": [
      "C:\\Users\\chopi\\AppData\\Local\\Temp\\ipykernel_54556\\419321291.py:7: FutureWarning: The provided callable <function mean at 0x00000214EBEAC0E0> is currently using DataFrameGroupBy.mean. In a future version of pandas, the provided callable will be used directly. To keep current behavior pass the string \"mean\" instead.\n",
      "  result = df.pivot_table(values='C', index='A', columns='B', aggfunc=np.mean, fill_value=0)\n"
     ]
    }
   ],
   "source": [
    "import pandas as pd \n",
    "import numpy as np \n",
    "df = pd.DataFrame({ 'A': ['foo', 'bar', 'foo', 'bar', 'foo', 'bar'], \n",
    "                   'B': [1, 2, 3, 4, 5, 6], \n",
    "                   'C': [2.5, 2.0, 3.5, 3.0, 4.5, 4.0] }) \n",
    "\n",
    "result = df.pivot_table(values='C', \n",
    "                        index='A', \n",
    "                        columns='B', \n",
    "                        aggfunc=np.mean, \n",
    "                        fill_value=0) \n",
    "print(result.shape)\n"
   ]
  },
  {
   "cell_type": "code",
   "execution_count": 8,
   "id": "d60dd1ea",
   "metadata": {},
   "outputs": [],
   "source": [
    "# ---------------------------------------------------------------\n",
    "# 감성분석 결과 컬럼 추가\n",
    "# ---------------------------------------------------------------\n",
    "df = pd.read_csv(\"data/뉴스댓글/나이키.csv\")\n",
    "df[['sentiment','positive_rate','nutral_rate','negative_rate']] = df['review'].apply(\n",
    "    lambda x: pd.Series(analyze_sentiment(x))\n",
    ")"
   ]
  },
  {
   "cell_type": "code",
   "execution_count": 9,
   "id": "ae375234",
   "metadata": {},
   "outputs": [],
   "source": [
    "# ---------------------------------------------------------------\n",
    "# 감성분석 결과 파일로 다운로드\n",
    "# ---------------------------------------------------------------\n",
    "file_path = f'data/뉴스댓글/나이키_감성분석'\n",
    "df.to_excel(file_path+'.xlsx', index=False)"
   ]
  }
 ],
 "metadata": {
  "kernelspec": {
   "display_name": "Python 3",
   "language": "python",
   "name": "python3"
  },
  "language_info": {
   "codemirror_mode": {
    "name": "ipython",
    "version": 3
   },
   "file_extension": ".py",
   "mimetype": "text/x-python",
   "name": "python",
   "nbconvert_exporter": "python",
   "pygments_lexer": "ipython3",
   "version": "3.13.1"
  }
 },
 "nbformat": 4,
 "nbformat_minor": 5
}
