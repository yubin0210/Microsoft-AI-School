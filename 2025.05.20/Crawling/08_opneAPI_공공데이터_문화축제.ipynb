{
 "cells": [
  {
   "cell_type": "markdown",
   "id": "52101b8a",
   "metadata": {},
   "source": [
    "전국문화축제표준데이터\n",
    "\n",
    "https://www.data.go.kr/data/15013104/standard.do\n",
    "\n",
    "- api key 발급\n",
    "- url 만들기\n",
    "- requests 요청\n",
    "- parsing\n"
   ]
  },
  {
   "cell_type": "markdown",
   "id": "5437f22a",
   "metadata": {},
   "source": [
    "#### 1페이지 데이터 수집\n"
   ]
  },
  {
   "cell_type": "code",
   "execution_count": 37,
   "id": "a00f9ba8",
   "metadata": {},
   "outputs": [
    {
     "name": "stdout",
     "output_type": "stream",
     "text": [
      "{\"response\":{\"header\":{\"resultCode\": \"30\",\"resultMsg\":\"SERVICE KEY IS NOT REGISTERED ERROR.\"}}}\n",
      "{'response': {'header': {'resultCode': '30', 'resultMsg': 'SERVICE KEY IS NOT REGISTERED ERROR.'}}}\n"
     ]
    }
   ],
   "source": [
    "key_decoding = \"/2lArsAtATWhH3o+FiNjJGEcuSMp9EYpJMfKIMnMmm31xL5n9e9/NKsPipzZMV5lsP9N1z00HiYszRTw8IjEwA==\"\n",
    "import pandas as pd\n",
    "import requests\n",
    "import json\n",
    "\n",
    "# ------------------------------------------------\n",
    "# url 생성 및 파라미터 정의\n",
    "#   - opneAPI 활용 가이드에 따름\n",
    "#   - 키 발급\n",
    "#   - 요청 url 생성\n",
    "#   - 파라미터 정의\n",
    "#   - json 타입으로 응답받도록 지정\n",
    "# ------------------------------------------------\n",
    "url = \"http://api.data.go.kr/openapi/tn_pubr_public_cltur_fstvl_api\"\n",
    "\n",
    "params = {\"serviceKey\": key_decoding, \"pageNo\": 1, \"numOfRows\": \"100\", \"type\": \"json\"}\n",
    "\n",
    "# -----------------------------------\n",
    "# 요청 및 응답\n",
    "#   응답객체는 json 타입\n",
    "# -----------------------------------\n",
    "response = requests.get(url, params=params)\n",
    "print(response.text)\n",
    "\n",
    "# -----------------------------------\n",
    "# parsing\n",
    "#   json --> dict\n",
    "# -----------------------------------\n",
    "data = response.json()\n",
    "print(data)\n",
    "\n",
    "# -----------------------------------\n",
    "# 데이터 추출\n",
    "# -----------------------------------"
   ]
  },
  {
   "cell_type": "markdown",
   "id": "a0cdd825",
   "metadata": {},
   "source": [
    "#### 모든 페이지 데이터 수집\n"
   ]
  },
  {
   "cell_type": "code",
   "execution_count": null,
   "id": "7bcc3d43",
   "metadata": {},
   "outputs": [
    {
     "ename": "KeyError",
     "evalue": "'body'",
     "output_type": "error",
     "traceback": [
      "\u001b[31m---------------------------------------------------------------------------\u001b[39m",
      "\u001b[31mKeyError\u001b[39m                                  Traceback (most recent call last)",
      "\u001b[36mCell\u001b[39m\u001b[36m \u001b[39m\u001b[32mIn[35]\u001b[39m\u001b[32m, line 34\u001b[39m\n\u001b[32m     28\u001b[39m response = requests.get(url, params=params)\n\u001b[32m     30\u001b[39m \u001b[38;5;66;03m# -----------------------------------\u001b[39;00m\n\u001b[32m     31\u001b[39m \u001b[38;5;66;03m# parsing\u001b[39;00m\n\u001b[32m     32\u001b[39m \u001b[38;5;66;03m#   json --> dict\u001b[39;00m\n\u001b[32m     33\u001b[39m \u001b[38;5;66;03m# -----------------------------------\u001b[39;00m\n\u001b[32m---> \u001b[39m\u001b[32m34\u001b[39m data = \u001b[43mresponse\u001b[49m\u001b[43m.\u001b[49m\u001b[43mjson\u001b[49m\u001b[43m(\u001b[49m\u001b[43m)\u001b[49m\u001b[43m[\u001b[49m\u001b[33;43m\"\u001b[39;49m\u001b[33;43mresponse\u001b[39;49m\u001b[33;43m\"\u001b[39;49m\u001b[43m]\u001b[49m\u001b[43m[\u001b[49m\u001b[33;43m\"\u001b[39;49m\u001b[33;43mbody\u001b[39;49m\u001b[33;43m\"\u001b[39;49m\u001b[43m]\u001b[49m[\u001b[33m\"\u001b[39m\u001b[33mitems\u001b[39m\u001b[33m\"\u001b[39m]\n\u001b[32m     35\u001b[39m dfs.append(pd.DataFrame(data))\n",
      "\u001b[31mKeyError\u001b[39m: 'body'"
     ]
    }
   ],
   "source": [
    "key_decoding = \"/2lArsAtATWhH3o+FiNjJGEcuSMp9EYpJMfKIMnMmm31xL5n9e9/NKsPipzZMV5lsP9N1z00HiYszRTw8IjEwA==\"\n",
    "\n",
    "import pandas as pd\n",
    "import requests\n",
    "import json\n",
    "\n",
    "dfs = []\n",
    "\n",
    "# -----------------------------------\n",
    "# 여러 페이지 데이터를 받기 위해 반복\n",
    "# -----------------------------------\n",
    "for i in range(1, 14):\n",
    "\n",
    "    # -----------------------------------\n",
    "    # url 생성\n",
    "    # -----------------------------------\n",
    "    url = \"http://api.data.go.kr/openapi/tn_pubr_public_cltur_fstvl_api\"\n",
    "    params = {\n",
    "        \"serviceKey\": key_decoding,\n",
    "        \"pageNo\": i,\n",
    "        \"numOfRows\": \"100\",\n",
    "        \"type\": \"json\",\n",
    "    }\n",
    "\n",
    "    # -----------------------------------\n",
    "    # url 생성\n",
    "    # -----------------------------------\n",
    "    response = requests.get(url, params=params)\n",
    "\n",
    "    # -----------------------------------\n",
    "    # parsing\n",
    "    #   json --> dict\n",
    "    # -----------------------------------\n",
    "    data = response.json()[\"response\"][\"body\"][\"items\"]\n",
    "    dfs.append(pd.DataFrame(data))"
   ]
  }
 ],
 "metadata": {
  "kernelspec": {
   "display_name": ".venv",
   "language": "python",
   "name": "python3"
  },
  "language_info": {
   "codemirror_mode": {
    "name": "ipython",
    "version": 3
   },
   "file_extension": ".py",
   "mimetype": "text/x-python",
   "name": "python",
   "nbconvert_exporter": "python",
   "pygments_lexer": "ipython3",
   "version": "3.11.9"
  }
 },
 "nbformat": 4,
 "nbformat_minor": 5
}
