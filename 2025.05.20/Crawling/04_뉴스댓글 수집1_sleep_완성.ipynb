{
 "cells": [
  {
   "cell_type": "code",
   "execution_count": 1,
   "metadata": {},
   "outputs": [],
   "source": [
    "from selenium import webdriver\n",
    "from selenium.webdriver.common.by import By\n",
    "from selenium.webdriver.common.keys import Keys\n",
    "import pandas as pd\n",
    "import numpy as np\n",
    "import time\n",
    "from datetime import datetime\n",
    "import math"
   ]
  },
  {
   "cell_type": "markdown",
   "metadata": {},
   "source": [
    "#### 웹드라이버 생성 및 페이지 이동"
   ]
  },
  {
   "cell_type": "code",
   "execution_count": null,
   "metadata": {},
   "outputs": [],
   "source": [
    "driver = webdriver.Chrome()\n",
    "\n",
    "# 웹페이지 접근\n",
    "url = 'https://n.news.naver.com/article/005/0001707120'\n",
    "driver.get(url)\n",
    "driver.maximize_window()\n",
    "\n",
    "time.sleep(5)"
   ]
  },
  {
   "cell_type": "markdown",
   "metadata": {},
   "source": [
    "#### 전체 댓글 수 추출"
   ]
  },
  {
   "cell_type": "code",
   "execution_count": null,
   "metadata": {},
   "outputs": [],
   "source": [
    "review_total_cnt = driver.find_element(By.CSS_SELECTOR, \"#comment_count\").text\n",
    "\n",
    "time.sleep(2)"
   ]
  },
  {
   "cell_type": "markdown",
   "metadata": {},
   "source": [
    "#### 댓글 화면으로 이동"
   ]
  },
  {
   "cell_type": "code",
   "execution_count": null,
   "metadata": {},
   "outputs": [],
   "source": [
    "driver.find_element(By.CSS_SELECTOR, '#comment_count').click()\n",
    "\n",
    "time.sleep(3)"
   ]
  },
  {
   "cell_type": "markdown",
   "metadata": {},
   "source": [
    "#### 더보기 클릭하여 모든 댓글 보이기"
   ]
  },
  {
   "cell_type": "code",
   "execution_count": 6,
   "metadata": {},
   "outputs": [
    {
     "name": "stdout",
     "output_type": "stream",
     "text": [
      "0번째 페이지 로드중\n",
      "1번째 페이지 로드중\n",
      "2번째 페이지 로드중\n",
      "모든 댓글 로드 완료\n"
     ]
    }
   ],
   "source": [
    "# -----------------------------\n",
    "# 더보기 클릭 횟수\n",
    "#   더보기 클릭 할 때마다 20개의 댓글이 추가로 보여짐\n",
    "#   ceil(전체 댓글 수/20)\n",
    "# -----------------------------\n",
    "# pagecnt = math.ceil(int(review_total_cnt)/20)-1\n",
    "pagecnt = 3\n",
    "\n",
    "# -----------------------------\n",
    "# 더보기 클릭 \n",
    "# -----------------------------\n",
    "for i in range(pagecnt):\n",
    "    print(f'{i}번째 페이지 로드중')\n",
    "    driver.find_element(By.CSS_SELECTOR, '.u_cbox_btn_more').click()\n",
    "    time.sleep(2)\n",
    "    \n",
    "print('모든 댓글 로드 완료')"
   ]
  },
  {
   "cell_type": "markdown",
   "metadata": {},
   "source": [
    "#### 데이터 추출"
   ]
  },
  {
   "cell_type": "code",
   "execution_count": 7,
   "metadata": {},
   "outputs": [],
   "source": [
    "# ------------------------------------------\n",
    "# 댓글, 좋아요갯수, 싫어요갯수, 날짜\n",
    "# ------------------------------------------\n",
    "\n",
    "comments = driver.find_elements(By.CSS_SELECTOR, \".u_cbox_area\")\n",
    "comment_list = []\n",
    "for comment in comments:\n",
    "    try: review = comment.find_element(By.CSS_SELECTOR, \".u_cbox_contents\").text\n",
    "    except: review = np.nan\n",
    "\n",
    "    try: reply_cnt = comment.find_element(By.CSS_SELECTOR, \".u_cbox_reply_cnt\").text\n",
    "    except: reply_cnt = np.nan\n",
    "\n",
    "    try: recomm = comment.find_element(By.CSS_SELECTOR, \".u_cbox_cnt_recomm\").text\n",
    "    except: recomm = np.nan\n",
    "    \n",
    "\n",
    "    try: unrecomm = comment.find_element(By.CSS_SELECTOR, \".u_cbox_cnt_unrecomm\").text\n",
    "    except: unrecomm = np.nan\n",
    "\n",
    "    try: date = comment.find_element(By.CSS_SELECTOR, \".u_cbox_date\").text\n",
    "    except: date = np.nan\n",
    "\n",
    "    \n",
    "    comment_list.append({\"review\":review, \"reply_cnt\":reply_cnt, \n",
    "                         \"recomm\":recomm, \"unrecomm\":unrecomm, \"date\":date})"
   ]
  },
  {
   "cell_type": "markdown",
   "metadata": {},
   "source": [
    "#### 데이터 저장"
   ]
  },
  {
   "cell_type": "code",
   "execution_count": 9,
   "metadata": {},
   "outputs": [
    {
     "data": {
      "text/html": [
       "<div>\n",
       "<style scoped>\n",
       "    .dataframe tbody tr th:only-of-type {\n",
       "        vertical-align: middle;\n",
       "    }\n",
       "\n",
       "    .dataframe tbody tr th {\n",
       "        vertical-align: top;\n",
       "    }\n",
       "\n",
       "    .dataframe thead th {\n",
       "        text-align: right;\n",
       "    }\n",
       "</style>\n",
       "<table border=\"1\" class=\"dataframe\">\n",
       "  <thead>\n",
       "    <tr style=\"text-align: right;\">\n",
       "      <th></th>\n",
       "      <th>review</th>\n",
       "      <th>reply_cnt</th>\n",
       "      <th>recomm</th>\n",
       "      <th>unrecomm</th>\n",
       "      <th>date</th>\n",
       "    </tr>\n",
       "  </thead>\n",
       "  <tbody>\n",
       "    <tr>\n",
       "      <th>0</th>\n",
       "      <td>발볼이 넓은사람은 나이키가 불편해서 안신게됨</td>\n",
       "      <td>36</td>\n",
       "      <td>1095</td>\n",
       "      <td>34</td>\n",
       "      <td>2024.06.29. 10:15</td>\n",
       "    </tr>\n",
       "    <tr>\n",
       "      <th>1</th>\n",
       "      <td>난 나이키만 신는데? 신발은 나이키</td>\n",
       "      <td>47</td>\n",
       "      <td>968</td>\n",
       "      <td>381</td>\n",
       "      <td>2024.06.29. 09:59</td>\n",
       "    </tr>\n",
       "    <tr>\n",
       "      <th>2</th>\n",
       "      <td>NaN</td>\n",
       "      <td>17</td>\n",
       "      <td>NaN</td>\n",
       "      <td>NaN</td>\n",
       "      <td>2025.01.13. 18:04</td>\n",
       "    </tr>\n",
       "    <tr>\n",
       "      <th>3</th>\n",
       "      <td>디자인으로 신는거지 발이 편하진않음</td>\n",
       "      <td>15</td>\n",
       "      <td>321</td>\n",
       "      <td>37</td>\n",
       "      <td>2024.06.29. 10:02</td>\n",
       "    </tr>\n",
       "    <tr>\n",
       "      <th>4</th>\n",
       "      <td>발이 더 편하거나 디자인이 좋거나 하는 신발들이 많아졌지 사실 경쟁력이 없잖아</td>\n",
       "      <td>4</td>\n",
       "      <td>204</td>\n",
       "      <td>12</td>\n",
       "      <td>2024.06.29. 10:12</td>\n",
       "    </tr>\n",
       "    <tr>\n",
       "      <th>...</th>\n",
       "      <td>...</td>\n",
       "      <td>...</td>\n",
       "      <td>...</td>\n",
       "      <td>...</td>\n",
       "      <td>...</td>\n",
       "    </tr>\n",
       "    <tr>\n",
       "      <th>75</th>\n",
       "      <td>제목을 저렇게 쓰시니 나이키 신고있는 사람 비하하는 느낌드네요.</td>\n",
       "      <td>0</td>\n",
       "      <td>2</td>\n",
       "      <td>0</td>\n",
       "      <td>2024.06.29. 20:58</td>\n",
       "    </tr>\n",
       "    <tr>\n",
       "      <th>76</th>\n",
       "      <td>아식스!</td>\n",
       "      <td>0</td>\n",
       "      <td>2</td>\n",
       "      <td>0</td>\n",
       "      <td>2024.06.29. 19:57</td>\n",
       "    </tr>\n",
       "    <tr>\n",
       "      <th>77</th>\n",
       "      <td>스케쳐스 한번 신어보니 개 좋음</td>\n",
       "      <td>0</td>\n",
       "      <td>2</td>\n",
       "      <td>0</td>\n",
       "      <td>2024.06.29. 19:53</td>\n",
       "    </tr>\n",
       "    <tr>\n",
       "      <th>78</th>\n",
       "      <td>요즘 나이키 품질 너무 안좋음</td>\n",
       "      <td>0</td>\n",
       "      <td>2</td>\n",
       "      <td>0</td>\n",
       "      <td>2024.06.29. 17:37</td>\n",
       "    </tr>\n",
       "    <tr>\n",
       "      <th>79</th>\n",
       "      <td>NaN</td>\n",
       "      <td>1</td>\n",
       "      <td>NaN</td>\n",
       "      <td>NaN</td>\n",
       "      <td>2025.03.10. 19:41</td>\n",
       "    </tr>\n",
       "  </tbody>\n",
       "</table>\n",
       "<p>80 rows × 5 columns</p>\n",
       "</div>"
      ],
      "text/plain": [
       "                                         review reply_cnt recomm unrecomm  \\\n",
       "0                      발볼이 넓은사람은 나이키가 불편해서 안신게됨        36   1095       34   \n",
       "1                           난 나이키만 신는데? 신발은 나이키        47    968      381   \n",
       "2                                           NaN        17    NaN      NaN   \n",
       "3                           디자인으로 신는거지 발이 편하진않음        15    321       37   \n",
       "4   발이 더 편하거나 디자인이 좋거나 하는 신발들이 많아졌지 사실 경쟁력이 없잖아         4    204       12   \n",
       "..                                          ...       ...    ...      ...   \n",
       "75          제목을 저렇게 쓰시니 나이키 신고있는 사람 비하하는 느낌드네요.         0      2        0   \n",
       "76                                         아식스!         0      2        0   \n",
       "77                            스케쳐스 한번 신어보니 개 좋음         0      2        0   \n",
       "78                             요즘 나이키 품질 너무 안좋음         0      2        0   \n",
       "79                                          NaN         1    NaN      NaN   \n",
       "\n",
       "                 date  \n",
       "0   2024.06.29. 10:15  \n",
       "1   2024.06.29. 09:59  \n",
       "2   2025.01.13. 18:04  \n",
       "3   2024.06.29. 10:02  \n",
       "4   2024.06.29. 10:12  \n",
       "..                ...  \n",
       "75  2024.06.29. 20:58  \n",
       "76  2024.06.29. 19:57  \n",
       "77  2024.06.29. 19:53  \n",
       "78  2024.06.29. 17:37  \n",
       "79  2025.03.10. 19:41  \n",
       "\n",
       "[80 rows x 5 columns]"
      ]
     },
     "execution_count": 9,
     "metadata": {},
     "output_type": "execute_result"
    }
   ],
   "source": [
    "# -------------------------------\n",
    "# 데이터프레임 생성\n",
    "# -------------------------------\n",
    "df = pd.DataFrame(comment_list)\n",
    "\n",
    "# -------------------------------\n",
    "# 파일로 저장\n",
    "# -------------------------------\n",
    "prefix = datetime.now().strftime('%Y%m%d_%H%M%S')\n",
    "file_path = f'data/{prefix}네이버뉴스_나이키'\n",
    "df.to_csv(file_path+'.csv')\n",
    "df.to_excel(file_path+'.xlsx')\n",
    "\n",
    "df"
   ]
  }
 ],
 "metadata": {
  "kernelspec": {
   "display_name": ".venv",
   "language": "python",
   "name": "python3"
  },
  "language_info": {
   "codemirror_mode": {
    "name": "ipython",
    "version": 3
   },
   "file_extension": ".py",
   "mimetype": "text/x-python",
   "name": "python",
   "nbconvert_exporter": "python",
   "pygments_lexer": "ipython3",
   "version": "3.13.1"
  }
 },
 "nbformat": 4,
 "nbformat_minor": 2
}
