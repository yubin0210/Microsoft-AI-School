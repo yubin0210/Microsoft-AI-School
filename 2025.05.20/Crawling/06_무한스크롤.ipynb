{
 "cells": [
  {
   "cell_type": "code",
   "execution_count": null,
   "metadata": {},
   "outputs": [],
   "source": [
    "from selenium import webdriver\n",
    "from selenium.webdriver.common.by import By\n",
    "from selenium.webdriver.common.keys import Keys\n",
    "import pandas as pd\n",
    "import time\n",
    "import openpyxl\n",
    "\n",
    "url = \"https://search.shopping.naver.com/search/all?query=노트북\"\n",
    "driver = uc.Chrome()\n",
    "\n",
    "driver.get(url)\n",
    "driver.maximize_window()"
   ]
  },
  {
   "cell_type": "code",
   "execution_count": 3,
   "metadata": {},
   "outputs": [],
   "source": [
    "# 무한스크롤\n",
    "# 페이지의 스크롤 높이 받아오기\n",
    "last_height = driver.execute_script(\"return document.body.scrollHeight\")\n",
    "while True: \n",
    "    # 스크롤 끝까지 내리기\n",
    "    driver.execute_script(\"window.scrollTo(0,document.body.scrollHeight)\")\n",
    "\n",
    "    # 현재 스크롤 위치 받아오기\n",
    "    current_height = driver.execute_script(\"return document.body.scrollHeight\") \n",
    "\n",
    "    # 마지막스크롤 = 현재스크롤이면 반복 벗어나기  \n",
    "    if last_height == current_height: break\n",
    " \n",
    "    # 현재 스크롤을 마지막 스크롤로 업데이트 하기\n",
    "    last_height = current_height\n",
    "\n",
    "    time.sleep(1)"
   ]
  }
 ],
 "metadata": {
  "kernelspec": {
   "display_name": ".venv",
   "language": "python",
   "name": "python3"
  },
  "language_info": {
   "codemirror_mode": {
    "name": "ipython",
    "version": 3
   },
   "file_extension": ".py",
   "mimetype": "text/x-python",
   "name": "python",
   "nbconvert_exporter": "python",
   "pygments_lexer": "ipython3",
   "version": "3.11.9"
  }
 },
 "nbformat": 4,
 "nbformat_minor": 2
}
