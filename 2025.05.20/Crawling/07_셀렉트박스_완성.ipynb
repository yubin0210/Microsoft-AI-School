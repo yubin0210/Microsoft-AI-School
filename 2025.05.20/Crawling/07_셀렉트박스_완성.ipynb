{
 "cells": [
  {
   "cell_type": "code",
   "execution_count": null,
   "id": "8bcc4a3a",
   "metadata": {},
   "outputs": [],
   "source": [
    "from selenium import webdriver\n",
    "from selenium.webdriver.common.by import By\n",
    "from selenium.webdriver.common.keys import Keys\n",
    "import pandas as pd\n",
    "import time\n",
    "import openpyxl\n",
    "\n",
    "\n",
    "url = \"https://library.gangnam.go.kr/intro/menu/10046/bbs/20001/bbsPostList.do\"\n",
    "driver = webdriver.Chrome()\n",
    "driver.get(url)\n",
    "driver.maximize_window()\n"
   ]
  },
  {
   "cell_type": "code",
   "execution_count": null,
   "id": "f64c82b3",
   "metadata": {},
   "outputs": [],
   "source": [
    "# -----------------------\n",
    "# 셀렉트박스 요소 찾기\n",
    "# -----------------------\n",
    "select_element = driver.find_element(By.CSS_SELECTOR, '#manageCd')\n",
    "\n",
    "# -----------------------\n",
    "# 셀렉트박스 객체 생성\n",
    "# -----------------------\n",
    "from selenium.webdriver.support.ui import Select\n",
    "select_box  = Select(select_element)\n",
    "\n",
    "# -----------------------\n",
    "# 셀렉트박스 옵션 선택 - value로 선택\n",
    "# -----------------------\n",
    "select_box.select_by_value('MA')  # value=\"MA\"인 항목 선택\n",
    "time.sleep(1)\n",
    "\n",
    "# -----------------------\n",
    "# 셀렉트박스 옵션 선택 - 텍스트로 선택\n",
    "# -----------------------\n",
    "select_box.select_by_visible_text('개포하늘꿈도서관')  # 화면에 보이는 이름 기준 선택\n",
    "time.sleep(1)\n",
    "\n",
    "# -----------------------\n",
    "# 셀렉트박스 옵션 선택 - 인덱스로 선택\n",
    "# -----------------------\n",
    "select_box.select_by_index(1)  # 두 번째 항목 선택\n",
    "time.sleep(1)"
   ]
  }
 ],
 "metadata": {
  "kernelspec": {
   "display_name": ".venv",
   "language": "python",
   "name": "python3"
  },
  "language_info": {
   "codemirror_mode": {
    "name": "ipython",
    "version": 3
   },
   "file_extension": ".py",
   "mimetype": "text/x-python",
   "name": "python",
   "nbconvert_exporter": "python",
   "pygments_lexer": "ipython3",
   "version": "3.13.1"
  }
 },
 "nbformat": 4,
 "nbformat_minor": 5
}
