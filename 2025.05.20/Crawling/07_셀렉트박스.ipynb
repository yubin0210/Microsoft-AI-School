{
 "cells": [
  {
   "cell_type": "code",
   "execution_count": 2,
   "id": "8bcc4a3a",
   "metadata": {},
   "outputs": [],
   "source": [
    "from selenium import webdriver\n",
    "from selenium.webdriver.common.by import By\n",
    "from selenium.webdriver.common.keys import Keys\n",
    "import pandas as pd\n",
    "import time\n",
    "import openpyxl\n",
    "\n",
    "\n",
    "url = \"https://library.gangnam.go.kr/intro/menu/10046/bbs/20001/bbsPostList.do\"\n",
    "driver = webdriver.Chrome()\n",
    "driver.get(url)\n",
    "driver.maximize_window()\n"
   ]
  },
  {
   "cell_type": "code",
   "execution_count": 5,
   "id": "f64c82b3",
   "metadata": {},
   "outputs": [],
   "source": [
    "# -----------------------\n",
    "# 셀렉트박스 요소 찾기\n",
    "# -----------------------\n",
    "library_element = driver.find_element(By.ID, \"manageCd\")\n",
    "\n",
    "# -----------------------\n",
    "# 셀렉트박스 객체 생성\n",
    "# -----------------------\n",
    "from selenium.webdriver.support.ui import Select\n",
    "\n",
    "library_select_element = Select(library_element)\n",
    "\n",
    "# -----------------------\n",
    "# 셀렉트박스 옵션 선택 - value로 선택\n",
    "# -----------------------\n",
    "library_select_element.select_by_value(\"MA\")\n",
    "\n",
    "# -----------------------\n",
    "# 셀렉트박스 옵션 선택 - 텍스트로 선택\n",
    "# -----------------------\n",
    "library_select_element.select_by_visible_text(\"역삼도서관\")\n",
    "\n",
    "# -----------------------\n",
    "# 셀렉트박스 옵션 선택 - 인덱스로 선택\n",
    "# -----------------------\n",
    "library_select_element.select_by_index(0)"
   ]
  }
 ],
 "metadata": {
  "kernelspec": {
   "display_name": ".venv",
   "language": "python",
   "name": "python3"
  },
  "language_info": {
   "codemirror_mode": {
    "name": "ipython",
    "version": 3
   },
   "file_extension": ".py",
   "mimetype": "text/x-python",
   "name": "python",
   "nbconvert_exporter": "python",
   "pygments_lexer": "ipython3",
   "version": "3.11.9"
  }
 },
 "nbformat": 4,
 "nbformat_minor": 5
}
